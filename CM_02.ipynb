{
 "cells": [
  {
   "cell_type": "code",
   "execution_count": 1,
   "metadata": {},
   "outputs": [],
   "source": [
    "# imprescindible\n",
    "import pandas as pd\n",
    "import numpy as np\n",
    "\n",
    "# to avoid some warnings messages\n",
    "import warnings\n",
    "warnings.filterwarnings('ignore')\n",
    "\n",
    "# to draw some graphs\n",
    "import seaborn as sns\n",
    "import matplotlib.pyplot as plt\n",
    "\n",
    "# set seaborn and matplotlib default theme\n",
    "sns.set_theme()\n",
    "_sns_plotting_contex_ = sns.plotting_context()\n",
    "sns.plotting_context('poster')\n",
    "\n",
    "# set seaborn and matplotlib style to ...\n",
    "# plt.style.use('classic')\n",
    "sns.mpl.rcParams['axes.titlesize'] = 18\n",
    "sns.mpl.rcParams['axes.labelsize'] = 14\n",
    "\n",
    "# to use HTML codes within IPpython.display function\n",
    "from IPython.display import HTML\n",
    "\n"
   ]
  },
  {
   "cell_type": "code",
   "execution_count": 26,
   "metadata": {},
   "outputs": [],
   "source": [
    "def set_figure(row, col, suptitle=None) :\n",
    "    u''' Activate matplot figure setting size and super title\n",
    "    '''\n",
    "    fig = plt.figure(figsize=(row, col));\n",
    "    if suptitle != None :\n",
    "        fig.suptitle(suptitle, \n",
    "                     verticalalignment='center', fontsize='xx-large', fontweight='extra bold');\n",
    "    return fig"
   ]
  },
  {
   "cell_type": "code",
   "execution_count": 12,
   "metadata": {},
   "outputs": [
    {
     "data": {
      "text/html": [
       "<b>Naive Bayes Gaussian</b>"
      ],
      "text/plain": [
       "<IPython.core.display.HTML object>"
      ]
     },
     "metadata": {},
     "output_type": "display_data"
    },
    {
     "name": "stdout",
     "output_type": "stream",
     "text": [
      "              precision    recall  f1-score   support\n",
      "\n",
      "           0   0.968750  0.009018  0.017870      6875\n",
      "           1   0.050661  0.142857  0.074797       161\n",
      "           2   0.000000  0.000000  0.000000         0\n",
      "\n",
      "    accuracy                       0.012081      7036\n",
      "   macro avg   0.339804  0.050625  0.030889      7036\n",
      "weighted avg   0.947742  0.012081  0.019173      7036\n",
      "\n"
     ]
    },
    {
     "data": {
      "text/html": [
       "<b>Random Forest Classifier</b>"
      ],
      "text/plain": [
       "<IPython.core.display.HTML object>"
      ]
     },
     "metadata": {},
     "output_type": "display_data"
    },
    {
     "name": "stdout",
     "output_type": "stream",
     "text": [
      "              precision    recall  f1-score   support\n",
      "\n",
      "           0   0.979063  0.999855  0.989349      6875\n",
      "           1   0.000000  0.000000  0.000000       161\n",
      "           2   0.000000  0.000000  0.000000         0\n",
      "\n",
      "    accuracy                       0.976976      7036\n",
      "   macro avg   0.326354  0.333285  0.329783      7036\n",
      "weighted avg   0.956660  0.976976  0.966711      7036\n",
      "\n"
     ]
    },
    {
     "data": {
      "text/html": [
       "<b>Gradient Boosting Classifier</b>"
      ],
      "text/plain": [
       "<IPython.core.display.HTML object>"
      ]
     },
     "metadata": {},
     "output_type": "display_data"
    },
    {
     "name": "stdout",
     "output_type": "stream",
     "text": [
      "              precision    recall  f1-score   support\n",
      "\n",
      "           0   0.984609  0.995636  0.990092      6875\n",
      "           1   0.576923  0.186335  0.281690       161\n",
      "           2   0.000000  0.000000  0.000000         0\n",
      "\n",
      "    accuracy                       0.977118      7036\n",
      "   macro avg   0.520511  0.393991  0.423927      7036\n",
      "weighted avg   0.975280  0.977118  0.973882      7036\n",
      "\n"
     ]
    }
   ],
   "source": [
    "X_test = test_raw.iloc[:,0:280]\n",
    "y_test = test_raw.iloc[:,-1]\n",
    "\n",
    "y_test = y_test.apply(lambda v : 0 if v <= 50 else 1)\n",
    "\n",
    "# using train scaler\n",
    "X_test = scaler.transform(X_test)\n",
    "\n",
    "for m in models :\n",
    "    y_pred = m.model.predict(X_test)\n",
    "    display(HTML('<b>' + m.name + '</b>'))\n",
    "    print(classification_report(y_test, y_pred, digits=6, target_names=None, output_dict=False))\n"
   ]
  },
  {
   "cell_type": "code",
   "execution_count": 16,
   "metadata": {},
   "outputs": [],
   "source": [
    "\n",
    "from sklearn.preprocessing import StandardScaler\n",
    "\n",
    "from sklearn.naive_bayes import GaussianNB\n",
    "from sklearn.ensemble import RandomForestClassifier\n",
    "from sklearn.ensemble import GradientBoostingClassifier\n",
    "from sklearn.metrics import classification_report\n",
    "from sklearn.metrics import confusion_matrix"
   ]
  },
  {
   "cell_type": "markdown",
   "metadata": {},
   "source": [
    "### Data"
   ]
  },
  {
   "cell_type": "code",
   "execution_count": 3,
   "metadata": {
    "scrolled": true
   },
   "outputs": [],
   "source": [
    "data_raw = pd.read_csv(\"./data/blogData_train.csv\", header=None)\n",
    "data_raw.drop_duplicates(inplace=True)"
   ]
  },
  {
   "cell_type": "code",
   "execution_count": 4,
   "metadata": {},
   "outputs": [
    {
     "data": {
      "text/plain": [
       "(49203, 281)"
      ]
     },
     "execution_count": 4,
     "metadata": {},
     "output_type": "execute_result"
    }
   ],
   "source": [
    "data_raw.shape"
   ]
  },
  {
   "cell_type": "code",
   "execution_count": 5,
   "metadata": {},
   "outputs": [],
   "source": [
    "to_classes = lambda v : 0 if v <= 50 else (1 if v <= 100 else (2 if v <= 150 else (3 if v <= 200 else 4)))"
   ]
  },
  {
   "cell_type": "code",
   "execution_count": 6,
   "metadata": {},
   "outputs": [],
   "source": [
    "X_train = data_raw.iloc[:,0:280]\n",
    "y_train = data_raw.iloc[:,-1]\n",
    "\n",
    "y_train = y_train.apply(to_classes)"
   ]
  },
  {
   "cell_type": "code",
   "execution_count": 7,
   "metadata": {},
   "outputs": [],
   "source": [
    "scaler = StandardScaler()\n",
    "scaler.fit(X_train)\n",
    "X_train = scaler.transform(X_train)"
   ]
  },
  {
   "cell_type": "code",
   "execution_count": 8,
   "metadata": {},
   "outputs": [],
   "source": [
    "# RMSE = lambda v: round(np.sqrt(v), 4)\n",
    "\n",
    "class Model :\n",
    "    def __init__(self, name, model) :\n",
    "        self.name = name\n",
    "        self.model = model\n",
    "        return    \n"
   ]
  },
  {
   "cell_type": "code",
   "execution_count": null,
   "metadata": {},
   "outputs": [],
   "source": []
  },
  {
   "cell_type": "code",
   "execution_count": 9,
   "metadata": {},
   "outputs": [
    {
     "data": {
      "text/html": [
       "<b>Naive Bayes Gaussian</b>"
      ],
      "text/plain": [
       "<IPython.core.display.HTML object>"
      ]
     },
     "metadata": {},
     "output_type": "display_data"
    },
    {
     "name": "stdout",
     "output_type": "stream",
     "text": [
      "              precision    recall  f1-score   support\n",
      "\n",
      "           0   1.000000  0.013303  0.026257     47884\n",
      "           1   0.027010  0.075949  0.039848       553\n",
      "           2   0.014075  0.080972  0.023981       247\n",
      "           3   0.003125  0.985714  0.006230       140\n",
      "           4   0.037167  0.139842  0.058726       379\n",
      "\n",
      "    accuracy                       0.018088     49203\n",
      "   macro avg   0.216275  0.259156  0.031008     49203\n",
      "weighted avg   0.973862  0.018088  0.026591     49203\n",
      "\n"
     ]
    },
    {
     "data": {
      "text/html": [
       "<b>Random Forest Classifier</b>"
      ],
      "text/plain": [
       "<IPython.core.display.HTML object>"
      ]
     },
     "metadata": {},
     "output_type": "display_data"
    },
    {
     "name": "stdout",
     "output_type": "stream",
     "text": [
      "              precision    recall  f1-score   support\n",
      "\n",
      "           0   0.976776  0.999561  0.988037     47884\n",
      "           1   0.000000  0.000000  0.000000       553\n",
      "           2   0.000000  0.000000  0.000000       247\n",
      "           3   0.000000  0.000000  0.000000       140\n",
      "           4   0.668317  0.356201  0.464716       379\n",
      "\n",
      "    accuracy                       0.975510     49203\n",
      "   macro avg   0.329019  0.271152  0.290551     49203\n",
      "weighted avg   0.955739  0.975510  0.965130     49203\n",
      "\n"
     ]
    },
    {
     "data": {
      "text/html": [
       "<b>Gradient Boosting Classifier</b>"
      ],
      "text/plain": [
       "<IPython.core.display.HTML object>"
      ]
     },
     "metadata": {},
     "output_type": "display_data"
    },
    {
     "name": "stdout",
     "output_type": "stream",
     "text": [
      "              precision    recall  f1-score   support\n",
      "\n",
      "           0   0.985919  0.998684  0.992260     47884\n",
      "           1   0.654709  0.264014  0.376289       553\n",
      "           2   0.886076  0.283401  0.429448       247\n",
      "           3   0.859155  0.435714  0.578199       140\n",
      "           4   0.822086  0.707124  0.760284       379\n",
      "\n",
      "    accuracy                       0.982989     49203\n",
      "   macro avg   0.841589  0.537788  0.627296     49203\n",
      "weighted avg   0.980072  0.982989  0.979547     49203\n",
      "\n"
     ]
    }
   ],
   "source": [
    "\n",
    "models = []\n",
    "models.append( Model('Naive Bayes Gaussian', \n",
    "                     GaussianNB() \n",
    "                    ) \n",
    "             )\n",
    "\n",
    "models.append( Model('Random Forest Classifier', \n",
    "                     RandomForestClassifier(\n",
    "                         n_estimators=100, \n",
    "                         criterion='gini', \n",
    "                         max_depth=3, \n",
    "                         bootstrap=True, \n",
    "                         n_jobs=-1, \n",
    "                         max_samples=0.3, \n",
    "                         random_state=127\n",
    "                     ) \n",
    "                    ) \n",
    "             )\n",
    "\n",
    "models.append( Model('Gradient Boosting Classifier', \n",
    "                     GradientBoostingClassifier(\n",
    "                         # loss='log_loss', # loss function to optimize ???\n",
    "                         learning_rate=0.1, # contribution of each tree\n",
    "                         n_estimators=100, # large values -> better performance\n",
    "                         subsample=1, #  values < 1.0 -> low variance and high bias\n",
    "                         criterion='friedman_mse', # measure the quality of a split\n",
    "                         max_depth=3, # tree depth limits the number of nodes\n",
    "                         random_state=127\n",
    "                     ) \n",
    "                    ) \n",
    "             )\n",
    "\n",
    "\n",
    "for m in models :\n",
    "    m.model.fit(X_train, y_train)\n",
    "    y_pred = m.model.predict(X_train)\n",
    "    display(HTML('<b>' + m.name + '</b>'))\n",
    "    print(classification_report(y_train, y_pred, digits=6, target_names=None, output_dict=False))\n"
   ]
  },
  {
   "cell_type": "code",
   "execution_count": 28,
   "metadata": {},
   "outputs": [
    {
     "data": {
      "image/png": "[encoded data removed]",
      "text/plain": [
       "<Figure size 1440x720 with 3 Axes>"
      ]
     },
     "metadata": {},
     "output_type": "display_data"
    }
   ],
   "source": [
    "fig = set_figure(20, 10, 'Matrices de confusión')\n",
    "cols = 3\n",
    "rows = (len(models) // cols) + 1\n",
    "\n",
    "for i, m in enumerate(models) :\n",
    "    y_pred = m.model.predict(X_train)\n",
    "    \n",
    "    plt.subplot(rows, cols, i+1)\n",
    "    ax=sns.heatmap(confusion_matrix(y_train, y_pred), annot=True, fmt=\"d\", cmap='Blues', cbar=False)\n",
    "    plt.tight_layout();\n",
    "    plt.title(m.name);\n",
    "    plt.ylabel('Actual Values')\n",
    "    plt.xlabel('Predicted Values')\n",
    "   \n"
   ]
  },
  {
   "cell_type": "markdown",
   "metadata": {},
   "source": [
    "---"
   ]
  },
  {
   "cell_type": "code",
   "execution_count": 10,
   "metadata": {},
   "outputs": [],
   "source": [
    "import os"
   ]
  },
  {
   "cell_type": "code",
   "execution_count": 11,
   "metadata": {},
   "outputs": [],
   "source": [
    "\n",
    "filepath = './data/test/'\n",
    "filelist = [os.path.join(filepath, filename) for filename in os.listdir(filepath) if os.path.isfile(os.path.join(filepath, filename))]\n"
   ]
  },
  {
   "cell_type": "code",
   "execution_count": 12,
   "metadata": {},
   "outputs": [
    {
     "data": {
      "text/plain": [
       "(7036, 281)"
      ]
     },
     "execution_count": 12,
     "metadata": {},
     "output_type": "execute_result"
    }
   ],
   "source": [
    "\n",
    "test_raw = pd.DataFrame()\n",
    "\n",
    "for filename in filelist :\n",
    "    temp_raw = pd.read_csv(filename, header=None)\n",
    "    temp_raw.drop_duplicates(inplace=True)\n",
    "    test_raw = test_raw.append(temp_raw)\n",
    "\n",
    "test_raw.shape"
   ]
  },
  {
   "cell_type": "code",
   "execution_count": 13,
   "metadata": {},
   "outputs": [
    {
     "data": {
      "text/html": [
       "<b>Naive Bayes Gaussian</b>"
      ],
      "text/plain": [
       "<IPython.core.display.HTML object>"
      ]
     },
     "metadata": {},
     "output_type": "display_data"
    },
    {
     "name": "stdout",
     "output_type": "stream",
     "text": [
      "              precision    recall  f1-score   support\n",
      "\n",
      "           0   0.946667  0.010327  0.020432      6875\n",
      "           1   0.026906  0.090909  0.041522        66\n",
      "           2   0.000000  0.000000  0.000000        36\n",
      "           3   0.002191  1.000000  0.004372        14\n",
      "           4   0.004651  0.022222  0.007692        45\n",
      "\n",
      "    accuracy                       0.013076      7036\n",
      "   macro avg   0.196083  0.224692  0.014804      7036\n",
      "weighted avg   0.925291  0.013076  0.020412      7036\n",
      "\n"
     ]
    },
    {
     "data": {
      "text/html": [
       "<b>Random Forest Classifier</b>"
      ],
      "text/plain": [
       "<IPython.core.display.HTML object>"
      ]
     },
     "metadata": {},
     "output_type": "display_data"
    },
    {
     "name": "stdout",
     "output_type": "stream",
     "text": [
      "              precision    recall  f1-score   support\n",
      "\n",
      "           0   0.978645  0.999855  0.989136      6875\n",
      "           1   0.000000  0.000000  0.000000        66\n",
      "           2   0.000000  0.000000  0.000000        36\n",
      "           3   0.000000  0.000000  0.000000        14\n",
      "           4   0.750000  0.200000  0.315789        45\n",
      "\n",
      "    accuracy                       0.978255      7036\n",
      "   macro avg   0.345729  0.239971  0.260985      7036\n",
      "weighted avg   0.961048  0.978255  0.968522      7036\n",
      "\n"
     ]
    },
    {
     "data": {
      "text/html": [
       "<b>Gradient Boosting Classifier</b>"
      ],
      "text/plain": [
       "<IPython.core.display.HTML object>"
      ]
     },
     "metadata": {},
     "output_type": "display_data"
    },
    {
     "name": "stdout",
     "output_type": "stream",
     "text": [
      "              precision    recall  f1-score   support\n",
      "\n",
      "           0   0.983456  0.994327  0.988862      6875\n",
      "           1   0.111111  0.060606  0.078431        66\n",
      "           2   0.153846  0.055556  0.081633        36\n",
      "           3   0.000000  0.000000  0.000000        14\n",
      "           4   0.529412  0.400000  0.455696        45\n",
      "\n",
      "    accuracy                       0.974986      7036\n",
      "   macro avg   0.355565  0.302098  0.320924      7036\n",
      "weighted avg   0.966167  0.974986  0.970302      7036\n",
      "\n"
     ]
    }
   ],
   "source": [
    "X_test = test_raw.iloc[:,0:280]\n",
    "y_test = test_raw.iloc[:,-1]\n",
    "\n",
    "y_test = y_test.apply(to_classes)\n",
    "\n",
    "# using train scaler\n",
    "X_test = scaler.transform(X_test)\n",
    "\n",
    "for m in models :\n",
    "    y_pred = m.model.predict(X_test)\n",
    "    display(HTML('<b>' + m.name + '</b>'))\n",
    "    print(classification_report(y_test, y_pred, digits=6, target_names=None, output_dict=False))\n"
   ]
  },
  {
   "cell_type": "markdown",
   "metadata": {},
   "source": [
    "---\n"
   ]
  },
  {
   "cell_type": "code",
   "execution_count": 14,
   "metadata": {},
   "outputs": [],
   "source": [
    "\n",
    "# esto aplica el/los modelos en cada archivo de test\n",
    "\n",
    "# for filename in filelist :\n",
    "#     temp_raw = pd.read_csv(filename, header=None)\n",
    "#     temp_raw.drop_duplicates(inplace=True)\n",
    "\n",
    "#     X_test = temp_raw.iloc[:,0:280]\n",
    "#     y_test = temp_raw.iloc[:,-1]\n",
    "\n",
    "#     y_test = y_test.apply(to_classes)\n",
    "\n",
    "#     # using train scaler\n",
    "#     X_test = scaler.transform(X_test)\n",
    "\n",
    "#     print('==================')\n",
    "#     for m in models :\n",
    "#         y_pred = m.model.predict(X_test)\n",
    "#         display(HTML('<b>' + m.name + '</b>'))\n",
    "#         print(classification_report(y_test, y_pred, digits=6, target_names=None, output_dict=False))\n"
   ]
  },
  {
   "cell_type": "code",
   "execution_count": null,
   "metadata": {},
   "outputs": [],
   "source": []
  }
 ],
 "metadata": {
  "kernelspec": {
   "display_name": "Python 3 (ipykernel)",
   "language": "python",
   "name": "python3"
  },
  "language_info": {
   "codemirror_mode": {
    "name": "ipython",
    "version": 3
   },
   "file_extension": ".py",
   "mimetype": "text/x-python",
   "name": "python",
   "nbconvert_exporter": "python",
   "pygments_lexer": "ipython3",
   "version": "3.9.7"
  }
 },
 "nbformat": 4,
 "nbformat_minor": 4
}
