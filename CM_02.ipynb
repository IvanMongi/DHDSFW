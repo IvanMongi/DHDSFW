{
 "cells": [
  {
   "cell_type": "code",
   "execution_count": 1,
   "metadata": {},
   "outputs": [],
   "source": [
    "# imprescindible\n",
    "import pandas as pd\n",
    "import numpy as np\n",
    "\n",
    "# to avoid some warnings messages\n",
    "import warnings\n",
    "warnings.filterwarnings('ignore')\n",
    "\n",
    "# to draw some graphs\n",
    "import seaborn as sns\n",
    "import matplotlib.pyplot as plt\n",
    "\n",
    "# set seaborn and matplotlib default theme\n",
    "sns.set_theme()\n",
    "_sns_plotting_contex_ = sns.plotting_context()\n",
    "sns.plotting_context('poster')\n",
    "\n",
    "# set seaborn and matplotlib style to ...\n",
    "# plt.style.use('classic')\n",
    "sns.mpl.rcParams['axes.titlesize'] = 18\n",
    "sns.mpl.rcParams['axes.labelsize'] = 14\n",
    "\n",
    "# to use HTML codes within IPpython.display function\n",
    "from IPython.display import HTML\n",
    "\n",
    "import os\n"
   ]
  },
  {
   "cell_type": "code",
   "execution_count": 2,
   "metadata": {},
   "outputs": [],
   "source": [
    "def set_figure(row, col, suptitle=None) :\n",
    "    u''' Activate matplot figure setting size and super title\n",
    "    '''\n",
    "    fig = plt.figure(figsize=(row, col));\n",
    "    if suptitle != None :\n",
    "        fig.suptitle(suptitle, \n",
    "                     verticalalignment='center', fontsize='xx-large', fontweight='extra bold');\n",
    "    return fig"
   ]
  },
  {
   "cell_type": "code",
   "execution_count": 3,
   "metadata": {},
   "outputs": [],
   "source": [
    "\n",
    "from sklearn.preprocessing import StandardScaler\n",
    "\n",
    "from sklearn.ensemble import RandomForestClassifier\n",
    "from sklearn.ensemble import GradientBoostingClassifier\n",
    "import xgboost as xgb\n",
    "from sklearn.metrics import classification_report\n",
    "from sklearn.metrics import confusion_matrix"
   ]
  },
  {
   "cell_type": "markdown",
   "metadata": {},
   "source": [
    "### Data"
   ]
  },
  {
   "cell_type": "code",
   "execution_count": 4,
   "metadata": {
    "scrolled": true
   },
   "outputs": [],
   "source": [
    "data_raw = pd.read_csv(\"./data/blogData_train.csv\", header=None)\n",
    "data_raw.drop_duplicates(inplace=True)"
   ]
  },
  {
   "cell_type": "code",
   "execution_count": 5,
   "metadata": {},
   "outputs": [
    {
     "data": {
      "text/plain": [
       "(49203, 281)"
      ]
     },
     "execution_count": 5,
     "metadata": {},
     "output_type": "execute_result"
    }
   ],
   "source": [
    "data_raw.shape"
   ]
  },
  {
   "cell_type": "code",
   "execution_count": 6,
   "metadata": {},
   "outputs": [],
   "source": [
    "# to_classes = lambda v : 0 if v < 30 else (1 if v < 90 else (2 if v < 150 else (3 if v < 210 else 4)))\n",
    "# to_classes = lambda v : 0 if v < 30 else (1 if v < 90 else 2)\n",
    "to_classes = lambda v : 0 if v < 30 else 1"
   ]
  },
  {
   "cell_type": "code",
   "execution_count": 7,
   "metadata": {},
   "outputs": [],
   "source": [
    "X_train = data_raw.iloc[:,0:280]\n",
    "y_train = data_raw.iloc[:,-1]\n",
    "\n",
    "y_train = y_train.apply(to_classes)"
   ]
  },
  {
   "cell_type": "code",
   "execution_count": 8,
   "metadata": {},
   "outputs": [],
   "source": [
    "scaler = StandardScaler()\n",
    "scaler.fit(X_train)\n",
    "X_train = scaler.transform(X_train)"
   ]
  },
  {
   "cell_type": "code",
   "execution_count": 9,
   "metadata": {},
   "outputs": [],
   "source": [
    "# RMSE = lambda v: round(np.sqrt(v), 4)\n",
    "\n",
    "class Model :\n",
    "    def __init__(self, name, model) :\n",
    "        self.name = name\n",
    "        self.model = model\n",
    "        return    \n"
   ]
  },
  {
   "cell_type": "code",
   "execution_count": null,
   "metadata": {},
   "outputs": [],
   "source": []
  },
  {
   "cell_type": "code",
   "execution_count": 10,
   "metadata": {},
   "outputs": [
    {
     "data": {
      "text/html": [
       "<b>XGB Classifier special 1 TRAIN</b>"
      ],
      "text/plain": [
       "<IPython.core.display.HTML object>"
      ]
     },
     "metadata": {},
     "output_type": "display_data"
    },
    {
     "name": "stdout",
     "output_type": "stream",
     "text": [
      "              precision    recall  f1-score   support\n",
      "\n",
      "           0   0.985262  0.996764  0.990980     47284\n",
      "           1   0.888076  0.632621  0.738892      1919\n",
      "\n",
      "    accuracy                       0.982562     49203\n",
      "   macro avg   0.936669  0.814693  0.864936     49203\n",
      "weighted avg   0.981472  0.982562  0.981148     49203\n",
      "\n"
     ]
    },
    {
     "data": {
      "text/html": [
       "<b>XGB Classifier special 2 TRAIN</b>"
      ],
      "text/plain": [
       "<IPython.core.display.HTML object>"
      ]
     },
     "metadata": {},
     "output_type": "display_data"
    },
    {
     "name": "stdout",
     "output_type": "stream",
     "text": [
      "              precision    recall  f1-score   support\n",
      "\n",
      "           0   0.985262  0.996764  0.990980     47284\n",
      "           1   0.888076  0.632621  0.738892      1919\n",
      "\n",
      "    accuracy                       0.982562     49203\n",
      "   macro avg   0.936669  0.814693  0.864936     49203\n",
      "weighted avg   0.981472  0.982562  0.981148     49203\n",
      "\n"
     ]
    },
    {
     "data": {
      "text/html": [
       "<b>XGB Classifier special 3 TRAIN</b>"
      ],
      "text/plain": [
       "<IPython.core.display.HTML object>"
      ]
     },
     "metadata": {},
     "output_type": "display_data"
    },
    {
     "name": "stdout",
     "output_type": "stream",
     "text": [
      "              precision    recall  f1-score   support\n",
      "\n",
      "           0   0.984893  0.996849  0.990835     47284\n",
      "           1   0.889219  0.623241  0.732843      1919\n",
      "\n",
      "    accuracy                       0.982278     49203\n",
      "   macro avg   0.937056  0.810045  0.861839     49203\n",
      "weighted avg   0.981161  0.982278  0.980773     49203\n",
      "\n"
     ]
    }
   ],
   "source": [
    "\n",
    "models = []\n",
    "\n",
    "\n",
    "# models.append( Model('XGB Classifier default *', \n",
    "#                      xgb.XGBClassifier(\n",
    "#                          eval_metric='auc', # \n",
    "#                          n_jobs=-1, # use all processors\n",
    "#                          objective='binary:logistic', # for binary classification \n",
    "#                          objective='multi:softprob', # for multi-class classification\n",
    "#                          random_state=127, \n",
    "#                      ) \n",
    "#                     ) \n",
    "#              )\n",
    "\n",
    "models.append( Model('XGB Classifier special 1', \n",
    "                     xgb.XGBClassifier(\n",
    "                         eval_metric='auc', # \n",
    "                         gamma=0, # (min_split_loss=0) minimum loss reduction\n",
    "                         learning_rate=0.1, # (eta=0.3) step size shrinkage\n",
    "                         max_depth=6, # maximum depth of tree\n",
    "                         n_estimators=100, # \n",
    "                         n_jobs=-1, # use all processors\n",
    "                         objective='binary:logistic', # for binary classification \n",
    "                         # objective='multi:softprob', # for multi-class classification\n",
    "                         random_state=127, \n",
    "                         # subsample=0.1, # prevents overfitting\n",
    "                     ) \n",
    "                    ) \n",
    "             )\n",
    "\n",
    "models.append( Model('XGB Classifier special 2', \n",
    "                     xgb.XGBClassifier(\n",
    "                         eval_metric='auc', # \n",
    "                         gamma=0, # (min_split_loss=0) minimum loss reduction\n",
    "                         learning_rate=0.1, # (eta) step size shrinkage\n",
    "                         max_depth=6, # maximum depth of tree\n",
    "                         n_estimators=500, # \n",
    "                         n_jobs=-1, # use all processors\n",
    "                         objective='binary:logistic', # for binary classification \n",
    "                         # objective='multi:softprob', # for multi-class classification\n",
    "                         random_state=127, \n",
    "                         # subsample=0.5, # prevents overfitting\n",
    "                     ) \n",
    "                    ) \n",
    "             )\n",
    "\n",
    "models.append( Model('XGB Classifier special 3', \n",
    "                     xgb.XGBClassifier(\n",
    "                         eval_metric='auc', # \n",
    "                         gamma=10, # (min_split_loss=0) minimum loss reduction\n",
    "                         learning_rate=0.1, # (eta) step size shrinkage\n",
    "                         max_depth=6, # maximum depth of tree\n",
    "                         n_estimators=100, # \n",
    "                         n_jobs=-1, # use all processors\n",
    "                         objective='binary:logistic', # for binary classification \n",
    "                         # objective='multi:softprob', # for multi-class classification\n",
    "                         random_state=127, \n",
    "                         # subsample=0.1, # prevents overfitting\n",
    "                     ) \n",
    "                    ) \n",
    "             )\n",
    "\n",
    "for m in models :\n",
    "    m.model.fit(X_train, y_train)\n",
    "    y_pred = m.model.predict(X_train)\n",
    "    display(HTML('<b>' + m.name + ' TRAIN</b>'))\n",
    "    print(classification_report(y_train, y_pred, digits=6, target_names=None, output_dict=False))\n"
   ]
  },
  {
   "cell_type": "code",
   "execution_count": 11,
   "metadata": {},
   "outputs": [],
   "source": [
    "# models[0].model.get_params()"
   ]
  },
  {
   "cell_type": "code",
   "execution_count": 12,
   "metadata": {},
   "outputs": [],
   "source": [
    "# fig = set_figure(20, 10, 'Matrices de confusión')\n",
    "# cols = 3\n",
    "# rows = (len(models) // cols) + 1\n",
    "\n",
    "# for i, m in enumerate(models) :\n",
    "#     y_pred = m.model.predict(X_train)\n",
    "    \n",
    "#     plt.subplot(rows, cols, i+1)\n",
    "#     ax=sns.heatmap(confusion_matrix(y_train, y_pred), annot=True, fmt=\"d\", cmap='Blues', cbar=False)\n",
    "#     plt.tight_layout();\n",
    "#     plt.title(m.name);\n",
    "#     plt.ylabel('Actual Values')\n",
    "#     plt.xlabel('Predicted Values')\n",
    "   \n"
   ]
  },
  {
   "cell_type": "markdown",
   "metadata": {},
   "source": [
    "---"
   ]
  },
  {
   "cell_type": "code",
   "execution_count": 13,
   "metadata": {},
   "outputs": [
    {
     "data": {
      "text/html": [
       "<b>XGB Classifier special 1 TEST</b>"
      ],
      "text/plain": [
       "<IPython.core.display.HTML object>"
      ]
     },
     "metadata": {},
     "output_type": "display_data"
    },
    {
     "name": "stdout",
     "output_type": "stream",
     "text": [
      "              precision    recall  f1-score   support\n",
      "\n",
      "           0   0.979161  0.995879  0.987449      6794\n",
      "           1   0.777778  0.404959  0.532609       242\n",
      "\n",
      "    accuracy                       0.975554      7036\n",
      "   macro avg   0.878469  0.700419  0.760029      7036\n",
      "weighted avg   0.972234  0.975554  0.971805      7036\n",
      "\n"
     ]
    },
    {
     "data": {
      "text/html": [
       "<b>XGB Classifier special 2 TEST</b>"
      ],
      "text/plain": [
       "<IPython.core.display.HTML object>"
      ]
     },
     "metadata": {},
     "output_type": "display_data"
    },
    {
     "name": "stdout",
     "output_type": "stream",
     "text": [
      "              precision    recall  f1-score   support\n",
      "\n",
      "           0   0.979161  0.995879  0.987449      6794\n",
      "           1   0.777778  0.404959  0.532609       242\n",
      "\n",
      "    accuracy                       0.975554      7036\n",
      "   macro avg   0.878469  0.700419  0.760029      7036\n",
      "weighted avg   0.972234  0.975554  0.971805      7036\n",
      "\n"
     ]
    },
    {
     "data": {
      "text/html": [
       "<b>XGB Classifier special 3 TEST</b>"
      ],
      "text/plain": [
       "<IPython.core.display.HTML object>"
      ]
     },
     "metadata": {},
     "output_type": "display_data"
    },
    {
     "name": "stdout",
     "output_type": "stream",
     "text": [
      "              precision    recall  f1-score   support\n",
      "\n",
      "           0   0.979574  0.995290  0.987369      6794\n",
      "           1   0.759398  0.417355  0.538667       242\n",
      "\n",
      "    accuracy                       0.975412      7036\n",
      "   macro avg   0.869486  0.706323  0.763018      7036\n",
      "weighted avg   0.972001  0.975412  0.971937      7036\n",
      "\n"
     ]
    }
   ],
   "source": [
    "\n",
    "filepath = './data/test/'\n",
    "filelist = [os.path.join(filepath, filename) for filename in os.listdir(filepath) if os.path.isfile(os.path.join(filepath, filename))]\n",
    "\n",
    "test_raw = pd.DataFrame()\n",
    "\n",
    "for filename in filelist :\n",
    "    temp_raw = pd.read_csv(filename, header=None)\n",
    "    temp_raw.drop_duplicates(inplace=True)\n",
    "    test_raw = test_raw.append(temp_raw)\n",
    "\n",
    "X_test = test_raw.iloc[:,0:280]\n",
    "y_test = test_raw.iloc[:,-1]\n",
    "\n",
    "y_test = y_test.apply(to_classes)\n",
    "\n",
    "# using train scaler\n",
    "X_test = scaler.transform(X_test)\n",
    "\n",
    "for m in models :\n",
    "    y_pred = m.model.predict(X_test)\n",
    "    display(HTML('<b>' + m.name + ' TEST</b>'))\n",
    "    print(classification_report(y_test, y_pred, digits=6, target_names=None, output_dict=False))\n"
   ]
  },
  {
   "cell_type": "markdown",
   "metadata": {},
   "source": [
    "---\n"
   ]
  },
  {
   "cell_type": "code",
   "execution_count": null,
   "metadata": {},
   "outputs": [],
   "source": []
  }
 ],
 "metadata": {
  "kernelspec": {
   "display_name": "Python 3 (ipykernel)",
   "language": "python",
   "name": "python3"
  },
  "language_info": {
   "codemirror_mode": {
    "name": "ipython",
    "version": 3
   },
   "file_extension": ".py",
   "mimetype": "text/x-python",
   "name": "python",
   "nbconvert_exporter": "python",
   "pygments_lexer": "ipython3",
   "version": "3.9.7"
  }
 },
 "nbformat": 4,
 "nbformat_minor": 4
}
