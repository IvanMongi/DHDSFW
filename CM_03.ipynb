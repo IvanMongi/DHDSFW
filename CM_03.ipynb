{
 "cells": [
  {
   "cell_type": "code",
   "execution_count": 1,
   "metadata": {},
   "outputs": [],
   "source": [
    "# imprescindible\n",
    "import pandas as pd\n",
    "import numpy as np\n",
    "\n",
    "# to avoid some warnings messages\n",
    "import warnings\n",
    "warnings.filterwarnings('ignore')\n",
    "\n",
    "# to draw some graphs\n",
    "import seaborn as sns\n",
    "import matplotlib.pyplot as plt\n",
    "\n",
    "# set seaborn and matplotlib default theme\n",
    "sns.set_theme()\n",
    "_sns_plotting_contex_ = sns.plotting_context()\n",
    "sns.plotting_context('poster')\n",
    "\n",
    "# set seaborn and matplotlib style to ...\n",
    "# plt.style.use('classic')\n",
    "sns.mpl.rcParams['axes.titlesize'] = 18\n",
    "sns.mpl.rcParams['axes.labelsize'] = 14\n",
    "\n",
    "# to use HTML codes within IPpython.display function\n",
    "from IPython.display import HTML\n",
    "\n"
   ]
  },
  {
   "cell_type": "code",
   "execution_count": 2,
   "metadata": {},
   "outputs": [],
   "source": [
    "def set_figure(row, col, suptitle=None) :\n",
    "    u''' Activate matplot figure setting size and super title\n",
    "    '''\n",
    "    fig = plt.figure(figsize=(row, col));\n",
    "    if suptitle != None :\n",
    "        fig.suptitle(suptitle, \n",
    "                     verticalalignment='center', fontsize='xx-large', fontweight='extra bold');\n",
    "    return fig"
   ]
  },
  {
   "cell_type": "code",
   "execution_count": 3,
   "metadata": {},
   "outputs": [],
   "source": [
    "\n",
    "from sklearn.preprocessing import StandardScaler\n",
    "\n",
    "from sklearn.naive_bayes import GaussianNB\n",
    "from sklearn.ensemble import RandomForestClassifier\n",
    "from sklearn.ensemble import GradientBoostingClassifier\n",
    "from sklearn.metrics import classification_report\n",
    "from sklearn.metrics import confusion_matrix"
   ]
  },
  {
   "cell_type": "markdown",
   "metadata": {},
   "source": [
    "### Data"
   ]
  },
  {
   "cell_type": "code",
   "execution_count": 4,
   "metadata": {
    "scrolled": true
   },
   "outputs": [],
   "source": [
    "data_raw = pd.read_csv(\"./data/blogData_train.csv\", header=None)\n",
    "data_raw.drop_duplicates(inplace=True)"
   ]
  },
  {
   "cell_type": "code",
   "execution_count": 5,
   "metadata": {},
   "outputs": [
    {
     "data": {
      "text/plain": [
       "(49203, 281)"
      ]
     },
     "execution_count": 5,
     "metadata": {},
     "output_type": "execute_result"
    }
   ],
   "source": [
    "data_raw.shape"
   ]
  },
  {
   "cell_type": "code",
   "execution_count": 6,
   "metadata": {},
   "outputs": [],
   "source": [
    "to_classes = lambda v : 0 if v <= 50 else (1 if v <= 100 else (2 if v <= 150 else (3 if v <= 200 else 4)))"
   ]
  },
  {
   "cell_type": "code",
   "execution_count": 7,
   "metadata": {},
   "outputs": [],
   "source": [
    "X_train = data_raw.iloc[:,50:280]\n",
    "y_train = data_raw.iloc[:,-1]\n",
    "\n",
    "y_train = y_train.apply(to_classes)"
   ]
  },
  {
   "cell_type": "code",
   "execution_count": 8,
   "metadata": {},
   "outputs": [],
   "source": [
    "scaler = StandardScaler()\n",
    "scaler.fit(X_train)\n",
    "X_train = scaler.transform(X_train)"
   ]
  },
  {
   "cell_type": "code",
   "execution_count": 9,
   "metadata": {},
   "outputs": [],
   "source": [
    "# RMSE = lambda v: round(np.sqrt(v), 4)\n",
    "\n",
    "class Model :\n",
    "    def __init__(self, name, model) :\n",
    "        self.name = name\n",
    "        self.model = model\n",
    "        return    \n"
   ]
  },
  {
   "cell_type": "code",
   "execution_count": null,
   "metadata": {},
   "outputs": [],
   "source": []
  },
  {
   "cell_type": "code",
   "execution_count": 10,
   "metadata": {},
   "outputs": [
    {
     "data": {
      "text/html": [
       "<b>Naive Bayes Gaussian</b>"
      ],
      "text/plain": [
       "<IPython.core.display.HTML object>"
      ]
     },
     "metadata": {},
     "output_type": "display_data"
    },
    {
     "name": "stdout",
     "output_type": "stream",
     "text": [
      "              precision    recall  f1-score   support\n",
      "\n",
      "           0   1.000000  0.013303  0.026257     47884\n",
      "           1   0.024259  0.065099  0.035346       553\n",
      "           2   0.014959  0.080972  0.025253       247\n",
      "           3   0.003167  0.985714  0.006313       140\n",
      "           4   0.018911  0.108179  0.032195       379\n",
      "\n",
      "    accuracy                       0.017722     49203\n",
      "   macro avg   0.212259  0.250654  0.025073     49203\n",
      "weighted avg   0.973695  0.017722  0.026343     49203\n",
      "\n"
     ]
    },
    {
     "data": {
      "text/html": [
       "<b>Random Forest Classifier</b>"
      ],
      "text/plain": [
       "<IPython.core.display.HTML object>"
      ]
     },
     "metadata": {},
     "output_type": "display_data"
    },
    {
     "name": "stdout",
     "output_type": "stream",
     "text": [
      "              precision    recall  f1-score   support\n",
      "\n",
      "           0   0.973193  1.000000  0.986414     47884\n",
      "           1   0.000000  0.000000  0.000000       553\n",
      "           2   0.000000  0.000000  0.000000       247\n",
      "           3   0.000000  0.000000  0.000000       140\n",
      "           4   0.000000  0.000000  0.000000       379\n",
      "\n",
      "    accuracy                       0.973193     49203\n",
      "   macro avg   0.194639  0.200000  0.197283     49203\n",
      "weighted avg   0.947104  0.973193  0.959971     49203\n",
      "\n"
     ]
    },
    {
     "data": {
      "text/html": [
       "<b>Gradient Boosting Classifier</b>"
      ],
      "text/plain": [
       "<IPython.core.display.HTML object>"
      ]
     },
     "metadata": {},
     "output_type": "display_data"
    },
    {
     "name": "stdout",
     "output_type": "stream",
     "text": [
      "              precision    recall  f1-score   support\n",
      "\n",
      "           0   0.983230  0.999102  0.991102     47884\n",
      "           1   0.776699  0.144665  0.243902       553\n",
      "           2   0.895522  0.242915  0.382166       247\n",
      "           3   0.966667  0.414286  0.580000       140\n",
      "           4   0.727848  0.606860  0.661871       379\n",
      "\n",
      "    accuracy                       0.981017     49203\n",
      "   macro avg   0.869993  0.481566  0.571808     49203\n",
      "weighted avg   0.978454  0.981017  0.975942     49203\n",
      "\n"
     ]
    }
   ],
   "source": [
    "\n",
    "models = []\n",
    "models.append( Model('Naive Bayes Gaussian', \n",
    "                     GaussianNB() \n",
    "                    ) \n",
    "             )\n",
    "\n",
    "models.append( Model('Random Forest Classifier', \n",
    "                     RandomForestClassifier(\n",
    "                         n_estimators=100, \n",
    "                         criterion='gini', \n",
    "                         max_depth=3, \n",
    "                         bootstrap=True, \n",
    "                         n_jobs=-1, \n",
    "                         max_samples=0.3, \n",
    "                         random_state=127\n",
    "                     ) \n",
    "                    ) \n",
    "             )\n",
    "\n",
    "models.append( Model('Gradient Boosting Classifier', \n",
    "                     GradientBoostingClassifier(\n",
    "                         # loss='log_loss', # loss function to optimize ???\n",
    "                         learning_rate=0.1, # contribution of each tree\n",
    "                         n_estimators=100, # large values -> better performance\n",
    "                         subsample=1, #  values < 1.0 -> low variance and high bias\n",
    "                         criterion='friedman_mse', # measure the quality of a split\n",
    "                         max_depth=3, # tree depth limits the number of nodes\n",
    "                         random_state=127\n",
    "                     ) \n",
    "                    ) \n",
    "             )\n",
    "\n",
    "\n",
    "for m in models :\n",
    "    m.model.fit(X_train, y_train)\n",
    "    y_pred = m.model.predict(X_train)\n",
    "    display(HTML('<b>' + m.name + '</b>'))\n",
    "    print(classification_report(y_train, y_pred, digits=6, target_names=None, output_dict=False))\n"
   ]
  },
  {
   "cell_type": "code",
   "execution_count": 11,
   "metadata": {},
   "outputs": [
    {
     "data": {
      "image/png": "[encoded data removed]",
      "text/plain": [
       "<Figure size 1440x720 with 3 Axes>"
      ]
     },
     "metadata": {},
     "output_type": "display_data"
    }
   ],
   "source": [
    "fig = set_figure(20, 10, 'Matrices de confusión')\n",
    "cols = 3\n",
    "rows = (len(models) // cols) + 1\n",
    "\n",
    "for i, m in enumerate(models) :\n",
    "    y_pred = m.model.predict(X_train)\n",
    "    \n",
    "    plt.subplot(rows, cols, i+1)\n",
    "    ax=sns.heatmap(confusion_matrix(y_train, y_pred), annot=True, fmt=\"d\", cmap='Blues', cbar=False)\n",
    "    plt.tight_layout();\n",
    "    plt.title(m.name);\n",
    "    plt.ylabel('Actual Values')\n",
    "    plt.xlabel('Predicted Values')\n",
    "   \n"
   ]
  },
  {
   "cell_type": "markdown",
   "metadata": {},
   "source": [
    "---"
   ]
  },
  {
   "cell_type": "code",
   "execution_count": 12,
   "metadata": {},
   "outputs": [],
   "source": [
    "import os"
   ]
  },
  {
   "cell_type": "code",
   "execution_count": 13,
   "metadata": {},
   "outputs": [],
   "source": [
    "\n",
    "filepath = './data/test/'\n",
    "filelist = [os.path.join(filepath, filename) for filename in os.listdir(filepath) if os.path.isfile(os.path.join(filepath, filename))]\n"
   ]
  },
  {
   "cell_type": "code",
   "execution_count": 14,
   "metadata": {},
   "outputs": [
    {
     "data": {
      "text/plain": [
       "(7036, 281)"
      ]
     },
     "execution_count": 14,
     "metadata": {},
     "output_type": "execute_result"
    }
   ],
   "source": [
    "\n",
    "test_raw = pd.DataFrame()\n",
    "\n",
    "for filename in filelist :\n",
    "    temp_raw = pd.read_csv(filename, header=None)\n",
    "    temp_raw.drop_duplicates(inplace=True)\n",
    "    test_raw = test_raw.append(temp_raw)\n",
    "\n",
    "test_raw.shape"
   ]
  },
  {
   "cell_type": "code",
   "execution_count": 15,
   "metadata": {},
   "outputs": [
    {
     "data": {
      "text/html": [
       "<b>Naive Bayes Gaussian</b>"
      ],
      "text/plain": [
       "<IPython.core.display.HTML object>"
      ]
     },
     "metadata": {},
     "output_type": "display_data"
    },
    {
     "name": "stdout",
     "output_type": "stream",
     "text": [
      "              precision    recall  f1-score   support\n",
      "\n",
      "           0   0.958333  0.010036  0.019865      6875\n",
      "           1   0.025000  0.075758  0.037594        66\n",
      "           2   0.000000  0.000000  0.000000        36\n",
      "           3   0.002041  0.928571  0.004073        14\n",
      "           4   0.003846  0.022222  0.006557        45\n",
      "\n",
      "    accuracy                       0.012507      7036\n",
      "   macro avg   0.197844  0.207318  0.013618      7036\n",
      "weighted avg   0.936668  0.012507  0.019813      7036\n",
      "\n"
     ]
    },
    {
     "data": {
      "text/html": [
       "<b>Random Forest Classifier</b>"
      ],
      "text/plain": [
       "<IPython.core.display.HTML object>"
      ]
     },
     "metadata": {},
     "output_type": "display_data"
    },
    {
     "name": "stdout",
     "output_type": "stream",
     "text": [
      "              precision    recall  f1-score   support\n",
      "\n",
      "           0   0.977118  1.000000  0.988426      6875\n",
      "           1   0.000000  0.000000  0.000000        66\n",
      "           2   0.000000  0.000000  0.000000        36\n",
      "           3   0.000000  0.000000  0.000000        14\n",
      "           4   0.000000  0.000000  0.000000        45\n",
      "\n",
      "    accuracy                       0.977118      7036\n",
      "   macro avg   0.195424  0.200000  0.197685      7036\n",
      "weighted avg   0.954759  0.977118  0.965809      7036\n",
      "\n"
     ]
    },
    {
     "data": {
      "text/html": [
       "<b>Gradient Boosting Classifier</b>"
      ],
      "text/plain": [
       "<IPython.core.display.HTML object>"
      ]
     },
     "metadata": {},
     "output_type": "display_data"
    },
    {
     "name": "stdout",
     "output_type": "stream",
     "text": [
      "              precision    recall  f1-score   support\n",
      "\n",
      "           0   0.981961  0.997673  0.989755      6875\n",
      "           1   0.125000  0.015152  0.027027        66\n",
      "           2   0.125000  0.027778  0.045455        36\n",
      "           3   0.000000  0.000000  0.000000        14\n",
      "           4   0.531250  0.377778  0.441558        45\n",
      "\n",
      "    accuracy                       0.977544      7036\n",
      "   macro avg   0.352642  0.283676  0.300759      7036\n",
      "weighted avg   0.964702  0.977544  0.970417      7036\n",
      "\n"
     ]
    }
   ],
   "source": [
    "X_test = test_raw.iloc[:,50:280]\n",
    "y_test = test_raw.iloc[:,-1]\n",
    "\n",
    "y_test = y_test.apply(to_classes)\n",
    "\n",
    "# using train scaler\n",
    "X_test = scaler.transform(X_test)\n",
    "\n",
    "for m in models :\n",
    "    y_pred = m.model.predict(X_test)\n",
    "    display(HTML('<b>' + m.name + '</b>'))\n",
    "    print(classification_report(y_test, y_pred, digits=6, target_names=None, output_dict=False))\n"
   ]
  },
  {
   "cell_type": "markdown",
   "metadata": {},
   "source": [
    "---\n"
   ]
  },
  {
   "cell_type": "code",
   "execution_count": 16,
   "metadata": {},
   "outputs": [],
   "source": [
    "\n",
    "# esto aplica el/los modelos en cada archivo de test\n",
    "\n",
    "# for filename in filelist :\n",
    "#     temp_raw = pd.read_csv(filename, header=None)\n",
    "#     temp_raw.drop_duplicates(inplace=True)\n",
    "\n",
    "#     X_test = temp_raw.iloc[:,0:280]\n",
    "#     y_test = temp_raw.iloc[:,-1]\n",
    "\n",
    "#     y_test = y_test.apply(to_classes)\n",
    "\n",
    "#     # using train scaler\n",
    "#     X_test = scaler.transform(X_test)\n",
    "\n",
    "#     print('==================')\n",
    "#     for m in models :\n",
    "#         y_pred = m.model.predict(X_test)\n",
    "#         display(HTML('<b>' + m.name + '</b>'))\n",
    "#         print(classification_report(y_test, y_pred, digits=6, target_names=None, output_dict=False))\n"
   ]
  },
  {
   "cell_type": "code",
   "execution_count": null,
   "metadata": {},
   "outputs": [],
   "source": []
  }
 ],
 "metadata": {
  "kernelspec": {
   "display_name": "Python 3 (ipykernel)",
   "language": "python",
   "name": "python3"
  },
  "language_info": {
   "codemirror_mode": {
    "name": "ipython",
    "version": 3
   },
   "file_extension": ".py",
   "mimetype": "text/x-python",
   "name": "python",
   "nbconvert_exporter": "python",
   "pygments_lexer": "ipython3",
   "version": "3.9.7"
  }
 },
 "nbformat": 4,
 "nbformat_minor": 4
}
