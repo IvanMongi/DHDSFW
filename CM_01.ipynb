{
 "cells": [
  {
   "cell_type": "code",
   "execution_count": 1,
   "metadata": {},
   "outputs": [],
   "source": [
    "# imprescindible\n",
    "import pandas as pd\n",
    "import numpy as np\n",
    "\n",
    "# to avoid some warnings messages\n",
    "import warnings\n",
    "warnings.filterwarnings('ignore')\n",
    "\n",
    "# to draw some graphs\n",
    "import seaborn as sns\n",
    "import matplotlib.pyplot as plt\n",
    "\n",
    "# set seaborn and matplotlib default theme\n",
    "sns.set_theme()\n",
    "_sns_plotting_contex_ = sns.plotting_context()\n",
    "sns.plotting_context('poster')\n",
    "\n",
    "# set seaborn and matplotlib style to ...\n",
    "# plt.style.use('classic')\n",
    "sns.mpl.rcParams['axes.titlesize'] = 18\n",
    "sns.mpl.rcParams['axes.labelsize'] = 14\n",
    "\n",
    "# to use HTML codes within IPpython.display function\n",
    "from IPython.display import HTML\n",
    "\n"
   ]
  },
  {
   "cell_type": "code",
   "execution_count": 2,
   "metadata": {},
   "outputs": [],
   "source": [
    "\n",
    "from sklearn.preprocessing import StandardScaler\n",
    "\n",
    "from sklearn.naive_bayes import GaussianNB\n",
    "from sklearn.ensemble import RandomForestClassifier\n",
    "from sklearn.ensemble import GradientBoostingClassifier\n",
    "from sklearn.metrics import classification_report"
   ]
  },
  {
   "cell_type": "markdown",
   "metadata": {},
   "source": [
    "### Data"
   ]
  },
  {
   "cell_type": "code",
   "execution_count": 3,
   "metadata": {
    "scrolled": true
   },
   "outputs": [],
   "source": [
    "data_raw = pd.read_csv(\"./data/blogData_train.csv\", header=None)\n",
    "data_raw.drop_duplicates(inplace=True)"
   ]
  },
  {
   "cell_type": "code",
   "execution_count": 4,
   "metadata": {},
   "outputs": [
    {
     "data": {
      "text/plain": [
       "(49203, 281)"
      ]
     },
     "execution_count": 4,
     "metadata": {},
     "output_type": "execute_result"
    }
   ],
   "source": [
    "data_raw.shape"
   ]
  },
  {
   "cell_type": "code",
   "execution_count": 5,
   "metadata": {},
   "outputs": [],
   "source": [
    "X_train = data_raw.iloc[:,0:280]\n",
    "y_train = data_raw.iloc[:,-1]\n",
    "\n",
    "y_train = y_train.apply(lambda v : 0 if v <= 50 else (1 if v <= 200 else 2) )"
   ]
  },
  {
   "cell_type": "code",
   "execution_count": 6,
   "metadata": {},
   "outputs": [],
   "source": [
    "scaler = StandardScaler()\n",
    "scaler.fit(X_train)\n",
    "X_train = scaler.transform(X_train)"
   ]
  },
  {
   "cell_type": "code",
   "execution_count": 7,
   "metadata": {},
   "outputs": [],
   "source": [
    "RMSE = lambda v: round(np.sqrt(v), 4)\n",
    "\n",
    "class Model :\n",
    "    def __init__(self, name, model) :\n",
    "        self.name = name\n",
    "        self.model = model\n",
    "        return    \n"
   ]
  },
  {
   "cell_type": "code",
   "execution_count": null,
   "metadata": {},
   "outputs": [],
   "source": []
  },
  {
   "cell_type": "code",
   "execution_count": 8,
   "metadata": {},
   "outputs": [
    {
     "data": {
      "text/html": [
       "<b>Naive Bayes Gaussian</b>"
      ],
      "text/plain": [
       "<IPython.core.display.HTML object>"
      ]
     },
     "metadata": {},
     "output_type": "display_data"
    },
    {
     "name": "stdout",
     "output_type": "stream",
     "text": [
      "              precision    recall  f1-score   support\n",
      "\n",
      "           0   1.000000  0.012405  0.024506     47884\n",
      "           1   0.031151  0.125532  0.049915       940\n",
      "           2   0.008456  1.000000  0.016770       379\n",
      "\n",
      "    accuracy                       0.022173     49203\n",
      "   macro avg   0.346536  0.379312  0.030397     49203\n",
      "weighted avg   0.973853  0.022173  0.024932     49203\n",
      "\n"
     ]
    },
    {
     "data": {
      "text/html": [
       "<b>Random Forest Classifier</b>"
      ],
      "text/plain": [
       "<IPython.core.display.HTML object>"
      ]
     },
     "metadata": {},
     "output_type": "display_data"
    },
    {
     "name": "stdout",
     "output_type": "stream",
     "text": [
      "              precision    recall  f1-score   support\n",
      "\n",
      "           0   0.976737  0.999582  0.988027     47884\n",
      "           1   0.000000  0.000000  0.000000       940\n",
      "           2   0.678392  0.356201  0.467128       379\n",
      "\n",
      "    accuracy                       0.975530     49203\n",
      "   macro avg   0.551710  0.451928  0.485052     49203\n",
      "weighted avg   0.955778  0.975530  0.965139     49203\n",
      "\n"
     ]
    },
    {
     "data": {
      "text/html": [
       "<b>Gradient Boosting Classifier</b>"
      ],
      "text/plain": [
       "<IPython.core.display.HTML object>"
      ]
     },
     "metadata": {},
     "output_type": "display_data"
    },
    {
     "name": "stdout",
     "output_type": "stream",
     "text": [
      "              precision    recall  f1-score   support\n",
      "\n",
      "           0   0.986898  0.997348  0.992096     47884\n",
      "           1   0.684418  0.369149  0.479613       940\n",
      "           2   0.839344  0.675462  0.748538       379\n",
      "\n",
      "    accuracy                       0.982867     49203\n",
      "   macro avg   0.836887  0.680653  0.740082     49203\n",
      "weighted avg   0.979983  0.982867  0.980429     49203\n",
      "\n"
     ]
    }
   ],
   "source": [
    "\n",
    "models = []\n",
    "models.append( Model('Naive Bayes Gaussian', \n",
    "                     GaussianNB() \n",
    "                    ) \n",
    "             )\n",
    "\n",
    "models.append( Model('Random Forest Classifier', \n",
    "                     RandomForestClassifier(\n",
    "                         n_estimators=100, \n",
    "                         criterion='gini', \n",
    "                         max_depth=3, \n",
    "                         bootstrap=True, \n",
    "                         n_jobs=-1, \n",
    "                         max_samples=0.3, \n",
    "                         random_state=127\n",
    "                     ) \n",
    "                    ) \n",
    "             )\n",
    "\n",
    "models.append( Model('Gradient Boosting Classifier', \n",
    "                     GradientBoostingClassifier(\n",
    "                         # loss='log_loss', # loss function to optimize ???\n",
    "                         learning_rate=0.1, # contribution of each tree\n",
    "                         n_estimators=100, # large values -> better performance\n",
    "                         subsample=1, #  values < 1.0 -> low variance and high bias\n",
    "                         criterion='friedman_mse', # measure the quality of a split\n",
    "                         max_depth=3, # tree depth limits the number of nodes\n",
    "                         random_state=127\n",
    "                     ) \n",
    "                    ) \n",
    "             )\n",
    "\n",
    "\n",
    "for m in models :\n",
    "    m.model.fit(X_train, y_train)\n",
    "    y_pred = m.model.predict(X_train)\n",
    "    display(HTML('<b>' + m.name + '</b>'))\n",
    "    print(classification_report(y_train, y_pred, digits=6, target_names=None, output_dict=False))\n",
    "    \n"
   ]
  },
  {
   "cell_type": "markdown",
   "metadata": {},
   "source": [
    "---"
   ]
  },
  {
   "cell_type": "code",
   "execution_count": 9,
   "metadata": {},
   "outputs": [],
   "source": [
    "import os"
   ]
  },
  {
   "cell_type": "code",
   "execution_count": 10,
   "metadata": {},
   "outputs": [],
   "source": [
    "\n",
    "filepath = './data/test/'\n",
    "filelist = [os.path.join(filepath, filename) for filename in os.listdir(filepath) if os.path.isfile(os.path.join(filepath, filename))]\n"
   ]
  },
  {
   "cell_type": "code",
   "execution_count": 11,
   "metadata": {},
   "outputs": [
    {
     "data": {
      "text/plain": [
       "(7036, 281)"
      ]
     },
     "execution_count": 11,
     "metadata": {},
     "output_type": "execute_result"
    }
   ],
   "source": [
    "\n",
    "test_raw = pd.DataFrame()\n",
    "\n",
    "for filename in filelist :\n",
    "    temp_raw = pd.read_csv(filename, header=None)\n",
    "    temp_raw.drop_duplicates(inplace=True)\n",
    "    test_raw = test_raw.append(temp_raw)\n",
    "\n",
    "test_raw.shape"
   ]
  },
  {
   "cell_type": "code",
   "execution_count": 15,
   "metadata": {},
   "outputs": [
    {
     "data": {
      "text/html": [
       "<b>Naive Bayes Gaussian</b>"
      ],
      "text/plain": [
       "<IPython.core.display.HTML object>"
      ]
     },
     "metadata": {},
     "output_type": "display_data"
    },
    {
     "name": "stdout",
     "output_type": "stream",
     "text": [
      "              precision    recall  f1-score   support\n",
      "\n",
      "           0   0.968750  0.009018  0.017870      6875\n",
      "           1   0.039648  0.155172  0.063158       116\n",
      "           2   0.006137  0.888889  0.012190        45\n",
      "\n",
      "    accuracy                       0.017055      7036\n",
      "   macro avg   0.338178  0.351026  0.031072      7036\n",
      "weighted avg   0.947276  0.017055  0.018580      7036\n",
      "\n"
     ]
    },
    {
     "data": {
      "text/html": [
       "<b>Random Forest Classifier</b>"
      ],
      "text/plain": [
       "<IPython.core.display.HTML object>"
      ]
     },
     "metadata": {},
     "output_type": "display_data"
    },
    {
     "name": "stdout",
     "output_type": "stream",
     "text": [
      "              precision    recall  f1-score   support\n",
      "\n",
      "           0   0.979063  0.999855  0.989349      6875\n",
      "           1   0.000000  0.000000  0.000000       116\n",
      "           2   0.800000  0.266667  0.400000        45\n",
      "\n",
      "    accuracy                       0.978681      7036\n",
      "   macro avg   0.593021  0.422174  0.463116      7036\n",
      "weighted avg   0.961776  0.978681  0.969269      7036\n",
      "\n"
     ]
    },
    {
     "data": {
      "text/html": [
       "<b>Gradient Boosting Classifier</b>"
      ],
      "text/plain": [
       "<IPython.core.display.HTML object>"
      ]
     },
     "metadata": {},
     "output_type": "display_data"
    },
    {
     "name": "stdout",
     "output_type": "stream",
     "text": [
      "              precision    recall  f1-score   support\n",
      "\n",
      "           0   0.984609  0.995636  0.990092      6875\n",
      "           1   0.423077  0.189655  0.261905       116\n",
      "           2   0.562500  0.400000  0.467532        45\n",
      "\n",
      "    accuracy                       0.978539      7036\n",
      "   macro avg   0.656729  0.528431  0.573176      7036\n",
      "weighted avg   0.972651  0.978539  0.974744      7036\n",
      "\n"
     ]
    }
   ],
   "source": [
    "X_test = test_raw.iloc[:,0:280]\n",
    "y_test = test_raw.iloc[:,-1]\n",
    "\n",
    "y_test = y_test.apply(lambda v : 0 if v <= 50 else (1 if v <= 200 else 2) )\n",
    "\n",
    "# using train scaler\n",
    "X_test = scaler.transform(X_test)\n",
    "\n",
    "for m in models :\n",
    "    y_pred = m.model.predict(X_test)\n",
    "    display(HTML('<b>' + m.name + '</b>'))\n",
    "    print(classification_report(y_test, y_pred, digits=6, target_names=None, output_dict=False))\n"
   ]
  },
  {
   "cell_type": "markdown",
   "metadata": {},
   "source": [
    "---\n"
   ]
  },
  {
   "cell_type": "code",
   "execution_count": 19,
   "metadata": {},
   "outputs": [
    {
     "name": "stdout",
     "output_type": "stream",
     "text": [
      "==================\n"
     ]
    },
    {
     "data": {
      "text/html": [
       "<b>Naive Bayes Gaussian</b>"
      ],
      "text/plain": [
       "<IPython.core.display.HTML object>"
      ]
     },
     "metadata": {},
     "output_type": "display_data"
    },
    {
     "name": "stdout",
     "output_type": "stream",
     "text": [
      "              precision    recall  f1-score   support\n",
      "\n",
      "           0   1.000000  0.009091  0.018018       110\n",
      "           1   0.125000  0.500000  0.200000         2\n",
      "           2   0.009615  1.000000  0.019048         1\n",
      "\n",
      "    accuracy                       0.026549       113\n",
      "   macro avg   0.378205  0.503030  0.079022       113\n",
      "weighted avg   0.975749  0.026549  0.021248       113\n",
      "\n"
     ]
    },
    {
     "data": {
      "text/html": [
       "<b>Random Forest Classifier</b>"
      ],
      "text/plain": [
       "<IPython.core.display.HTML object>"
      ]
     },
     "metadata": {},
     "output_type": "display_data"
    },
    {
     "name": "stdout",
     "output_type": "stream",
     "text": [
      "              precision    recall  f1-score   support\n",
      "\n",
      "           0   0.982143  1.000000  0.990991       110\n",
      "           1   0.000000  0.000000  0.000000         2\n",
      "           2   1.000000  1.000000  1.000000         1\n",
      "\n",
      "    accuracy                       0.982301       113\n",
      "   macro avg   0.660714  0.666667  0.663664       113\n",
      "weighted avg   0.964918  0.982301  0.973531       113\n",
      "\n"
     ]
    },
    {
     "data": {
      "text/html": [
       "<b>Gradient Boosting Classifier</b>"
      ],
      "text/plain": [
       "<IPython.core.display.HTML object>"
      ]
     },
     "metadata": {},
     "output_type": "display_data"
    },
    {
     "name": "stdout",
     "output_type": "stream",
     "text": [
      "              precision    recall  f1-score   support\n",
      "\n",
      "           0   0.982143  1.000000  0.990991       110\n",
      "           1   0.000000  0.000000  0.000000         2\n",
      "           2   1.000000  1.000000  1.000000         1\n",
      "\n",
      "    accuracy                       0.982301       113\n",
      "   macro avg   0.660714  0.666667  0.663664       113\n",
      "weighted avg   0.964918  0.982301  0.973531       113\n",
      "\n",
      "==================\n"
     ]
    },
    {
     "data": {
      "text/html": [
       "<b>Naive Bayes Gaussian</b>"
      ],
      "text/plain": [
       "<IPython.core.display.HTML object>"
      ]
     },
     "metadata": {},
     "output_type": "display_data"
    },
    {
     "name": "stdout",
     "output_type": "stream",
     "text": [
      "              precision    recall  f1-score   support\n",
      "\n",
      "           0   1.000000  0.007937  0.015748       126\n",
      "           1   0.111111  0.333333  0.166667         3\n",
      "           2   0.008333  1.000000  0.016529         1\n",
      "\n",
      "    accuracy                       0.023077       130\n",
      "   macro avg   0.373148  0.447090  0.066315       130\n",
      "weighted avg   0.971859  0.023077  0.019237       130\n",
      "\n"
     ]
    },
    {
     "data": {
      "text/html": [
       "<b>Random Forest Classifier</b>"
      ],
      "text/plain": [
       "<IPython.core.display.HTML object>"
      ]
     },
     "metadata": {},
     "output_type": "display_data"
    },
    {
     "name": "stdout",
     "output_type": "stream",
     "text": [
      "              precision    recall  f1-score   support\n",
      "\n",
      "           0   0.969231  1.000000  0.984375       126\n",
      "           1   0.000000  0.000000  0.000000         3\n",
      "           2   0.000000  0.000000  0.000000         1\n",
      "\n",
      "    accuracy                       0.969231       130\n",
      "   macro avg   0.323077  0.333333  0.328125       130\n",
      "weighted avg   0.939408  0.969231  0.954087       130\n",
      "\n"
     ]
    },
    {
     "data": {
      "text/html": [
       "<b>Gradient Boosting Classifier</b>"
      ],
      "text/plain": [
       "<IPython.core.display.HTML object>"
      ]
     },
     "metadata": {},
     "output_type": "display_data"
    },
    {
     "name": "stdout",
     "output_type": "stream",
     "text": [
      "              precision    recall  f1-score   support\n",
      "\n",
      "           0   0.976744  1.000000  0.988235       126\n",
      "           1   0.000000  0.000000  0.000000         3\n",
      "           2   1.000000  1.000000  1.000000         1\n",
      "\n",
      "    accuracy                       0.976923       130\n",
      "   macro avg   0.658915  0.666667  0.662745       130\n",
      "weighted avg   0.954383  0.976923  0.965520       130\n",
      "\n",
      "==================\n"
     ]
    },
    {
     "data": {
      "text/html": [
       "<b>Naive Bayes Gaussian</b>"
      ],
      "text/plain": [
       "<IPython.core.display.HTML object>"
      ]
     },
     "metadata": {},
     "output_type": "display_data"
    },
    {
     "name": "stdout",
     "output_type": "stream",
     "text": [
      "              precision    recall  f1-score   support\n",
      "\n",
      "           0   1.000000  0.008929  0.017699       112\n",
      "           1   0.090909  0.500000  0.153846         2\n",
      "           2   0.009709  1.000000  0.019231         1\n",
      "\n",
      "    accuracy                       0.026087       115\n",
      "   macro avg   0.366873  0.502976  0.063592       115\n",
      "weighted avg   0.975578  0.026087  0.020080       115\n",
      "\n"
     ]
    },
    {
     "data": {
      "text/html": [
       "<b>Random Forest Classifier</b>"
      ],
      "text/plain": [
       "<IPython.core.display.HTML object>"
      ]
     },
     "metadata": {},
     "output_type": "display_data"
    },
    {
     "name": "stdout",
     "output_type": "stream",
     "text": [
      "              precision    recall  f1-score   support\n",
      "\n",
      "           0   0.973913  1.000000  0.986784       112\n",
      "           1   0.000000  0.000000  0.000000         2\n",
      "           2   0.000000  0.000000  0.000000         1\n",
      "\n",
      "    accuracy                       0.973913       115\n",
      "   macro avg   0.324638  0.333333  0.328928       115\n",
      "weighted avg   0.948507  0.973913  0.961042       115\n",
      "\n"
     ]
    },
    {
     "data": {
      "text/html": [
       "<b>Gradient Boosting Classifier</b>"
      ],
      "text/plain": [
       "<IPython.core.display.HTML object>"
      ]
     },
     "metadata": {},
     "output_type": "display_data"
    },
    {
     "name": "stdout",
     "output_type": "stream",
     "text": [
      "              precision    recall  f1-score   support\n",
      "\n",
      "           0   1.000000  1.000000  1.000000       112\n",
      "           1   1.000000  1.000000  1.000000         2\n",
      "           2   1.000000  1.000000  1.000000         1\n",
      "\n",
      "    accuracy                       1.000000       115\n",
      "   macro avg   1.000000  1.000000  1.000000       115\n",
      "weighted avg   1.000000  1.000000  1.000000       115\n",
      "\n",
      "==================\n"
     ]
    },
    {
     "data": {
      "text/html": [
       "<b>Naive Bayes Gaussian</b>"
      ],
      "text/plain": [
       "<IPython.core.display.HTML object>"
      ]
     },
     "metadata": {},
     "output_type": "display_data"
    },
    {
     "name": "stdout",
     "output_type": "stream",
     "text": [
      "              precision    recall  f1-score   support\n",
      "\n",
      "           0   0.000000  0.000000  0.000000      99.0\n",
      "           1   0.000000  0.000000  0.000000       2.0\n",
      "           2   0.000000  0.000000  0.000000       0.0\n",
      "\n",
      "    accuracy                       0.000000     101.0\n",
      "   macro avg   0.000000  0.000000  0.000000     101.0\n",
      "weighted avg   0.000000  0.000000  0.000000     101.0\n",
      "\n"
     ]
    },
    {
     "data": {
      "text/html": [
       "<b>Random Forest Classifier</b>"
      ],
      "text/plain": [
       "<IPython.core.display.HTML object>"
      ]
     },
     "metadata": {},
     "output_type": "display_data"
    },
    {
     "name": "stdout",
     "output_type": "stream",
     "text": [
      "              precision    recall  f1-score   support\n",
      "\n",
      "           0   0.980198  1.000000  0.990000        99\n",
      "           1   0.000000  0.000000  0.000000         2\n",
      "\n",
      "    accuracy                       0.980198       101\n",
      "   macro avg   0.490099  0.500000  0.495000       101\n",
      "weighted avg   0.960788  0.980198  0.970396       101\n",
      "\n"
     ]
    },
    {
     "data": {
      "text/html": [
       "<b>Gradient Boosting Classifier</b>"
      ],
      "text/plain": [
       "<IPython.core.display.HTML object>"
      ]
     },
     "metadata": {},
     "output_type": "display_data"
    },
    {
     "name": "stdout",
     "output_type": "stream",
     "text": [
      "              precision    recall  f1-score   support\n",
      "\n",
      "           0   0.980198  1.000000  0.990000        99\n",
      "           1   0.000000  0.000000  0.000000         2\n",
      "\n",
      "    accuracy                       0.980198       101\n",
      "   macro avg   0.490099  0.500000  0.495000       101\n",
      "weighted avg   0.960788  0.980198  0.970396       101\n",
      "\n",
      "==================\n"
     ]
    },
    {
     "data": {
      "text/html": [
       "<b>Naive Bayes Gaussian</b>"
      ],
      "text/plain": [
       "<IPython.core.display.HTML object>"
      ]
     },
     "metadata": {},
     "output_type": "display_data"
    },
    {
     "name": "stdout",
     "output_type": "stream",
     "text": [
      "              precision    recall  f1-score   support\n",
      "\n",
      "           0   0.000000  0.000000  0.000000        89\n",
      "           1   0.000000  0.000000  0.000000         1\n",
      "           2   0.012048  1.000000  0.023810         1\n",
      "\n",
      "    accuracy                       0.010989        91\n",
      "   macro avg   0.004016  0.333333  0.007937        91\n",
      "weighted avg   0.000132  0.010989  0.000262        91\n",
      "\n"
     ]
    },
    {
     "data": {
      "text/html": [
       "<b>Random Forest Classifier</b>"
      ],
      "text/plain": [
       "<IPython.core.display.HTML object>"
      ]
     },
     "metadata": {},
     "output_type": "display_data"
    },
    {
     "name": "stdout",
     "output_type": "stream",
     "text": [
      "              precision    recall  f1-score   support\n",
      "\n",
      "           0   0.988889  1.000000  0.994413        89\n",
      "           1   0.000000  0.000000  0.000000         1\n",
      "           2   1.000000  1.000000  1.000000         1\n",
      "\n",
      "    accuracy                       0.989011        91\n",
      "   macro avg   0.662963  0.666667  0.664804        91\n",
      "weighted avg   0.978144  0.989011  0.983547        91\n",
      "\n"
     ]
    },
    {
     "data": {
      "text/html": [
       "<b>Gradient Boosting Classifier</b>"
      ],
      "text/plain": [
       "<IPython.core.display.HTML object>"
      ]
     },
     "metadata": {},
     "output_type": "display_data"
    },
    {
     "name": "stdout",
     "output_type": "stream",
     "text": [
      "              precision    recall  f1-score   support\n",
      "\n",
      "           0   0.988889  1.000000  0.994413        89\n",
      "           1   0.000000  0.000000  0.000000         1\n",
      "           2   1.000000  1.000000  1.000000         1\n",
      "\n",
      "    accuracy                       0.989011        91\n",
      "   macro avg   0.662963  0.666667  0.664804        91\n",
      "weighted avg   0.978144  0.989011  0.983547        91\n",
      "\n",
      "==================\n"
     ]
    },
    {
     "data": {
      "text/html": [
       "<b>Naive Bayes Gaussian</b>"
      ],
      "text/plain": [
       "<IPython.core.display.HTML object>"
      ]
     },
     "metadata": {},
     "output_type": "display_data"
    },
    {
     "name": "stdout",
     "output_type": "stream",
     "text": [
      "              precision    recall  f1-score   support\n",
      "\n",
      "           0   0.000000  0.000000  0.000000        81\n",
      "           1   0.000000  0.000000  0.000000         0\n",
      "           2   0.012658  1.000000  0.025000         1\n",
      "\n",
      "    accuracy                       0.012195        82\n",
      "   macro avg   0.004219  0.333333  0.008333        82\n",
      "weighted avg   0.000154  0.012195  0.000305        82\n",
      "\n"
     ]
    },
    {
     "data": {
      "text/html": [
       "<b>Random Forest Classifier</b>"
      ],
      "text/plain": [
       "<IPython.core.display.HTML object>"
      ]
     },
     "metadata": {},
     "output_type": "display_data"
    },
    {
     "name": "stdout",
     "output_type": "stream",
     "text": [
      "              precision    recall  f1-score   support\n",
      "\n",
      "           0   0.987805  1.000000  0.993865        81\n",
      "           2   0.000000  0.000000  0.000000         1\n",
      "\n",
      "    accuracy                       0.987805        82\n",
      "   macro avg   0.493902  0.500000  0.496933        82\n",
      "weighted avg   0.975758  0.987805  0.981745        82\n",
      "\n"
     ]
    },
    {
     "data": {
      "text/html": [
       "<b>Gradient Boosting Classifier</b>"
      ],
      "text/plain": [
       "<IPython.core.display.HTML object>"
      ]
     },
     "metadata": {},
     "output_type": "display_data"
    },
    {
     "name": "stdout",
     "output_type": "stream",
     "text": [
      "              precision    recall  f1-score   support\n",
      "\n",
      "           0   1.000000  1.000000  1.000000        81\n",
      "           2   1.000000  1.000000  1.000000         1\n",
      "\n",
      "    accuracy                       1.000000        82\n",
      "   macro avg   1.000000  1.000000  1.000000        82\n",
      "weighted avg   1.000000  1.000000  1.000000        82\n",
      "\n",
      "==================\n"
     ]
    },
    {
     "data": {
      "text/html": [
       "<b>Naive Bayes Gaussian</b>"
      ],
      "text/plain": [
       "<IPython.core.display.HTML object>"
      ]
     },
     "metadata": {},
     "output_type": "display_data"
    },
    {
     "name": "stdout",
     "output_type": "stream",
     "text": [
      "              precision    recall  f1-score   support\n",
      "\n",
      "           0   0.000000  0.000000  0.000000     100.0\n",
      "           1   0.000000  0.000000  0.000000       2.0\n",
      "           2   0.000000  0.000000  0.000000       0.0\n",
      "\n",
      "    accuracy                       0.000000     102.0\n",
      "   macro avg   0.000000  0.000000  0.000000     102.0\n",
      "weighted avg   0.000000  0.000000  0.000000     102.0\n",
      "\n"
     ]
    },
    {
     "data": {
      "text/html": [
       "<b>Random Forest Classifier</b>"
      ],
      "text/plain": [
       "<IPython.core.display.HTML object>"
      ]
     },
     "metadata": {},
     "output_type": "display_data"
    },
    {
     "name": "stdout",
     "output_type": "stream",
     "text": [
      "              precision    recall  f1-score   support\n",
      "\n",
      "           0   0.980392  1.000000  0.990099       100\n",
      "           1   0.000000  0.000000  0.000000         2\n",
      "\n",
      "    accuracy                       0.980392       102\n",
      "   macro avg   0.490196  0.500000  0.495050       102\n",
      "weighted avg   0.961169  0.980392  0.970685       102\n",
      "\n"
     ]
    },
    {
     "data": {
      "text/html": [
       "<b>Gradient Boosting Classifier</b>"
      ],
      "text/plain": [
       "<IPython.core.display.HTML object>"
      ]
     },
     "metadata": {},
     "output_type": "display_data"
    },
    {
     "name": "stdout",
     "output_type": "stream",
     "text": [
      "              precision    recall  f1-score   support\n",
      "\n",
      "           0   0.980000  0.980000  0.980000       100\n",
      "           1   0.000000  0.000000  0.000000         2\n",
      "           2   0.000000  0.000000  0.000000         0\n",
      "\n",
      "    accuracy                       0.960784       102\n",
      "   macro avg   0.326667  0.326667  0.326667       102\n",
      "weighted avg   0.960784  0.960784  0.960784       102\n",
      "\n",
      "==================\n"
     ]
    },
    {
     "data": {
      "text/html": [
       "<b>Naive Bayes Gaussian</b>"
      ],
      "text/plain": [
       "<IPython.core.display.HTML object>"
      ]
     },
     "metadata": {},
     "output_type": "display_data"
    },
    {
     "name": "stdout",
     "output_type": "stream",
     "text": [
      "              precision    recall  f1-score   support\n",
      "\n",
      "           0   0.000000  0.000000  0.000000       118\n",
      "           1   0.000000  0.000000  0.000000         2\n",
      "           2   0.017857  1.000000  0.035088         2\n",
      "\n",
      "    accuracy                       0.016393       122\n",
      "   macro avg   0.005952  0.333333  0.011696       122\n",
      "weighted avg   0.000293  0.016393  0.000575       122\n",
      "\n"
     ]
    },
    {
     "data": {
      "text/html": [
       "<b>Random Forest Classifier</b>"
      ],
      "text/plain": [
       "<IPython.core.display.HTML object>"
      ]
     },
     "metadata": {},
     "output_type": "display_data"
    },
    {
     "name": "stdout",
     "output_type": "stream",
     "text": [
      "              precision    recall  f1-score   support\n",
      "\n",
      "           0   0.975207  1.000000  0.987448       118\n",
      "           1   0.000000  0.000000  0.000000         2\n",
      "           2   1.000000  0.500000  0.666667         2\n",
      "\n",
      "    accuracy                       0.975410       122\n",
      "   macro avg   0.658402  0.500000  0.551371       122\n",
      "weighted avg   0.959626  0.975410  0.966001       122\n",
      "\n"
     ]
    },
    {
     "data": {
      "text/html": [
       "<b>Gradient Boosting Classifier</b>"
      ],
      "text/plain": [
       "<IPython.core.display.HTML object>"
      ]
     },
     "metadata": {},
     "output_type": "display_data"
    },
    {
     "name": "stdout",
     "output_type": "stream",
     "text": [
      "              precision    recall  f1-score   support\n",
      "\n",
      "           0   0.975207  1.000000  0.987448       118\n",
      "           1   0.000000  0.000000  0.000000         2\n",
      "           2   1.000000  0.500000  0.666667         2\n",
      "\n",
      "    accuracy                       0.975410       122\n",
      "   macro avg   0.658402  0.500000  0.551371       122\n",
      "weighted avg   0.959626  0.975410  0.966001       122\n",
      "\n",
      "==================\n"
     ]
    },
    {
     "data": {
      "text/html": [
       "<b>Naive Bayes Gaussian</b>"
      ],
      "text/plain": [
       "<IPython.core.display.HTML object>"
      ]
     },
     "metadata": {},
     "output_type": "display_data"
    },
    {
     "name": "stdout",
     "output_type": "stream",
     "text": [
      "              precision    recall  f1-score   support\n",
      "\n",
      "           0   0.000000  0.000000  0.000000       140\n",
      "           1   0.000000  0.000000  0.000000         3\n",
      "           2   0.007692  1.000000  0.015267         1\n",
      "\n",
      "    accuracy                       0.006944       144\n",
      "   macro avg   0.002564  0.333333  0.005089       144\n",
      "weighted avg   0.000053  0.006944  0.000106       144\n",
      "\n"
     ]
    },
    {
     "data": {
      "text/html": [
       "<b>Random Forest Classifier</b>"
      ],
      "text/plain": [
       "<IPython.core.display.HTML object>"
      ]
     },
     "metadata": {},
     "output_type": "display_data"
    },
    {
     "name": "stdout",
     "output_type": "stream",
     "text": [
      "              precision    recall  f1-score   support\n",
      "\n",
      "           0   0.972222  1.000000  0.985915       140\n",
      "           1   0.000000  0.000000  0.000000         3\n",
      "           2   0.000000  0.000000  0.000000         1\n",
      "\n",
      "    accuracy                       0.972222       144\n",
      "   macro avg   0.324074  0.333333  0.328638       144\n",
      "weighted avg   0.945216  0.972222  0.958529       144\n",
      "\n"
     ]
    },
    {
     "data": {
      "text/html": [
       "<b>Gradient Boosting Classifier</b>"
      ],
      "text/plain": [
       "<IPython.core.display.HTML object>"
      ]
     },
     "metadata": {},
     "output_type": "display_data"
    },
    {
     "name": "stdout",
     "output_type": "stream",
     "text": [
      "              precision    recall  f1-score   support\n",
      "\n",
      "           0   0.992908  1.000000  0.996441       140\n",
      "           1   1.000000  0.666667  0.800000         3\n",
      "           2   1.000000  1.000000  1.000000         1\n",
      "\n",
      "    accuracy                       0.993056       144\n",
      "   macro avg   0.997636  0.888889  0.932147       144\n",
      "weighted avg   0.993105  0.993056  0.992373       144\n",
      "\n",
      "==================\n"
     ]
    },
    {
     "data": {
      "text/html": [
       "<b>Naive Bayes Gaussian</b>"
      ],
      "text/plain": [
       "<IPython.core.display.HTML object>"
      ]
     },
     "metadata": {},
     "output_type": "display_data"
    },
    {
     "name": "stdout",
     "output_type": "stream",
     "text": [
      "              precision    recall  f1-score   support\n",
      "\n",
      "           0   0.000000  0.000000  0.000000       133\n",
      "           1   0.000000  0.000000  0.000000         1\n",
      "           2   0.008065  1.000000  0.016000         1\n",
      "\n",
      "    accuracy                       0.007407       135\n",
      "   macro avg   0.002688  0.333333  0.005333       135\n",
      "weighted avg   0.000060  0.007407  0.000119       135\n",
      "\n"
     ]
    },
    {
     "data": {
      "text/html": [
       "<b>Random Forest Classifier</b>"
      ],
      "text/plain": [
       "<IPython.core.display.HTML object>"
      ]
     },
     "metadata": {},
     "output_type": "display_data"
    },
    {
     "name": "stdout",
     "output_type": "stream",
     "text": [
      "              precision    recall  f1-score   support\n",
      "\n",
      "           0   0.985185  1.000000  0.992537       133\n",
      "           1   0.000000  0.000000  0.000000         1\n",
      "           2   0.000000  0.000000  0.000000         1\n",
      "\n",
      "    accuracy                       0.985185       135\n",
      "   macro avg   0.328395  0.333333  0.330846       135\n",
      "weighted avg   0.970590  0.985185  0.977833       135\n",
      "\n"
     ]
    },
    {
     "data": {
      "text/html": [
       "<b>Gradient Boosting Classifier</b>"
      ],
      "text/plain": [
       "<IPython.core.display.HTML object>"
      ]
     },
     "metadata": {},
     "output_type": "display_data"
    },
    {
     "name": "stdout",
     "output_type": "stream",
     "text": [
      "              precision    recall  f1-score   support\n",
      "\n",
      "           0   0.992537  1.000000  0.996255       133\n",
      "           1   0.000000  0.000000  0.000000         1\n",
      "           2   1.000000  1.000000  1.000000         1\n",
      "\n",
      "    accuracy                       0.992593       135\n",
      "   macro avg   0.664179  0.666667  0.665418       135\n",
      "weighted avg   0.985240  0.992593  0.988903       135\n",
      "\n",
      "==================\n"
     ]
    },
    {
     "data": {
      "text/html": [
       "<b>Naive Bayes Gaussian</b>"
      ],
      "text/plain": [
       "<IPython.core.display.HTML object>"
      ]
     },
     "metadata": {},
     "output_type": "display_data"
    },
    {
     "name": "stdout",
     "output_type": "stream",
     "text": [
      "              precision    recall  f1-score   support\n",
      "\n",
      "           0   1.000000  0.008197  0.016260       122\n",
      "           1   0.000000  0.000000  0.000000         0\n",
      "           2   0.000000  0.000000  0.000000         0\n",
      "\n",
      "    accuracy                       0.008197       122\n",
      "   macro avg   0.333333  0.002732  0.005420       122\n",
      "weighted avg   1.000000  0.008197  0.016260       122\n",
      "\n"
     ]
    },
    {
     "data": {
      "text/html": [
       "<b>Random Forest Classifier</b>"
      ],
      "text/plain": [
       "<IPython.core.display.HTML object>"
      ]
     },
     "metadata": {},
     "output_type": "display_data"
    },
    {
     "name": "stdout",
     "output_type": "stream",
     "text": [
      "              precision    recall  f1-score   support\n",
      "\n",
      "           0   1.000000  1.000000  1.000000       122\n",
      "\n",
      "    accuracy                       1.000000       122\n",
      "   macro avg   1.000000  1.000000  1.000000       122\n",
      "weighted avg   1.000000  1.000000  1.000000       122\n",
      "\n"
     ]
    },
    {
     "data": {
      "text/html": [
       "<b>Gradient Boosting Classifier</b>"
      ],
      "text/plain": [
       "<IPython.core.display.HTML object>"
      ]
     },
     "metadata": {},
     "output_type": "display_data"
    },
    {
     "name": "stdout",
     "output_type": "stream",
     "text": [
      "              precision    recall  f1-score   support\n",
      "\n",
      "           0   1.000000  0.991803  0.995885       122\n",
      "           1   0.000000  0.000000  0.000000         0\n",
      "\n",
      "    accuracy                       0.991803       122\n",
      "   macro avg   0.500000  0.495902  0.497942       122\n",
      "weighted avg   1.000000  0.991803  0.995885       122\n",
      "\n",
      "==================\n"
     ]
    },
    {
     "data": {
      "text/html": [
       "<b>Naive Bayes Gaussian</b>"
      ],
      "text/plain": [
       "<IPython.core.display.HTML object>"
      ]
     },
     "metadata": {},
     "output_type": "display_data"
    },
    {
     "name": "stdout",
     "output_type": "stream",
     "text": [
      "              precision    recall  f1-score   support\n",
      "\n",
      "           0   1.000000  0.010309  0.020408        97\n",
      "           1   0.000000  0.000000  0.000000         0\n",
      "           2   0.000000  0.000000  0.000000         0\n",
      "\n",
      "    accuracy                       0.010309        97\n",
      "   macro avg   0.333333  0.003436  0.006803        97\n",
      "weighted avg   1.000000  0.010309  0.020408        97\n",
      "\n"
     ]
    },
    {
     "data": {
      "text/html": [
       "<b>Random Forest Classifier</b>"
      ],
      "text/plain": [
       "<IPython.core.display.HTML object>"
      ]
     },
     "metadata": {},
     "output_type": "display_data"
    },
    {
     "name": "stdout",
     "output_type": "stream",
     "text": [
      "              precision    recall  f1-score   support\n",
      "\n",
      "           0   1.000000  1.000000  1.000000        97\n",
      "\n",
      "    accuracy                       1.000000        97\n",
      "   macro avg   1.000000  1.000000  1.000000        97\n",
      "weighted avg   1.000000  1.000000  1.000000        97\n",
      "\n"
     ]
    },
    {
     "data": {
      "text/html": [
       "<b>Gradient Boosting Classifier</b>"
      ],
      "text/plain": [
       "<IPython.core.display.HTML object>"
      ]
     },
     "metadata": {},
     "output_type": "display_data"
    },
    {
     "name": "stdout",
     "output_type": "stream",
     "text": [
      "              precision    recall  f1-score   support\n",
      "\n",
      "           0   1.000000  1.000000  1.000000        97\n",
      "\n",
      "    accuracy                       1.000000        97\n",
      "   macro avg   1.000000  1.000000  1.000000        97\n",
      "weighted avg   1.000000  1.000000  1.000000        97\n",
      "\n",
      "==================\n"
     ]
    },
    {
     "data": {
      "text/html": [
       "<b>Naive Bayes Gaussian</b>"
      ],
      "text/plain": [
       "<IPython.core.display.HTML object>"
      ]
     },
     "metadata": {},
     "output_type": "display_data"
    },
    {
     "name": "stdout",
     "output_type": "stream",
     "text": [
      "              precision    recall  f1-score   support\n",
      "\n",
      "           0   0.666667  0.022989  0.044444        87\n",
      "           1   0.000000  0.000000  0.000000         1\n",
      "           2   0.000000  0.000000  0.000000         0\n",
      "\n",
      "    accuracy                       0.022727        88\n",
      "   macro avg   0.222222  0.007663  0.014815        88\n",
      "weighted avg   0.659091  0.022727  0.043939        88\n",
      "\n"
     ]
    },
    {
     "data": {
      "text/html": [
       "<b>Random Forest Classifier</b>"
      ],
      "text/plain": [
       "<IPython.core.display.HTML object>"
      ]
     },
     "metadata": {},
     "output_type": "display_data"
    },
    {
     "name": "stdout",
     "output_type": "stream",
     "text": [
      "              precision    recall  f1-score   support\n",
      "\n",
      "           0   0.988636  1.000000  0.994286        87\n",
      "           1   0.000000  0.000000  0.000000         1\n",
      "\n",
      "    accuracy                       0.988636        88\n",
      "   macro avg   0.494318  0.500000  0.497143        88\n",
      "weighted avg   0.977402  0.988636  0.982987        88\n",
      "\n"
     ]
    },
    {
     "data": {
      "text/html": [
       "<b>Gradient Boosting Classifier</b>"
      ],
      "text/plain": [
       "<IPython.core.display.HTML object>"
      ]
     },
     "metadata": {},
     "output_type": "display_data"
    },
    {
     "name": "stdout",
     "output_type": "stream",
     "text": [
      "              precision    recall  f1-score   support\n",
      "\n",
      "           0   0.988636  1.000000  0.994286        87\n",
      "           1   0.000000  0.000000  0.000000         1\n",
      "\n",
      "    accuracy                       0.988636        88\n",
      "   macro avg   0.494318  0.500000  0.497143        88\n",
      "weighted avg   0.977402  0.988636  0.982987        88\n",
      "\n",
      "==================\n"
     ]
    },
    {
     "data": {
      "text/html": [
       "<b>Naive Bayes Gaussian</b>"
      ],
      "text/plain": [
       "<IPython.core.display.HTML object>"
      ]
     },
     "metadata": {},
     "output_type": "display_data"
    },
    {
     "name": "stdout",
     "output_type": "stream",
     "text": [
      "              precision    recall  f1-score   support\n",
      "\n",
      "           0   1.000000  0.021505  0.042105        93\n",
      "           1   0.000000  0.000000  0.000000         2\n",
      "           2   0.011364  1.000000  0.022472         1\n",
      "\n",
      "    accuracy                       0.031250        96\n",
      "   macro avg   0.337121  0.340502  0.021526        96\n",
      "weighted avg   0.968868  0.031250  0.041024        96\n",
      "\n"
     ]
    },
    {
     "data": {
      "text/html": [
       "<b>Random Forest Classifier</b>"
      ],
      "text/plain": [
       "<IPython.core.display.HTML object>"
      ]
     },
     "metadata": {},
     "output_type": "display_data"
    },
    {
     "name": "stdout",
     "output_type": "stream",
     "text": [
      "              precision    recall  f1-score   support\n",
      "\n",
      "           0   0.978723  0.989247  0.983957        93\n",
      "           1   0.000000  0.000000  0.000000         2\n",
      "           2   0.500000  1.000000  0.666667         1\n",
      "\n",
      "    accuracy                       0.968750        96\n",
      "   macro avg   0.492908  0.663082  0.550208        96\n",
      "weighted avg   0.953347  0.968750  0.960153        96\n",
      "\n"
     ]
    },
    {
     "data": {
      "text/html": [
       "<b>Gradient Boosting Classifier</b>"
      ],
      "text/plain": [
       "<IPython.core.display.HTML object>"
      ]
     },
     "metadata": {},
     "output_type": "display_data"
    },
    {
     "name": "stdout",
     "output_type": "stream",
     "text": [
      "              precision    recall  f1-score   support\n",
      "\n",
      "           0   0.989130  0.978495  0.983784        93\n",
      "           1   0.500000  0.500000  0.500000         2\n",
      "           2   0.500000  1.000000  0.666667         1\n",
      "\n",
      "    accuracy                       0.968750        96\n",
      "   macro avg   0.663043  0.826165  0.716817        96\n",
      "weighted avg   0.973845  0.968750  0.970402        96\n",
      "\n",
      "==================\n"
     ]
    },
    {
     "data": {
      "text/html": [
       "<b>Naive Bayes Gaussian</b>"
      ],
      "text/plain": [
       "<IPython.core.display.HTML object>"
      ]
     },
     "metadata": {},
     "output_type": "display_data"
    },
    {
     "name": "stdout",
     "output_type": "stream",
     "text": [
      "              precision    recall  f1-score   support\n",
      "\n",
      "           0   1.000000  0.016807  0.033058       119\n",
      "           1   0.166667  0.500000  0.250000         2\n",
      "           2   0.008696  0.500000  0.017094         2\n",
      "\n",
      "    accuracy                       0.032520       123\n",
      "   macro avg   0.391787  0.338936  0.100051       123\n",
      "weighted avg   0.970331  0.032520  0.036326       123\n",
      "\n"
     ]
    },
    {
     "data": {
      "text/html": [
       "<b>Random Forest Classifier</b>"
      ],
      "text/plain": [
       "<IPython.core.display.HTML object>"
      ]
     },
     "metadata": {},
     "output_type": "display_data"
    },
    {
     "name": "stdout",
     "output_type": "stream",
     "text": [
      "              precision    recall  f1-score   support\n",
      "\n",
      "           0   0.967480  1.000000  0.983471       119\n",
      "           1   0.000000  0.000000  0.000000         2\n",
      "           2   0.000000  0.000000  0.000000         2\n",
      "\n",
      "    accuracy                       0.967480       123\n",
      "   macro avg   0.322493  0.333333  0.327824       123\n",
      "weighted avg   0.936017  0.967480  0.951488       123\n",
      "\n"
     ]
    },
    {
     "data": {
      "text/html": [
       "<b>Gradient Boosting Classifier</b>"
      ],
      "text/plain": [
       "<IPython.core.display.HTML object>"
      ]
     },
     "metadata": {},
     "output_type": "display_data"
    },
    {
     "name": "stdout",
     "output_type": "stream",
     "text": [
      "              precision    recall  f1-score   support\n",
      "\n",
      "           0   0.967480  1.000000  0.983471       119\n",
      "           1   0.000000  0.000000  0.000000         2\n",
      "           2   0.000000  0.000000  0.000000         2\n",
      "\n",
      "    accuracy                       0.967480       123\n",
      "   macro avg   0.322493  0.333333  0.327824       123\n",
      "weighted avg   0.936017  0.967480  0.951488       123\n",
      "\n",
      "==================\n"
     ]
    },
    {
     "data": {
      "text/html": [
       "<b>Naive Bayes Gaussian</b>"
      ],
      "text/plain": [
       "<IPython.core.display.HTML object>"
      ]
     },
     "metadata": {},
     "output_type": "display_data"
    },
    {
     "name": "stdout",
     "output_type": "stream",
     "text": [
      "              precision    recall  f1-score   support\n",
      "\n",
      "           0   0.000000  0.000000  0.000000       134\n",
      "           1   0.125000  0.500000  0.200000         2\n",
      "           2   0.007752  1.000000  0.015385         1\n",
      "\n",
      "    accuracy                       0.014599       137\n",
      "   macro avg   0.044251  0.500000  0.071795       137\n",
      "weighted avg   0.001881  0.014599  0.003032       137\n",
      "\n"
     ]
    },
    {
     "data": {
      "text/html": [
       "<b>Random Forest Classifier</b>"
      ],
      "text/plain": [
       "<IPython.core.display.HTML object>"
      ]
     },
     "metadata": {},
     "output_type": "display_data"
    },
    {
     "name": "stdout",
     "output_type": "stream",
     "text": [
      "              precision    recall  f1-score   support\n",
      "\n",
      "           0   0.978102  1.000000  0.988930       134\n",
      "           1   0.000000  0.000000  0.000000         2\n",
      "           2   0.000000  0.000000  0.000000         1\n",
      "\n",
      "    accuracy                       0.978102       137\n",
      "   macro avg   0.326034  0.333333  0.329643       137\n",
      "weighted avg   0.956684  0.978102  0.967274       137\n",
      "\n"
     ]
    },
    {
     "data": {
      "text/html": [
       "<b>Gradient Boosting Classifier</b>"
      ],
      "text/plain": [
       "<IPython.core.display.HTML object>"
      ]
     },
     "metadata": {},
     "output_type": "display_data"
    },
    {
     "name": "stdout",
     "output_type": "stream",
     "text": [
      "              precision    recall  f1-score   support\n",
      "\n",
      "           0   0.985294  1.000000  0.992593       134\n",
      "           1   0.000000  0.000000  0.000000         2\n",
      "           2   0.000000  0.000000  0.000000         1\n",
      "\n",
      "    accuracy                       0.978102       137\n",
      "   macro avg   0.328431  0.333333  0.330864       137\n",
      "weighted avg   0.963718  0.978102  0.970857       137\n",
      "\n",
      "==================\n"
     ]
    },
    {
     "data": {
      "text/html": [
       "<b>Naive Bayes Gaussian</b>"
      ],
      "text/plain": [
       "<IPython.core.display.HTML object>"
      ]
     },
     "metadata": {},
     "output_type": "display_data"
    },
    {
     "name": "stdout",
     "output_type": "stream",
     "text": [
      "              precision    recall  f1-score   support\n",
      "\n",
      "           0   0.000000  0.000000  0.000000     134.0\n",
      "           1   0.000000  0.000000  0.000000       3.0\n",
      "           2   0.000000  0.000000  0.000000       0.0\n",
      "\n",
      "    accuracy                       0.000000     137.0\n",
      "   macro avg   0.000000  0.000000  0.000000     137.0\n",
      "weighted avg   0.000000  0.000000  0.000000     137.0\n",
      "\n"
     ]
    },
    {
     "data": {
      "text/html": [
       "<b>Random Forest Classifier</b>"
      ],
      "text/plain": [
       "<IPython.core.display.HTML object>"
      ]
     },
     "metadata": {},
     "output_type": "display_data"
    },
    {
     "name": "stdout",
     "output_type": "stream",
     "text": [
      "              precision    recall  f1-score   support\n",
      "\n",
      "           0   0.978102  1.000000  0.988930       134\n",
      "           1   0.000000  0.000000  0.000000         3\n",
      "\n",
      "    accuracy                       0.978102       137\n",
      "   macro avg   0.489051  0.500000  0.494465       137\n",
      "weighted avg   0.956684  0.978102  0.967274       137\n",
      "\n"
     ]
    },
    {
     "data": {
      "text/html": [
       "<b>Gradient Boosting Classifier</b>"
      ],
      "text/plain": [
       "<IPython.core.display.HTML object>"
      ]
     },
     "metadata": {},
     "output_type": "display_data"
    },
    {
     "name": "stdout",
     "output_type": "stream",
     "text": [
      "              precision    recall  f1-score   support\n",
      "\n",
      "           0   0.985294  1.000000  0.992593       134\n",
      "           1   1.000000  0.333333  0.500000         3\n",
      "\n",
      "    accuracy                       0.985401       137\n",
      "   macro avg   0.992647  0.666667  0.746296       137\n",
      "weighted avg   0.985616  0.985401  0.981806       137\n",
      "\n",
      "==================\n"
     ]
    },
    {
     "data": {
      "text/html": [
       "<b>Naive Bayes Gaussian</b>"
      ],
      "text/plain": [
       "<IPython.core.display.HTML object>"
      ]
     },
     "metadata": {},
     "output_type": "display_data"
    },
    {
     "name": "stdout",
     "output_type": "stream",
     "text": [
      "              precision    recall  f1-score   support\n",
      "\n",
      "           0   0.000000  0.000000  0.000000       118\n",
      "           1   0.100000  0.500000  0.166667         2\n",
      "           2   0.009009  1.000000  0.017857         1\n",
      "\n",
      "    accuracy                       0.016529       121\n",
      "   macro avg   0.036336  0.500000  0.061508       121\n",
      "weighted avg   0.001727  0.016529  0.002902       121\n",
      "\n"
     ]
    },
    {
     "data": {
      "text/html": [
       "<b>Random Forest Classifier</b>"
      ],
      "text/plain": [
       "<IPython.core.display.HTML object>"
      ]
     },
     "metadata": {},
     "output_type": "display_data"
    },
    {
     "name": "stdout",
     "output_type": "stream",
     "text": [
      "              precision    recall  f1-score   support\n",
      "\n",
      "           0   0.975207  1.000000  0.987448       118\n",
      "           1   0.000000  0.000000  0.000000         2\n",
      "           2   0.000000  0.000000  0.000000         1\n",
      "\n",
      "    accuracy                       0.975207       121\n",
      "   macro avg   0.325069  0.333333  0.329149       121\n",
      "weighted avg   0.951028  0.975207  0.962966       121\n",
      "\n"
     ]
    },
    {
     "data": {
      "text/html": [
       "<b>Gradient Boosting Classifier</b>"
      ],
      "text/plain": [
       "<IPython.core.display.HTML object>"
      ]
     },
     "metadata": {},
     "output_type": "display_data"
    },
    {
     "name": "stdout",
     "output_type": "stream",
     "text": [
      "              precision    recall  f1-score   support\n",
      "\n",
      "           0   0.991597  1.000000  0.995781       118\n",
      "           1   0.500000  0.500000  0.500000         2\n",
      "           2   0.000000  0.000000  0.000000         1\n",
      "\n",
      "    accuracy                       0.983471       121\n",
      "   macro avg   0.497199  0.500000  0.498594       121\n",
      "weighted avg   0.975276  0.983471  0.979356       121\n",
      "\n",
      "==================\n"
     ]
    },
    {
     "data": {
      "text/html": [
       "<b>Naive Bayes Gaussian</b>"
      ],
      "text/plain": [
       "<IPython.core.display.HTML object>"
      ]
     },
     "metadata": {},
     "output_type": "display_data"
    },
    {
     "name": "stdout",
     "output_type": "stream",
     "text": [
      "              precision    recall  f1-score   support\n",
      "\n",
      "           0   0.000000  0.000000  0.000000        97\n",
      "           1   0.000000  0.000000  0.000000         5\n",
      "           2   0.010526  1.000000  0.020833         1\n",
      "\n",
      "    accuracy                       0.009709       103\n",
      "   macro avg   0.003509  0.333333  0.006944       103\n",
      "weighted avg   0.000102  0.009709  0.000202       103\n",
      "\n"
     ]
    },
    {
     "data": {
      "text/html": [
       "<b>Random Forest Classifier</b>"
      ],
      "text/plain": [
       "<IPython.core.display.HTML object>"
      ]
     },
     "metadata": {},
     "output_type": "display_data"
    },
    {
     "name": "stdout",
     "output_type": "stream",
     "text": [
      "              precision    recall  f1-score   support\n",
      "\n",
      "           0   0.950980  1.000000  0.974874        97\n",
      "           1   0.000000  0.000000  0.000000         5\n",
      "           2   1.000000  1.000000  1.000000         1\n",
      "\n",
      "    accuracy                       0.951456       103\n",
      "   macro avg   0.650327  0.666667  0.658291       103\n",
      "weighted avg   0.905292  0.951456  0.927794       103\n",
      "\n"
     ]
    },
    {
     "data": {
      "text/html": [
       "<b>Gradient Boosting Classifier</b>"
      ],
      "text/plain": [
       "<IPython.core.display.HTML object>"
      ]
     },
     "metadata": {},
     "output_type": "display_data"
    },
    {
     "name": "stdout",
     "output_type": "stream",
     "text": [
      "              precision    recall  f1-score   support\n",
      "\n",
      "           0   0.970000  1.000000  0.984772        97\n",
      "           1   0.666667  0.400000  0.500000         5\n",
      "           2   0.000000  0.000000  0.000000         1\n",
      "\n",
      "    accuracy                       0.961165       103\n",
      "   macro avg   0.545556  0.466667  0.494924       103\n",
      "weighted avg   0.945858  0.961165  0.951678       103\n",
      "\n",
      "==================\n"
     ]
    },
    {
     "data": {
      "text/html": [
       "<b>Naive Bayes Gaussian</b>"
      ],
      "text/plain": [
       "<IPython.core.display.HTML object>"
      ]
     },
     "metadata": {},
     "output_type": "display_data"
    },
    {
     "name": "stdout",
     "output_type": "stream",
     "text": [
      "              precision    recall  f1-score   support\n",
      "\n",
      "           0   0.000000  0.000000  0.000000        86\n",
      "           1   0.000000  0.000000  0.000000         1\n",
      "           2   0.012500  1.000000  0.024691         1\n",
      "\n",
      "    accuracy                       0.011364        88\n",
      "   macro avg   0.004167  0.333333  0.008230        88\n",
      "weighted avg   0.000142  0.011364  0.000281        88\n",
      "\n"
     ]
    },
    {
     "data": {
      "text/html": [
       "<b>Random Forest Classifier</b>"
      ],
      "text/plain": [
       "<IPython.core.display.HTML object>"
      ]
     },
     "metadata": {},
     "output_type": "display_data"
    },
    {
     "name": "stdout",
     "output_type": "stream",
     "text": [
      "              precision    recall  f1-score   support\n",
      "\n",
      "           0   0.977273  1.000000  0.988506        86\n",
      "           1   0.000000  0.000000  0.000000         1\n",
      "           2   0.000000  0.000000  0.000000         1\n",
      "\n",
      "    accuracy                       0.977273        88\n",
      "   macro avg   0.325758  0.333333  0.329502        88\n",
      "weighted avg   0.955062  0.977273  0.966040        88\n",
      "\n"
     ]
    },
    {
     "data": {
      "text/html": [
       "<b>Gradient Boosting Classifier</b>"
      ],
      "text/plain": [
       "<IPython.core.display.HTML object>"
      ]
     },
     "metadata": {},
     "output_type": "display_data"
    },
    {
     "name": "stdout",
     "output_type": "stream",
     "text": [
      "              precision    recall  f1-score   support\n",
      "\n",
      "           0   0.977273  1.000000  0.988506        86\n",
      "           1   0.000000  0.000000  0.000000         1\n",
      "           2   0.000000  0.000000  0.000000         1\n",
      "\n",
      "    accuracy                       0.977273        88\n",
      "   macro avg   0.325758  0.333333  0.329502        88\n",
      "weighted avg   0.955062  0.977273  0.966040        88\n",
      "\n",
      "==================\n"
     ]
    },
    {
     "data": {
      "text/html": [
       "<b>Naive Bayes Gaussian</b>"
      ],
      "text/plain": [
       "<IPython.core.display.HTML object>"
      ]
     },
     "metadata": {},
     "output_type": "display_data"
    },
    {
     "name": "stdout",
     "output_type": "stream",
     "text": [
      "              precision    recall  f1-score   support\n",
      "\n",
      "           0   1.000000  0.023529  0.045977        85\n",
      "           1   0.000000  0.000000  0.000000         2\n",
      "           2   0.012048  1.000000  0.023810         1\n",
      "\n",
      "    accuracy                       0.034091        88\n",
      "   macro avg   0.337349  0.341176  0.023262        88\n",
      "weighted avg   0.966046  0.034091  0.044680        88\n",
      "\n"
     ]
    },
    {
     "data": {
      "text/html": [
       "<b>Random Forest Classifier</b>"
      ],
      "text/plain": [
       "<IPython.core.display.HTML object>"
      ]
     },
     "metadata": {},
     "output_type": "display_data"
    },
    {
     "name": "stdout",
     "output_type": "stream",
     "text": [
      "              precision    recall  f1-score   support\n",
      "\n",
      "           0   0.965909  1.000000  0.982659        85\n",
      "           1   0.000000  0.000000  0.000000         2\n",
      "           2   0.000000  0.000000  0.000000         1\n",
      "\n",
      "    accuracy                       0.965909        88\n",
      "   macro avg   0.321970  0.333333  0.327553        88\n",
      "weighted avg   0.932980  0.965909  0.949159        88\n",
      "\n"
     ]
    },
    {
     "data": {
      "text/html": [
       "<b>Gradient Boosting Classifier</b>"
      ],
      "text/plain": [
       "<IPython.core.display.HTML object>"
      ]
     },
     "metadata": {},
     "output_type": "display_data"
    },
    {
     "name": "stdout",
     "output_type": "stream",
     "text": [
      "              precision    recall  f1-score   support\n",
      "\n",
      "           0   0.988372  1.000000  0.994152        85\n",
      "           1   1.000000  0.500000  0.666667         2\n",
      "           2   1.000000  1.000000  1.000000         1\n",
      "\n",
      "    accuracy                       0.988636        88\n",
      "   macro avg   0.996124  0.833333  0.886940        88\n",
      "weighted avg   0.988768  0.988636  0.986776        88\n",
      "\n",
      "==================\n"
     ]
    },
    {
     "data": {
      "text/html": [
       "<b>Naive Bayes Gaussian</b>"
      ],
      "text/plain": [
       "<IPython.core.display.HTML object>"
      ]
     },
     "metadata": {},
     "output_type": "display_data"
    },
    {
     "name": "stdout",
     "output_type": "stream",
     "text": [
      "              precision    recall  f1-score   support\n",
      "\n",
      "           0   1.000000  0.028571  0.055556       105\n",
      "           1   0.142857  0.500000  0.222222         2\n",
      "           2   0.000000  0.000000  0.000000         0\n",
      "\n",
      "    accuracy                       0.037383       107\n",
      "   macro avg   0.380952  0.176190  0.092593       107\n",
      "weighted avg   0.983979  0.037383  0.058671       107\n",
      "\n"
     ]
    },
    {
     "data": {
      "text/html": [
       "<b>Random Forest Classifier</b>"
      ],
      "text/plain": [
       "<IPython.core.display.HTML object>"
      ]
     },
     "metadata": {},
     "output_type": "display_data"
    },
    {
     "name": "stdout",
     "output_type": "stream",
     "text": [
      "              precision    recall  f1-score   support\n",
      "\n",
      "           0   0.981308  1.000000  0.990566       105\n",
      "           1   0.000000  0.000000  0.000000         2\n",
      "\n",
      "    accuracy                       0.981308       107\n",
      "   macro avg   0.490654  0.500000  0.495283       107\n",
      "weighted avg   0.962966  0.981308  0.972051       107\n",
      "\n"
     ]
    },
    {
     "data": {
      "text/html": [
       "<b>Gradient Boosting Classifier</b>"
      ],
      "text/plain": [
       "<IPython.core.display.HTML object>"
      ]
     },
     "metadata": {},
     "output_type": "display_data"
    },
    {
     "name": "stdout",
     "output_type": "stream",
     "text": [
      "              precision    recall  f1-score   support\n",
      "\n",
      "           0   0.981132  0.990476  0.985782       105\n",
      "           1   0.000000  0.000000  0.000000         2\n",
      "\n",
      "    accuracy                       0.971963       107\n",
      "   macro avg   0.490566  0.495238  0.492891       107\n",
      "weighted avg   0.962793  0.971963  0.967356       107\n",
      "\n",
      "==================\n"
     ]
    },
    {
     "data": {
      "text/html": [
       "<b>Naive Bayes Gaussian</b>"
      ],
      "text/plain": [
       "<IPython.core.display.HTML object>"
      ]
     },
     "metadata": {},
     "output_type": "display_data"
    },
    {
     "name": "stdout",
     "output_type": "stream",
     "text": [
      "              precision    recall  f1-score   support\n",
      "\n",
      "           0   1.000000  0.025210  0.049180       119\n",
      "           1   0.142857  0.500000  0.222222         2\n",
      "           2   0.008929  1.000000  0.017699         1\n",
      "\n",
      "    accuracy                       0.040984       122\n",
      "   macro avg   0.383929  0.508403  0.096367       122\n",
      "weighted avg   0.977825  0.040984  0.051759       122\n",
      "\n"
     ]
    },
    {
     "data": {
      "text/html": [
       "<b>Random Forest Classifier</b>"
      ],
      "text/plain": [
       "<IPython.core.display.HTML object>"
      ]
     },
     "metadata": {},
     "output_type": "display_data"
    },
    {
     "name": "stdout",
     "output_type": "stream",
     "text": [
      "              precision    recall  f1-score   support\n",
      "\n",
      "           0   0.975410  1.000000  0.987552       119\n",
      "           1   0.000000  0.000000  0.000000         2\n",
      "           2   0.000000  0.000000  0.000000         1\n",
      "\n",
      "    accuracy                       0.975410       122\n",
      "   macro avg   0.325137  0.333333  0.329184       122\n",
      "weighted avg   0.951424  0.975410  0.963268       122\n",
      "\n"
     ]
    },
    {
     "data": {
      "text/html": [
       "<b>Gradient Boosting Classifier</b>"
      ],
      "text/plain": [
       "<IPython.core.display.HTML object>"
      ]
     },
     "metadata": {},
     "output_type": "display_data"
    },
    {
     "name": "stdout",
     "output_type": "stream",
     "text": [
      "              precision    recall  f1-score   support\n",
      "\n",
      "           0   0.991667  1.000000  0.995816       119\n",
      "           1   1.000000  0.500000  0.666667         2\n",
      "           2   1.000000  1.000000  1.000000         1\n",
      "\n",
      "    accuracy                       0.991803       122\n",
      "   macro avg   0.997222  0.833333  0.887494       122\n",
      "weighted avg   0.991872  0.991803  0.990454       122\n",
      "\n",
      "==================\n"
     ]
    },
    {
     "data": {
      "text/html": [
       "<b>Naive Bayes Gaussian</b>"
      ],
      "text/plain": [
       "<IPython.core.display.HTML object>"
      ]
     },
     "metadata": {},
     "output_type": "display_data"
    },
    {
     "name": "stdout",
     "output_type": "stream",
     "text": [
      "              precision    recall  f1-score   support\n",
      "\n",
      "           0   1.000000  0.008475  0.016807       118\n",
      "           1   0.111111  0.333333  0.166667         3\n",
      "           2   0.008929  1.000000  0.017699         1\n",
      "\n",
      "    accuracy                       0.024590       122\n",
      "   macro avg   0.373347  0.447269  0.067058       122\n",
      "weighted avg   0.970019  0.024590  0.020499       122\n",
      "\n"
     ]
    },
    {
     "data": {
      "text/html": [
       "<b>Random Forest Classifier</b>"
      ],
      "text/plain": [
       "<IPython.core.display.HTML object>"
      ]
     },
     "metadata": {},
     "output_type": "display_data"
    },
    {
     "name": "stdout",
     "output_type": "stream",
     "text": [
      "              precision    recall  f1-score   support\n",
      "\n",
      "           0   0.967213  1.000000  0.983333       118\n",
      "           1   0.000000  0.000000  0.000000         3\n",
      "           2   0.000000  0.000000  0.000000         1\n",
      "\n",
      "    accuracy                       0.967213       122\n",
      "   macro avg   0.322404  0.333333  0.327778       122\n",
      "weighted avg   0.935501  0.967213  0.951093       122\n",
      "\n"
     ]
    },
    {
     "data": {
      "text/html": [
       "<b>Gradient Boosting Classifier</b>"
      ],
      "text/plain": [
       "<IPython.core.display.HTML object>"
      ]
     },
     "metadata": {},
     "output_type": "display_data"
    },
    {
     "name": "stdout",
     "output_type": "stream",
     "text": [
      "              precision    recall  f1-score   support\n",
      "\n",
      "           0   0.975000  0.991525  0.983193       118\n",
      "           1   0.000000  0.000000  0.000000         3\n",
      "           2   1.000000  1.000000  1.000000         1\n",
      "\n",
      "    accuracy                       0.967213       122\n",
      "   macro avg   0.658333  0.663842  0.661064       122\n",
      "weighted avg   0.951230  0.967213  0.959154       122\n",
      "\n",
      "==================\n"
     ]
    },
    {
     "data": {
      "text/html": [
       "<b>Naive Bayes Gaussian</b>"
      ],
      "text/plain": [
       "<IPython.core.display.HTML object>"
      ]
     },
     "metadata": {},
     "output_type": "display_data"
    },
    {
     "name": "stdout",
     "output_type": "stream",
     "text": [
      "              precision    recall  f1-score   support\n",
      "\n",
      "           0   1.000000  0.007299  0.014493       137\n",
      "           1   0.000000  0.000000  0.000000         3\n",
      "           2   0.000000  0.000000  0.000000         1\n",
      "\n",
      "    accuracy                       0.007092       141\n",
      "   macro avg   0.333333  0.002433  0.004831       141\n",
      "weighted avg   0.971631  0.007092  0.014082       141\n",
      "\n"
     ]
    },
    {
     "data": {
      "text/html": [
       "<b>Random Forest Classifier</b>"
      ],
      "text/plain": [
       "<IPython.core.display.HTML object>"
      ]
     },
     "metadata": {},
     "output_type": "display_data"
    },
    {
     "name": "stdout",
     "output_type": "stream",
     "text": [
      "              precision    recall  f1-score   support\n",
      "\n",
      "           0   0.971631  1.000000  0.985612       137\n",
      "           1   0.000000  0.000000  0.000000         3\n",
      "           2   0.000000  0.000000  0.000000         1\n",
      "\n",
      "    accuracy                       0.971631       141\n",
      "   macro avg   0.323877  0.333333  0.328537       141\n",
      "weighted avg   0.944067  0.971631  0.957651       141\n",
      "\n"
     ]
    },
    {
     "data": {
      "text/html": [
       "<b>Gradient Boosting Classifier</b>"
      ],
      "text/plain": [
       "<IPython.core.display.HTML object>"
      ]
     },
     "metadata": {},
     "output_type": "display_data"
    },
    {
     "name": "stdout",
     "output_type": "stream",
     "text": [
      "              precision    recall  f1-score   support\n",
      "\n",
      "           0   0.978571  1.000000  0.989170       137\n",
      "           1   0.000000  0.000000  0.000000         3\n",
      "           2   0.000000  0.000000  0.000000         1\n",
      "\n",
      "    accuracy                       0.971631       141\n",
      "   macro avg   0.326190  0.333333  0.329723       141\n",
      "weighted avg   0.950811  0.971631  0.961108       141\n",
      "\n",
      "==================\n"
     ]
    },
    {
     "data": {
      "text/html": [
       "<b>Naive Bayes Gaussian</b>"
      ],
      "text/plain": [
       "<IPython.core.display.HTML object>"
      ]
     },
     "metadata": {},
     "output_type": "display_data"
    },
    {
     "name": "stdout",
     "output_type": "stream",
     "text": [
      "              precision    recall  f1-score   support\n",
      "\n",
      "           0   1.000000  0.016000  0.031496       125\n",
      "           1   0.200000  1.000000  0.333333         1\n",
      "           2   0.008333  1.000000  0.016529         1\n",
      "\n",
      "    accuracy                       0.031496       127\n",
      "   macro avg   0.402778  0.672000  0.127119       127\n",
      "weighted avg   0.985892  0.031496  0.033755       127\n",
      "\n"
     ]
    },
    {
     "data": {
      "text/html": [
       "<b>Random Forest Classifier</b>"
      ],
      "text/plain": [
       "<IPython.core.display.HTML object>"
      ]
     },
     "metadata": {},
     "output_type": "display_data"
    },
    {
     "name": "stdout",
     "output_type": "stream",
     "text": [
      "              precision    recall  f1-score   support\n",
      "\n",
      "           0   0.984252  1.000000  0.992063       125\n",
      "           1   0.000000  0.000000  0.000000         1\n",
      "           2   0.000000  0.000000  0.000000         1\n",
      "\n",
      "    accuracy                       0.984252       127\n",
      "   macro avg   0.328084  0.333333  0.330688       127\n",
      "weighted avg   0.968752  0.984252  0.976440       127\n",
      "\n"
     ]
    },
    {
     "data": {
      "text/html": [
       "<b>Gradient Boosting Classifier</b>"
      ],
      "text/plain": [
       "<IPython.core.display.HTML object>"
      ]
     },
     "metadata": {},
     "output_type": "display_data"
    },
    {
     "name": "stdout",
     "output_type": "stream",
     "text": [
      "              precision    recall  f1-score   support\n",
      "\n",
      "           0   0.984127  0.992000  0.988048       125\n",
      "           1   0.000000  0.000000  0.000000         1\n",
      "           2   0.000000  0.000000  0.000000         1\n",
      "\n",
      "    accuracy                       0.976378       127\n",
      "   macro avg   0.328042  0.330667  0.329349       127\n",
      "weighted avg   0.968629  0.976378  0.972488       127\n",
      "\n",
      "==================\n"
     ]
    },
    {
     "data": {
      "text/html": [
       "<b>Naive Bayes Gaussian</b>"
      ],
      "text/plain": [
       "<IPython.core.display.HTML object>"
      ]
     },
     "metadata": {},
     "output_type": "display_data"
    },
    {
     "name": "stdout",
     "output_type": "stream",
     "text": [
      "              precision    recall  f1-score   support\n",
      "\n",
      "           0   1.000000  0.026786  0.052174       112\n",
      "           1   0.000000  0.000000  0.000000         1\n",
      "           2   0.000000  0.000000  0.000000         0\n",
      "\n",
      "    accuracy                       0.026549       113\n",
      "   macro avg   0.333333  0.008929  0.017391       113\n",
      "weighted avg   0.991150  0.026549  0.051712       113\n",
      "\n"
     ]
    },
    {
     "data": {
      "text/html": [
       "<b>Random Forest Classifier</b>"
      ],
      "text/plain": [
       "<IPython.core.display.HTML object>"
      ]
     },
     "metadata": {},
     "output_type": "display_data"
    },
    {
     "name": "stdout",
     "output_type": "stream",
     "text": [
      "              precision    recall  f1-score   support\n",
      "\n",
      "           0   0.991150  1.000000  0.995556       112\n",
      "           1   0.000000  0.000000  0.000000         1\n",
      "\n",
      "    accuracy                       0.991150       113\n",
      "   macro avg   0.495575  0.500000  0.497778       113\n",
      "weighted avg   0.982379  0.991150  0.986745       113\n",
      "\n"
     ]
    },
    {
     "data": {
      "text/html": [
       "<b>Gradient Boosting Classifier</b>"
      ],
      "text/plain": [
       "<IPython.core.display.HTML object>"
      ]
     },
     "metadata": {},
     "output_type": "display_data"
    },
    {
     "name": "stdout",
     "output_type": "stream",
     "text": [
      "              precision    recall  f1-score   support\n",
      "\n",
      "           0   0.991150  1.000000  0.995556       112\n",
      "           1   0.000000  0.000000  0.000000         1\n",
      "\n",
      "    accuracy                       0.991150       113\n",
      "   macro avg   0.495575  0.500000  0.497778       113\n",
      "weighted avg   0.982379  0.991150  0.986745       113\n",
      "\n",
      "==================\n"
     ]
    },
    {
     "data": {
      "text/html": [
       "<b>Naive Bayes Gaussian</b>"
      ],
      "text/plain": [
       "<IPython.core.display.HTML object>"
      ]
     },
     "metadata": {},
     "output_type": "display_data"
    },
    {
     "name": "stdout",
     "output_type": "stream",
     "text": [
      "              precision    recall  f1-score   support\n",
      "\n",
      "           0   1.000000  0.022727  0.044444        88\n",
      "           1   0.142857  0.500000  0.222222         2\n",
      "           2   0.012195  1.000000  0.024096         1\n",
      "\n",
      "    accuracy                       0.043956        91\n",
      "   macro avg   0.385017  0.507576  0.096921        91\n",
      "weighted avg   0.970307  0.043956  0.048128        91\n",
      "\n"
     ]
    },
    {
     "data": {
      "text/html": [
       "<b>Random Forest Classifier</b>"
      ],
      "text/plain": [
       "<IPython.core.display.HTML object>"
      ]
     },
     "metadata": {},
     "output_type": "display_data"
    },
    {
     "name": "stdout",
     "output_type": "stream",
     "text": [
      "              precision    recall  f1-score   support\n",
      "\n",
      "           0   0.967033  1.000000  0.983240        88\n",
      "           1   0.000000  0.000000  0.000000         2\n",
      "           2   0.000000  0.000000  0.000000         1\n",
      "\n",
      "    accuracy                       0.967033        91\n",
      "   macro avg   0.322344  0.333333  0.327747        91\n",
      "weighted avg   0.935153  0.967033  0.950826        91\n",
      "\n"
     ]
    },
    {
     "data": {
      "text/html": [
       "<b>Gradient Boosting Classifier</b>"
      ],
      "text/plain": [
       "<IPython.core.display.HTML object>"
      ]
     },
     "metadata": {},
     "output_type": "display_data"
    },
    {
     "name": "stdout",
     "output_type": "stream",
     "text": [
      "              precision    recall  f1-score   support\n",
      "\n",
      "           0   0.977273  0.977273  0.977273        88\n",
      "           1   0.000000  0.000000  0.000000         2\n",
      "           2   0.000000  0.000000  0.000000         1\n",
      "\n",
      "    accuracy                       0.945055        91\n",
      "   macro avg   0.325758  0.325758  0.325758        91\n",
      "weighted avg   0.945055  0.945055  0.945055        91\n",
      "\n",
      "==================\n"
     ]
    },
    {
     "data": {
      "text/html": [
       "<b>Naive Bayes Gaussian</b>"
      ],
      "text/plain": [
       "<IPython.core.display.HTML object>"
      ]
     },
     "metadata": {},
     "output_type": "display_data"
    },
    {
     "name": "stdout",
     "output_type": "stream",
     "text": [
      "              precision    recall  f1-score   support\n",
      "\n",
      "           0   1.000000  0.009524  0.018868       105\n",
      "           1   0.000000  0.000000  0.000000         1\n",
      "           2   0.020202  1.000000  0.039604         2\n",
      "\n",
      "    accuracy                       0.027778       108\n",
      "   macro avg   0.340067  0.336508  0.019491       108\n",
      "weighted avg   0.972596  0.027778  0.019077       108\n",
      "\n"
     ]
    },
    {
     "data": {
      "text/html": [
       "<b>Random Forest Classifier</b>"
      ],
      "text/plain": [
       "<IPython.core.display.HTML object>"
      ]
     },
     "metadata": {},
     "output_type": "display_data"
    },
    {
     "name": "stdout",
     "output_type": "stream",
     "text": [
      "              precision    recall  f1-score   support\n",
      "\n",
      "           0   0.981308  1.000000  0.990566       105\n",
      "           1   0.000000  0.000000  0.000000         1\n",
      "           2   1.000000  0.500000  0.666667         2\n",
      "\n",
      "    accuracy                       0.981481       108\n",
      "   macro avg   0.660436  0.500000  0.552411       108\n",
      "weighted avg   0.972568  0.981481  0.975396       108\n",
      "\n"
     ]
    },
    {
     "data": {
      "text/html": [
       "<b>Gradient Boosting Classifier</b>"
      ],
      "text/plain": [
       "<IPython.core.display.HTML object>"
      ]
     },
     "metadata": {},
     "output_type": "display_data"
    },
    {
     "name": "stdout",
     "output_type": "stream",
     "text": [
      "              precision    recall  f1-score   support\n",
      "\n",
      "           0   0.981308  1.000000  0.990566       105\n",
      "           1   0.000000  0.000000  0.000000         1\n",
      "           2   1.000000  0.500000  0.666667         2\n",
      "\n",
      "    accuracy                       0.981481       108\n",
      "   macro avg   0.660436  0.500000  0.552411       108\n",
      "weighted avg   0.972568  0.981481  0.975396       108\n",
      "\n",
      "==================\n"
     ]
    },
    {
     "data": {
      "text/html": [
       "<b>Naive Bayes Gaussian</b>"
      ],
      "text/plain": [
       "<IPython.core.display.HTML object>"
      ]
     },
     "metadata": {},
     "output_type": "display_data"
    },
    {
     "name": "stdout",
     "output_type": "stream",
     "text": [
      "              precision    recall  f1-score   support\n",
      "\n",
      "           0   1.000000  0.007634  0.015152       131\n",
      "           1   0.000000  0.000000  0.000000         4\n",
      "           2   0.000000  0.000000  0.000000         0\n",
      "\n",
      "    accuracy                       0.007407       135\n",
      "   macro avg   0.333333  0.002545  0.005051       135\n",
      "weighted avg   0.970370  0.007407  0.014703       135\n",
      "\n"
     ]
    },
    {
     "data": {
      "text/html": [
       "<b>Random Forest Classifier</b>"
      ],
      "text/plain": [
       "<IPython.core.display.HTML object>"
      ]
     },
     "metadata": {},
     "output_type": "display_data"
    },
    {
     "name": "stdout",
     "output_type": "stream",
     "text": [
      "              precision    recall  f1-score   support\n",
      "\n",
      "           0   0.970370  1.000000  0.984962       131\n",
      "           1   0.000000  0.000000  0.000000         4\n",
      "\n",
      "    accuracy                       0.970370       135\n",
      "   macro avg   0.485185  0.500000  0.492481       135\n",
      "weighted avg   0.941619  0.970370  0.955778       135\n",
      "\n"
     ]
    },
    {
     "data": {
      "text/html": [
       "<b>Gradient Boosting Classifier</b>"
      ],
      "text/plain": [
       "<IPython.core.display.HTML object>"
      ]
     },
     "metadata": {},
     "output_type": "display_data"
    },
    {
     "name": "stdout",
     "output_type": "stream",
     "text": [
      "              precision    recall  f1-score   support\n",
      "\n",
      "           0   0.992366  0.992366  0.992366       131\n",
      "           1   1.000000  0.750000  0.857143         4\n",
      "           2   0.000000  0.000000  0.000000         0\n",
      "\n",
      "    accuracy                       0.985185       135\n",
      "   macro avg   0.664122  0.580789  0.616503       135\n",
      "weighted avg   0.992593  0.985185  0.988360       135\n",
      "\n",
      "==================\n"
     ]
    },
    {
     "data": {
      "text/html": [
       "<b>Naive Bayes Gaussian</b>"
      ],
      "text/plain": [
       "<IPython.core.display.HTML object>"
      ]
     },
     "metadata": {},
     "output_type": "display_data"
    },
    {
     "name": "stdout",
     "output_type": "stream",
     "text": [
      "              precision    recall  f1-score   support\n",
      "\n",
      "           0   1.000000  0.007407  0.014706       135\n",
      "           1   0.100000  1.000000  0.181818         1\n",
      "           2   0.007937  1.000000  0.015748         1\n",
      "\n",
      "    accuracy                       0.021898       137\n",
      "   macro avg   0.369312  0.669136  0.070757       137\n",
      "weighted avg   0.986189  0.021898  0.015933       137\n",
      "\n"
     ]
    },
    {
     "data": {
      "text/html": [
       "<b>Random Forest Classifier</b>"
      ],
      "text/plain": [
       "<IPython.core.display.HTML object>"
      ]
     },
     "metadata": {},
     "output_type": "display_data"
    },
    {
     "name": "stdout",
     "output_type": "stream",
     "text": [
      "              precision    recall  f1-score   support\n",
      "\n",
      "           0   0.985401  1.000000  0.992647       135\n",
      "           1   0.000000  0.000000  0.000000         1\n",
      "           2   0.000000  0.000000  0.000000         1\n",
      "\n",
      "    accuracy                       0.985401       137\n",
      "   macro avg   0.328467  0.333333  0.330882       137\n",
      "weighted avg   0.971016  0.985401  0.978156       137\n",
      "\n"
     ]
    },
    {
     "data": {
      "text/html": [
       "<b>Gradient Boosting Classifier</b>"
      ],
      "text/plain": [
       "<IPython.core.display.HTML object>"
      ]
     },
     "metadata": {},
     "output_type": "display_data"
    },
    {
     "name": "stdout",
     "output_type": "stream",
     "text": [
      "              precision    recall  f1-score   support\n",
      "\n",
      "           0   0.985401  1.000000  0.992647       135\n",
      "           1   0.000000  0.000000  0.000000         1\n",
      "           2   0.000000  0.000000  0.000000         1\n",
      "\n",
      "    accuracy                       0.985401       137\n",
      "   macro avg   0.328467  0.333333  0.330882       137\n",
      "weighted avg   0.971016  0.985401  0.978156       137\n",
      "\n",
      "==================\n"
     ]
    },
    {
     "data": {
      "text/html": [
       "<b>Naive Bayes Gaussian</b>"
      ],
      "text/plain": [
       "<IPython.core.display.HTML object>"
      ]
     },
     "metadata": {},
     "output_type": "display_data"
    },
    {
     "name": "stdout",
     "output_type": "stream",
     "text": [
      "              precision    recall  f1-score   support\n",
      "\n",
      "           0   1.000000  0.015748  0.031008       127\n",
      "           1   0.000000  0.000000  0.000000         1\n",
      "           2   0.000000  0.000000  0.000000         0\n",
      "\n",
      "    accuracy                       0.015625       128\n",
      "   macro avg   0.333333  0.005249  0.010336       128\n",
      "weighted avg   0.992188  0.015625  0.030766       128\n",
      "\n"
     ]
    },
    {
     "data": {
      "text/html": [
       "<b>Random Forest Classifier</b>"
      ],
      "text/plain": [
       "<IPython.core.display.HTML object>"
      ]
     },
     "metadata": {},
     "output_type": "display_data"
    },
    {
     "name": "stdout",
     "output_type": "stream",
     "text": [
      "              precision    recall  f1-score   support\n",
      "\n",
      "           0   0.992188  1.000000  0.996078       127\n",
      "           1   0.000000  0.000000  0.000000         1\n",
      "\n",
      "    accuracy                       0.992188       128\n",
      "   macro avg   0.496094  0.500000  0.498039       128\n",
      "weighted avg   0.984436  0.992188  0.988297       128\n",
      "\n"
     ]
    },
    {
     "data": {
      "text/html": [
       "<b>Gradient Boosting Classifier</b>"
      ],
      "text/plain": [
       "<IPython.core.display.HTML object>"
      ]
     },
     "metadata": {},
     "output_type": "display_data"
    },
    {
     "name": "stdout",
     "output_type": "stream",
     "text": [
      "              precision    recall  f1-score   support\n",
      "\n",
      "           0   0.992188  1.000000  0.996078       127\n",
      "           1   0.000000  0.000000  0.000000         1\n",
      "\n",
      "    accuracy                       0.992188       128\n",
      "   macro avg   0.496094  0.500000  0.498039       128\n",
      "weighted avg   0.984436  0.992188  0.988297       128\n",
      "\n",
      "==================\n"
     ]
    },
    {
     "data": {
      "text/html": [
       "<b>Naive Bayes Gaussian</b>"
      ],
      "text/plain": [
       "<IPython.core.display.HTML object>"
      ]
     },
     "metadata": {},
     "output_type": "display_data"
    },
    {
     "name": "stdout",
     "output_type": "stream",
     "text": [
      "              precision    recall  f1-score   support\n",
      "\n",
      "           0   1.000000  0.030303  0.058824        99\n",
      "           1   0.000000  0.000000  0.000000         0\n",
      "           2   0.011236  1.000000  0.022222         1\n",
      "\n",
      "    accuracy                       0.040000       100\n",
      "   macro avg   0.337079  0.343434  0.027015       100\n",
      "weighted avg   0.990112  0.040000  0.058458       100\n",
      "\n"
     ]
    },
    {
     "data": {
      "text/html": [
       "<b>Random Forest Classifier</b>"
      ],
      "text/plain": [
       "<IPython.core.display.HTML object>"
      ]
     },
     "metadata": {},
     "output_type": "display_data"
    },
    {
     "name": "stdout",
     "output_type": "stream",
     "text": [
      "              precision    recall  f1-score   support\n",
      "\n",
      "           0   0.990000  1.000000  0.994975        99\n",
      "           2   0.000000  0.000000  0.000000         1\n",
      "\n",
      "    accuracy                       0.990000       100\n",
      "   macro avg   0.495000  0.500000  0.497487       100\n",
      "weighted avg   0.980100  0.990000  0.985025       100\n",
      "\n"
     ]
    },
    {
     "data": {
      "text/html": [
       "<b>Gradient Boosting Classifier</b>"
      ],
      "text/plain": [
       "<IPython.core.display.HTML object>"
      ]
     },
     "metadata": {},
     "output_type": "display_data"
    },
    {
     "name": "stdout",
     "output_type": "stream",
     "text": [
      "              precision    recall  f1-score   support\n",
      "\n",
      "           0   0.990000  1.000000  0.994975        99\n",
      "           2   0.000000  0.000000  0.000000         1\n",
      "\n",
      "    accuracy                       0.990000       100\n",
      "   macro avg   0.495000  0.500000  0.497487       100\n",
      "weighted avg   0.980100  0.990000  0.985025       100\n",
      "\n",
      "==================\n"
     ]
    },
    {
     "data": {
      "text/html": [
       "<b>Naive Bayes Gaussian</b>"
      ],
      "text/plain": [
       "<IPython.core.display.HTML object>"
      ]
     },
     "metadata": {},
     "output_type": "display_data"
    },
    {
     "name": "stdout",
     "output_type": "stream",
     "text": [
      "              precision    recall  f1-score   support\n",
      "\n",
      "           0   1.000000  0.025641  0.050000        78\n",
      "           1   0.000000  0.000000  0.000000         0\n",
      "           2   0.014085  1.000000  0.027778         1\n",
      "\n",
      "    accuracy                       0.037975        79\n",
      "   macro avg   0.338028  0.341880  0.025926        79\n",
      "weighted avg   0.987520  0.037975  0.049719        79\n",
      "\n"
     ]
    },
    {
     "data": {
      "text/html": [
       "<b>Random Forest Classifier</b>"
      ],
      "text/plain": [
       "<IPython.core.display.HTML object>"
      ]
     },
     "metadata": {},
     "output_type": "display_data"
    },
    {
     "name": "stdout",
     "output_type": "stream",
     "text": [
      "              precision    recall  f1-score   support\n",
      "\n",
      "           0   0.987342  1.000000  0.993631        78\n",
      "           2   0.000000  0.000000  0.000000         1\n",
      "\n",
      "    accuracy                       0.987342        79\n",
      "   macro avg   0.493671  0.500000  0.496815        79\n",
      "weighted avg   0.974844  0.987342  0.981053        79\n",
      "\n"
     ]
    },
    {
     "data": {
      "text/html": [
       "<b>Gradient Boosting Classifier</b>"
      ],
      "text/plain": [
       "<IPython.core.display.HTML object>"
      ]
     },
     "metadata": {},
     "output_type": "display_data"
    },
    {
     "name": "stdout",
     "output_type": "stream",
     "text": [
      "              precision    recall  f1-score   support\n",
      "\n",
      "           0   0.987342  1.000000  0.993631        78\n",
      "           2   0.000000  0.000000  0.000000         1\n",
      "\n",
      "    accuracy                       0.987342        79\n",
      "   macro avg   0.493671  0.500000  0.496815        79\n",
      "weighted avg   0.974844  0.987342  0.981053        79\n",
      "\n",
      "==================\n"
     ]
    },
    {
     "data": {
      "text/html": [
       "<b>Naive Bayes Gaussian</b>"
      ],
      "text/plain": [
       "<IPython.core.display.HTML object>"
      ]
     },
     "metadata": {},
     "output_type": "display_data"
    },
    {
     "name": "stdout",
     "output_type": "stream",
     "text": [
      "              precision    recall  f1-score   support\n",
      "\n",
      "           0   1.000000  0.012195  0.024096        82\n",
      "           1   0.000000  0.000000  0.000000         0\n",
      "           2   0.000000  0.000000  0.000000         1\n",
      "\n",
      "    accuracy                       0.012048        83\n",
      "   macro avg   0.333333  0.004065  0.008032        83\n",
      "weighted avg   0.987952  0.012048  0.023806        83\n",
      "\n"
     ]
    },
    {
     "data": {
      "text/html": [
       "<b>Random Forest Classifier</b>"
      ],
      "text/plain": [
       "<IPython.core.display.HTML object>"
      ]
     },
     "metadata": {},
     "output_type": "display_data"
    },
    {
     "name": "stdout",
     "output_type": "stream",
     "text": [
      "              precision    recall  f1-score   support\n",
      "\n",
      "           0   0.987952  1.000000  0.993939        82\n",
      "           2   0.000000  0.000000  0.000000         1\n",
      "\n",
      "    accuracy                       0.987952        83\n",
      "   macro avg   0.493976  0.500000  0.496970        83\n",
      "weighted avg   0.976049  0.987952  0.981964        83\n",
      "\n"
     ]
    },
    {
     "data": {
      "text/html": [
       "<b>Gradient Boosting Classifier</b>"
      ],
      "text/plain": [
       "<IPython.core.display.HTML object>"
      ]
     },
     "metadata": {},
     "output_type": "display_data"
    },
    {
     "name": "stdout",
     "output_type": "stream",
     "text": [
      "              precision    recall  f1-score   support\n",
      "\n",
      "           0   1.000000  1.000000  1.000000        82\n",
      "           2   1.000000  1.000000  1.000000         1\n",
      "\n",
      "    accuracy                       1.000000        83\n",
      "   macro avg   1.000000  1.000000  1.000000        83\n",
      "weighted avg   1.000000  1.000000  1.000000        83\n",
      "\n",
      "==================\n"
     ]
    },
    {
     "data": {
      "text/html": [
       "<b>Naive Bayes Gaussian</b>"
      ],
      "text/plain": [
       "<IPython.core.display.HTML object>"
      ]
     },
     "metadata": {},
     "output_type": "display_data"
    },
    {
     "name": "stdout",
     "output_type": "stream",
     "text": [
      "              precision    recall  f1-score   support\n",
      "\n",
      "           0   0.000000  0.000000  0.000000        99\n",
      "           1   0.125000  0.333333  0.181818         3\n",
      "           2   0.000000  0.000000  0.000000         0\n",
      "\n",
      "    accuracy                       0.009804       102\n",
      "   macro avg   0.041667  0.111111  0.060606       102\n",
      "weighted avg   0.003676  0.009804  0.005348       102\n",
      "\n"
     ]
    },
    {
     "data": {
      "text/html": [
       "<b>Random Forest Classifier</b>"
      ],
      "text/plain": [
       "<IPython.core.display.HTML object>"
      ]
     },
     "metadata": {},
     "output_type": "display_data"
    },
    {
     "name": "stdout",
     "output_type": "stream",
     "text": [
      "              precision    recall  f1-score   support\n",
      "\n",
      "           0   0.970588  1.000000  0.985075        99\n",
      "           1   0.000000  0.000000  0.000000         3\n",
      "\n",
      "    accuracy                       0.970588       102\n",
      "   macro avg   0.485294  0.500000  0.492537       102\n",
      "weighted avg   0.942042  0.970588  0.956102       102\n",
      "\n"
     ]
    },
    {
     "data": {
      "text/html": [
       "<b>Gradient Boosting Classifier</b>"
      ],
      "text/plain": [
       "<IPython.core.display.HTML object>"
      ]
     },
     "metadata": {},
     "output_type": "display_data"
    },
    {
     "name": "stdout",
     "output_type": "stream",
     "text": [
      "              precision    recall  f1-score   support\n",
      "\n",
      "           0   0.990000  1.000000  0.994975        99\n",
      "           1   1.000000  0.666667  0.800000         3\n",
      "\n",
      "    accuracy                       0.990196       102\n",
      "   macro avg   0.995000  0.833333  0.897487       102\n",
      "weighted avg   0.990294  0.990196  0.989240       102\n",
      "\n",
      "==================\n"
     ]
    },
    {
     "data": {
      "text/html": [
       "<b>Naive Bayes Gaussian</b>"
      ],
      "text/plain": [
       "<IPython.core.display.HTML object>"
      ]
     },
     "metadata": {},
     "output_type": "display_data"
    },
    {
     "name": "stdout",
     "output_type": "stream",
     "text": [
      "              precision    recall  f1-score   support\n",
      "\n",
      "           0   0.000000  0.000000  0.000000     109.0\n",
      "           1   0.000000  0.000000  0.000000       2.0\n",
      "           2   0.000000  0.000000  0.000000       0.0\n",
      "\n",
      "    accuracy                       0.000000     111.0\n",
      "   macro avg   0.000000  0.000000  0.000000     111.0\n",
      "weighted avg   0.000000  0.000000  0.000000     111.0\n",
      "\n"
     ]
    },
    {
     "data": {
      "text/html": [
       "<b>Random Forest Classifier</b>"
      ],
      "text/plain": [
       "<IPython.core.display.HTML object>"
      ]
     },
     "metadata": {},
     "output_type": "display_data"
    },
    {
     "name": "stdout",
     "output_type": "stream",
     "text": [
      "              precision    recall  f1-score   support\n",
      "\n",
      "           0   0.981982  1.000000  0.990909       109\n",
      "           1   0.000000  0.000000  0.000000         2\n",
      "\n",
      "    accuracy                       0.981982       111\n",
      "   macro avg   0.490991  0.500000  0.495455       111\n",
      "weighted avg   0.964289  0.981982  0.973055       111\n",
      "\n"
     ]
    },
    {
     "data": {
      "text/html": [
       "<b>Gradient Boosting Classifier</b>"
      ],
      "text/plain": [
       "<IPython.core.display.HTML object>"
      ]
     },
     "metadata": {},
     "output_type": "display_data"
    },
    {
     "name": "stdout",
     "output_type": "stream",
     "text": [
      "              precision    recall  f1-score   support\n",
      "\n",
      "           0   0.981818  0.990826  0.986301       109\n",
      "           1   0.000000  0.000000  0.000000         2\n",
      "           2   0.000000  0.000000  0.000000         0\n",
      "\n",
      "    accuracy                       0.972973       111\n",
      "   macro avg   0.327273  0.330275  0.328767       111\n",
      "weighted avg   0.964128  0.972973  0.968530       111\n",
      "\n",
      "==================\n"
     ]
    },
    {
     "data": {
      "text/html": [
       "<b>Naive Bayes Gaussian</b>"
      ],
      "text/plain": [
       "<IPython.core.display.HTML object>"
      ]
     },
     "metadata": {},
     "output_type": "display_data"
    },
    {
     "name": "stdout",
     "output_type": "stream",
     "text": [
      "              precision    recall  f1-score   support\n",
      "\n",
      "           0   0.000000  0.000000  0.000000       115\n",
      "           1   0.000000  0.000000  0.000000         1\n",
      "           2   0.018349  1.000000  0.036036         2\n",
      "\n",
      "    accuracy                       0.016949       118\n",
      "   macro avg   0.006116  0.333333  0.012012       118\n",
      "weighted avg   0.000311  0.016949  0.000611       118\n",
      "\n"
     ]
    },
    {
     "data": {
      "text/html": [
       "<b>Random Forest Classifier</b>"
      ],
      "text/plain": [
       "<IPython.core.display.HTML object>"
      ]
     },
     "metadata": {},
     "output_type": "display_data"
    },
    {
     "name": "stdout",
     "output_type": "stream",
     "text": [
      "              precision    recall  f1-score   support\n",
      "\n",
      "           0   0.974576  1.000000  0.987124       115\n",
      "           1   0.000000  0.000000  0.000000         1\n",
      "           2   0.000000  0.000000  0.000000         2\n",
      "\n",
      "    accuracy                       0.974576       118\n",
      "   macro avg   0.324859  0.333333  0.329041       118\n",
      "weighted avg   0.949799  0.974576  0.962028       118\n",
      "\n"
     ]
    },
    {
     "data": {
      "text/html": [
       "<b>Gradient Boosting Classifier</b>"
      ],
      "text/plain": [
       "<IPython.core.display.HTML object>"
      ]
     },
     "metadata": {},
     "output_type": "display_data"
    },
    {
     "name": "stdout",
     "output_type": "stream",
     "text": [
      "              precision    recall  f1-score   support\n",
      "\n",
      "           0   0.982906  1.000000  0.991379       115\n",
      "           1   0.000000  0.000000  0.000000         1\n",
      "           2   0.000000  0.000000  0.000000         2\n",
      "\n",
      "    accuracy                       0.974576       118\n",
      "   macro avg   0.327635  0.333333  0.330460       118\n",
      "weighted avg   0.957917  0.974576  0.966175       118\n",
      "\n",
      "==================\n"
     ]
    },
    {
     "data": {
      "text/html": [
       "<b>Naive Bayes Gaussian</b>"
      ],
      "text/plain": [
       "<IPython.core.display.HTML object>"
      ]
     },
     "metadata": {},
     "output_type": "display_data"
    },
    {
     "name": "stdout",
     "output_type": "stream",
     "text": [
      "              precision    recall  f1-score   support\n",
      "\n",
      "           0   0.000000  0.000000  0.000000     109.0\n",
      "           1   0.000000  0.000000  0.000000       3.0\n",
      "           2   0.000000  0.000000  0.000000       0.0\n",
      "\n",
      "    accuracy                       0.000000     112.0\n",
      "   macro avg   0.000000  0.000000  0.000000     112.0\n",
      "weighted avg   0.000000  0.000000  0.000000     112.0\n",
      "\n"
     ]
    },
    {
     "data": {
      "text/html": [
       "<b>Random Forest Classifier</b>"
      ],
      "text/plain": [
       "<IPython.core.display.HTML object>"
      ]
     },
     "metadata": {},
     "output_type": "display_data"
    },
    {
     "name": "stdout",
     "output_type": "stream",
     "text": [
      "              precision    recall  f1-score   support\n",
      "\n",
      "           0   0.973214  1.000000  0.986425       109\n",
      "           1   0.000000  0.000000  0.000000         3\n",
      "\n",
      "    accuracy                       0.973214       112\n",
      "   macro avg   0.486607  0.500000  0.493213       112\n",
      "weighted avg   0.947146  0.973214  0.960003       112\n",
      "\n"
     ]
    },
    {
     "data": {
      "text/html": [
       "<b>Gradient Boosting Classifier</b>"
      ],
      "text/plain": [
       "<IPython.core.display.HTML object>"
      ]
     },
     "metadata": {},
     "output_type": "display_data"
    },
    {
     "name": "stdout",
     "output_type": "stream",
     "text": [
      "              precision    recall  f1-score   support\n",
      "\n",
      "           0   0.973214  1.000000  0.986425       109\n",
      "           1   0.000000  0.000000  0.000000         3\n",
      "\n",
      "    accuracy                       0.973214       112\n",
      "   macro avg   0.486607  0.500000  0.493213       112\n",
      "weighted avg   0.947146  0.973214  0.960003       112\n",
      "\n",
      "==================\n"
     ]
    },
    {
     "data": {
      "text/html": [
       "<b>Naive Bayes Gaussian</b>"
      ],
      "text/plain": [
       "<IPython.core.display.HTML object>"
      ]
     },
     "metadata": {},
     "output_type": "display_data"
    },
    {
     "name": "stdout",
     "output_type": "stream",
     "text": [
      "              precision    recall  f1-score   support\n",
      "\n",
      "           0   0.000000  0.000000  0.000000        98\n",
      "           1   0.000000  0.000000  0.000000         2\n",
      "           2   0.010309  1.000000  0.020408         1\n",
      "\n",
      "    accuracy                       0.009901       101\n",
      "   macro avg   0.003436  0.333333  0.006803       101\n",
      "weighted avg   0.000102  0.009901  0.000202       101\n",
      "\n"
     ]
    },
    {
     "data": {
      "text/html": [
       "<b>Random Forest Classifier</b>"
      ],
      "text/plain": [
       "<IPython.core.display.HTML object>"
      ]
     },
     "metadata": {},
     "output_type": "display_data"
    },
    {
     "name": "stdout",
     "output_type": "stream",
     "text": [
      "              precision    recall  f1-score   support\n",
      "\n",
      "           0   0.980000  1.000000  0.989899        98\n",
      "           1   0.000000  0.000000  0.000000         2\n",
      "           2   1.000000  1.000000  1.000000         1\n",
      "\n",
      "    accuracy                       0.980198       101\n",
      "   macro avg   0.660000  0.666667  0.663300       101\n",
      "weighted avg   0.960792  0.980198  0.970397       101\n",
      "\n"
     ]
    },
    {
     "data": {
      "text/html": [
       "<b>Gradient Boosting Classifier</b>"
      ],
      "text/plain": [
       "<IPython.core.display.HTML object>"
      ]
     },
     "metadata": {},
     "output_type": "display_data"
    },
    {
     "name": "stdout",
     "output_type": "stream",
     "text": [
      "              precision    recall  f1-score   support\n",
      "\n",
      "           0   0.980000  1.000000  0.989899        98\n",
      "           1   0.000000  0.000000  0.000000         2\n",
      "           2   0.000000  0.000000  0.000000         1\n",
      "\n",
      "    accuracy                       0.970297       101\n",
      "   macro avg   0.326667  0.333333  0.329966       101\n",
      "weighted avg   0.950891  0.970297  0.960496       101\n",
      "\n",
      "==================\n"
     ]
    },
    {
     "data": {
      "text/html": [
       "<b>Naive Bayes Gaussian</b>"
      ],
      "text/plain": [
       "<IPython.core.display.HTML object>"
      ]
     },
     "metadata": {},
     "output_type": "display_data"
    },
    {
     "name": "stdout",
     "output_type": "stream",
     "text": [
      "              precision    recall  f1-score   support\n",
      "\n",
      "           0   1.000000  0.012346  0.024390        81\n",
      "           1   0.000000  0.000000  0.000000         3\n",
      "           2   0.000000  0.000000  0.000000         0\n",
      "\n",
      "    accuracy                       0.011905        84\n",
      "   macro avg   0.333333  0.004115  0.008130        84\n",
      "weighted avg   0.964286  0.011905  0.023519        84\n",
      "\n"
     ]
    },
    {
     "data": {
      "text/html": [
       "<b>Random Forest Classifier</b>"
      ],
      "text/plain": [
       "<IPython.core.display.HTML object>"
      ]
     },
     "metadata": {},
     "output_type": "display_data"
    },
    {
     "name": "stdout",
     "output_type": "stream",
     "text": [
      "              precision    recall  f1-score   support\n",
      "\n",
      "           0   0.964286  1.000000  0.981818        81\n",
      "           1   0.000000  0.000000  0.000000         3\n",
      "\n",
      "    accuracy                       0.964286        84\n",
      "   macro avg   0.482143  0.500000  0.490909        84\n",
      "weighted avg   0.929847  0.964286  0.946753        84\n",
      "\n"
     ]
    },
    {
     "data": {
      "text/html": [
       "<b>Gradient Boosting Classifier</b>"
      ],
      "text/plain": [
       "<IPython.core.display.HTML object>"
      ]
     },
     "metadata": {},
     "output_type": "display_data"
    },
    {
     "name": "stdout",
     "output_type": "stream",
     "text": [
      "              precision    recall  f1-score   support\n",
      "\n",
      "           0   0.975904  1.000000  0.987805        81\n",
      "           1   0.000000  0.000000  0.000000         3\n",
      "           2   0.000000  0.000000  0.000000         0\n",
      "\n",
      "    accuracy                       0.964286        84\n",
      "   macro avg   0.325301  0.333333  0.329268        84\n",
      "weighted avg   0.941050  0.964286  0.952526        84\n",
      "\n",
      "==================\n"
     ]
    },
    {
     "data": {
      "text/html": [
       "<b>Naive Bayes Gaussian</b>"
      ],
      "text/plain": [
       "<IPython.core.display.HTML object>"
      ]
     },
     "metadata": {},
     "output_type": "display_data"
    },
    {
     "name": "stdout",
     "output_type": "stream",
     "text": [
      "              precision    recall  f1-score   support\n",
      "\n",
      "           0   1.000000  0.010638  0.021053        94\n",
      "           1   0.000000  0.000000  0.000000         1\n",
      "           2   0.000000  0.000000  0.000000         0\n",
      "\n",
      "    accuracy                       0.010526        95\n",
      "   macro avg   0.333333  0.003546  0.007018        95\n",
      "weighted avg   0.989474  0.010526  0.020831        95\n",
      "\n"
     ]
    },
    {
     "data": {
      "text/html": [
       "<b>Random Forest Classifier</b>"
      ],
      "text/plain": [
       "<IPython.core.display.HTML object>"
      ]
     },
     "metadata": {},
     "output_type": "display_data"
    },
    {
     "name": "stdout",
     "output_type": "stream",
     "text": [
      "              precision    recall  f1-score   support\n",
      "\n",
      "           0   0.989474  1.000000  0.994709        94\n",
      "           1   0.000000  0.000000  0.000000         1\n",
      "\n",
      "    accuracy                       0.989474        95\n",
      "   macro avg   0.494737  0.500000  0.497354        95\n",
      "weighted avg   0.979058  0.989474  0.984238        95\n",
      "\n"
     ]
    },
    {
     "data": {
      "text/html": [
       "<b>Gradient Boosting Classifier</b>"
      ],
      "text/plain": [
       "<IPython.core.display.HTML object>"
      ]
     },
     "metadata": {},
     "output_type": "display_data"
    },
    {
     "name": "stdout",
     "output_type": "stream",
     "text": [
      "              precision    recall  f1-score   support\n",
      "\n",
      "           0   0.989474  1.000000  0.994709        94\n",
      "           1   0.000000  0.000000  0.000000         1\n",
      "\n",
      "    accuracy                       0.989474        95\n",
      "   macro avg   0.494737  0.500000  0.497354        95\n",
      "weighted avg   0.979058  0.989474  0.984238        95\n",
      "\n",
      "==================\n"
     ]
    },
    {
     "data": {
      "text/html": [
       "<b>Naive Bayes Gaussian</b>"
      ],
      "text/plain": [
       "<IPython.core.display.HTML object>"
      ]
     },
     "metadata": {},
     "output_type": "display_data"
    },
    {
     "name": "stdout",
     "output_type": "stream",
     "text": [
      "              precision    recall  f1-score   support\n",
      "\n",
      "           0   1.000000  0.008772  0.017391       114\n",
      "           1   0.000000  0.000000  0.000000         2\n",
      "           2   0.000000  0.000000  0.000000         1\n",
      "\n",
      "    accuracy                       0.008547       117\n",
      "   macro avg   0.333333  0.002924  0.005797       117\n",
      "weighted avg   0.974359  0.008547  0.016945       117\n",
      "\n"
     ]
    },
    {
     "data": {
      "text/html": [
       "<b>Random Forest Classifier</b>"
      ],
      "text/plain": [
       "<IPython.core.display.HTML object>"
      ]
     },
     "metadata": {},
     "output_type": "display_data"
    },
    {
     "name": "stdout",
     "output_type": "stream",
     "text": [
      "              precision    recall  f1-score   support\n",
      "\n",
      "           0   0.982759  1.000000  0.991304       114\n",
      "           1   0.000000  0.000000  0.000000         2\n",
      "           2   0.000000  0.000000  0.000000         1\n",
      "\n",
      "    accuracy                       0.974359       117\n",
      "   macro avg   0.327586  0.333333  0.330435       117\n",
      "weighted avg   0.957560  0.974359  0.965886       117\n",
      "\n"
     ]
    },
    {
     "data": {
      "text/html": [
       "<b>Gradient Boosting Classifier</b>"
      ],
      "text/plain": [
       "<IPython.core.display.HTML object>"
      ]
     },
     "metadata": {},
     "output_type": "display_data"
    },
    {
     "name": "stdout",
     "output_type": "stream",
     "text": [
      "              precision    recall  f1-score   support\n",
      "\n",
      "           0   0.991228  0.991228  0.991228       114\n",
      "           1   0.500000  0.500000  0.500000         2\n",
      "           2   0.000000  0.000000  0.000000         1\n",
      "\n",
      "    accuracy                       0.974359       117\n",
      "   macro avg   0.497076  0.497076  0.497076       117\n",
      "weighted avg   0.974359  0.974359  0.974359       117\n",
      "\n",
      "==================\n"
     ]
    },
    {
     "data": {
      "text/html": [
       "<b>Naive Bayes Gaussian</b>"
      ],
      "text/plain": [
       "<IPython.core.display.HTML object>"
      ]
     },
     "metadata": {},
     "output_type": "display_data"
    },
    {
     "name": "stdout",
     "output_type": "stream",
     "text": [
      "              precision    recall  f1-score   support\n",
      "\n",
      "           0   1.000000  0.007576  0.015038       132\n",
      "           1   0.083333  0.333333  0.133333         3\n",
      "           2   0.000000  0.000000  0.000000         0\n",
      "\n",
      "    accuracy                       0.014815       135\n",
      "   macro avg   0.361111  0.113636  0.049457       135\n",
      "weighted avg   0.979630  0.014815  0.017666       135\n",
      "\n"
     ]
    },
    {
     "data": {
      "text/html": [
       "<b>Random Forest Classifier</b>"
      ],
      "text/plain": [
       "<IPython.core.display.HTML object>"
      ]
     },
     "metadata": {},
     "output_type": "display_data"
    },
    {
     "name": "stdout",
     "output_type": "stream",
     "text": [
      "              precision    recall  f1-score   support\n",
      "\n",
      "           0   0.977778  1.000000  0.988764       132\n",
      "           1   0.000000  0.000000  0.000000         3\n",
      "\n",
      "    accuracy                       0.977778       135\n",
      "   macro avg   0.488889  0.500000  0.494382       135\n",
      "weighted avg   0.956049  0.977778  0.966792       135\n",
      "\n"
     ]
    },
    {
     "data": {
      "text/html": [
       "<b>Gradient Boosting Classifier</b>"
      ],
      "text/plain": [
       "<IPython.core.display.HTML object>"
      ]
     },
     "metadata": {},
     "output_type": "display_data"
    },
    {
     "name": "stdout",
     "output_type": "stream",
     "text": [
      "              precision    recall  f1-score   support\n",
      "\n",
      "           0   0.977612  0.992424  0.984962       132\n",
      "           1   0.000000  0.000000  0.000000         3\n",
      "           2   0.000000  0.000000  0.000000         0\n",
      "\n",
      "    accuracy                       0.970370       135\n",
      "   macro avg   0.325871  0.330808  0.328321       135\n",
      "weighted avg   0.955887  0.970370  0.963074       135\n",
      "\n",
      "==================\n"
     ]
    },
    {
     "data": {
      "text/html": [
       "<b>Naive Bayes Gaussian</b>"
      ],
      "text/plain": [
       "<IPython.core.display.HTML object>"
      ]
     },
     "metadata": {},
     "output_type": "display_data"
    },
    {
     "name": "stdout",
     "output_type": "stream",
     "text": [
      "              precision    recall  f1-score   support\n",
      "\n",
      "           0   1.000000  0.007463  0.014815       134\n",
      "           1   0.000000  0.000000  0.000000         4\n",
      "           2   0.007812  1.000000  0.015504         1\n",
      "\n",
      "    accuracy                       0.014388       139\n",
      "   macro avg   0.335938  0.335821  0.010106       139\n",
      "weighted avg   0.964085  0.014388  0.014393       139\n",
      "\n"
     ]
    },
    {
     "data": {
      "text/html": [
       "<b>Random Forest Classifier</b>"
      ],
      "text/plain": [
       "<IPython.core.display.HTML object>"
      ]
     },
     "metadata": {},
     "output_type": "display_data"
    },
    {
     "name": "stdout",
     "output_type": "stream",
     "text": [
      "              precision    recall  f1-score   support\n",
      "\n",
      "           0   0.964029  1.000000  0.981685       134\n",
      "           1   0.000000  0.000000  0.000000         4\n",
      "           2   0.000000  0.000000  0.000000         1\n",
      "\n",
      "    accuracy                       0.964029       139\n",
      "   macro avg   0.321343  0.333333  0.327228       139\n",
      "weighted avg   0.929351  0.964029  0.946373       139\n",
      "\n"
     ]
    },
    {
     "data": {
      "text/html": [
       "<b>Gradient Boosting Classifier</b>"
      ],
      "text/plain": [
       "<IPython.core.display.HTML object>"
      ]
     },
     "metadata": {},
     "output_type": "display_data"
    },
    {
     "name": "stdout",
     "output_type": "stream",
     "text": [
      "              precision    recall  f1-score   support\n",
      "\n",
      "           0   0.970803  0.992537  0.981550       134\n",
      "           1   0.000000  0.000000  0.000000         4\n",
      "           2   0.000000  0.000000  0.000000         1\n",
      "\n",
      "    accuracy                       0.956835       139\n",
      "   macro avg   0.323601  0.330846  0.327183       139\n",
      "weighted avg   0.935882  0.956835  0.946242       139\n",
      "\n",
      "==================\n"
     ]
    },
    {
     "data": {
      "text/html": [
       "<b>Naive Bayes Gaussian</b>"
      ],
      "text/plain": [
       "<IPython.core.display.HTML object>"
      ]
     },
     "metadata": {},
     "output_type": "display_data"
    },
    {
     "name": "stdout",
     "output_type": "stream",
     "text": [
      "              precision    recall  f1-score   support\n",
      "\n",
      "           0   1.000000  0.015748  0.031008       127\n",
      "           1   0.000000  0.000000  0.000000         4\n",
      "           2   0.008130  1.000000  0.016129         1\n",
      "\n",
      "    accuracy                       0.022727       132\n",
      "   macro avg   0.336043  0.338583  0.015712       132\n",
      "weighted avg   0.962183  0.022727  0.029955       132\n",
      "\n"
     ]
    },
    {
     "data": {
      "text/html": [
       "<b>Random Forest Classifier</b>"
      ],
      "text/plain": [
       "<IPython.core.display.HTML object>"
      ]
     },
     "metadata": {},
     "output_type": "display_data"
    },
    {
     "name": "stdout",
     "output_type": "stream",
     "text": [
      "              precision    recall  f1-score   support\n",
      "\n",
      "           0   0.962121  1.000000  0.980695       127\n",
      "           1   0.000000  0.000000  0.000000         4\n",
      "           2   0.000000  0.000000  0.000000         1\n",
      "\n",
      "    accuracy                       0.962121       132\n",
      "   macro avg   0.320707  0.333333  0.326898       132\n",
      "weighted avg   0.925677  0.962121  0.943547       132\n",
      "\n"
     ]
    },
    {
     "data": {
      "text/html": [
       "<b>Gradient Boosting Classifier</b>"
      ],
      "text/plain": [
       "<IPython.core.display.HTML object>"
      ]
     },
     "metadata": {},
     "output_type": "display_data"
    },
    {
     "name": "stdout",
     "output_type": "stream",
     "text": [
      "              precision    recall  f1-score   support\n",
      "\n",
      "           0   0.976923  1.000000  0.988327       127\n",
      "           1   1.000000  0.500000  0.666667         4\n",
      "           2   0.000000  0.000000  0.000000         1\n",
      "\n",
      "    accuracy                       0.977273       132\n",
      "   macro avg   0.658974  0.500000  0.551665       132\n",
      "weighted avg   0.970221  0.977273  0.971092       132\n",
      "\n",
      "==================\n"
     ]
    },
    {
     "data": {
      "text/html": [
       "<b>Naive Bayes Gaussian</b>"
      ],
      "text/plain": [
       "<IPython.core.display.HTML object>"
      ]
     },
     "metadata": {},
     "output_type": "display_data"
    },
    {
     "name": "stdout",
     "output_type": "stream",
     "text": [
      "              precision    recall  f1-score   support\n",
      "\n",
      "           0   1.000000  0.008850  0.017544       113\n",
      "           1   0.000000  0.000000  0.000000         2\n",
      "           2   0.000000  0.000000  0.000000         0\n",
      "\n",
      "    accuracy                       0.008696       115\n",
      "   macro avg   0.333333  0.002950  0.005848       115\n",
      "weighted avg   0.982609  0.008696  0.017239       115\n",
      "\n"
     ]
    },
    {
     "data": {
      "text/html": [
       "<b>Random Forest Classifier</b>"
      ],
      "text/plain": [
       "<IPython.core.display.HTML object>"
      ]
     },
     "metadata": {},
     "output_type": "display_data"
    },
    {
     "name": "stdout",
     "output_type": "stream",
     "text": [
      "              precision    recall  f1-score   support\n",
      "\n",
      "           0   0.982609  1.000000  0.991228       113\n",
      "           1   0.000000  0.000000  0.000000         2\n",
      "\n",
      "    accuracy                       0.982609       115\n",
      "   macro avg   0.491304  0.500000  0.495614       115\n",
      "weighted avg   0.965520  0.982609  0.973989       115\n",
      "\n"
     ]
    },
    {
     "data": {
      "text/html": [
       "<b>Gradient Boosting Classifier</b>"
      ],
      "text/plain": [
       "<IPython.core.display.HTML object>"
      ]
     },
     "metadata": {},
     "output_type": "display_data"
    },
    {
     "name": "stdout",
     "output_type": "stream",
     "text": [
      "              precision    recall  f1-score   support\n",
      "\n",
      "           0   0.982456  0.991150  0.986784       113\n",
      "           1   0.000000  0.000000  0.000000         2\n",
      "\n",
      "    accuracy                       0.973913       115\n",
      "   macro avg   0.491228  0.495575  0.493392       115\n",
      "weighted avg   0.965370  0.973913  0.969623       115\n",
      "\n",
      "==================\n"
     ]
    },
    {
     "data": {
      "text/html": [
       "<b>Naive Bayes Gaussian</b>"
      ],
      "text/plain": [
       "<IPython.core.display.HTML object>"
      ]
     },
     "metadata": {},
     "output_type": "display_data"
    },
    {
     "name": "stdout",
     "output_type": "stream",
     "text": [
      "              precision    recall  f1-score   support\n",
      "\n",
      "           0   1.000000  0.010417  0.020619        96\n",
      "           1   0.000000  0.000000  0.000000         2\n",
      "           2   0.000000  0.000000  0.000000         0\n",
      "\n",
      "    accuracy                       0.010204        98\n",
      "   macro avg   0.333333  0.003472  0.006873        98\n",
      "weighted avg   0.979592  0.010204  0.020198        98\n",
      "\n"
     ]
    },
    {
     "data": {
      "text/html": [
       "<b>Random Forest Classifier</b>"
      ],
      "text/plain": [
       "<IPython.core.display.HTML object>"
      ]
     },
     "metadata": {},
     "output_type": "display_data"
    },
    {
     "name": "stdout",
     "output_type": "stream",
     "text": [
      "              precision    recall  f1-score   support\n",
      "\n",
      "           0   0.979592  1.000000  0.989691        96\n",
      "           1   0.000000  0.000000  0.000000         2\n",
      "\n",
      "    accuracy                       0.979592        98\n",
      "   macro avg   0.489796  0.500000  0.494845        98\n",
      "weighted avg   0.959600  0.979592  0.969493        98\n",
      "\n"
     ]
    },
    {
     "data": {
      "text/html": [
       "<b>Gradient Boosting Classifier</b>"
      ],
      "text/plain": [
       "<IPython.core.display.HTML object>"
      ]
     },
     "metadata": {},
     "output_type": "display_data"
    },
    {
     "name": "stdout",
     "output_type": "stream",
     "text": [
      "              precision    recall  f1-score   support\n",
      "\n",
      "           0   0.979167  0.979167  0.979167        96\n",
      "           1   0.000000  0.000000  0.000000         2\n",
      "\n",
      "    accuracy                       0.959184        98\n",
      "   macro avg   0.489583  0.489583  0.489583        98\n",
      "weighted avg   0.959184  0.959184  0.959184        98\n",
      "\n",
      "==================\n"
     ]
    },
    {
     "data": {
      "text/html": [
       "<b>Naive Bayes Gaussian</b>"
      ],
      "text/plain": [
       "<IPython.core.display.HTML object>"
      ]
     },
     "metadata": {},
     "output_type": "display_data"
    },
    {
     "name": "stdout",
     "output_type": "stream",
     "text": [
      "              precision    recall  f1-score   support\n",
      "\n",
      "           0   0.000000  0.000000  0.000000     107.0\n",
      "           1   0.000000  0.000000  0.000000       2.0\n",
      "           2   0.000000  0.000000  0.000000       0.0\n",
      "\n",
      "    accuracy                       0.000000     109.0\n",
      "   macro avg   0.000000  0.000000  0.000000     109.0\n",
      "weighted avg   0.000000  0.000000  0.000000     109.0\n",
      "\n"
     ]
    },
    {
     "data": {
      "text/html": [
       "<b>Random Forest Classifier</b>"
      ],
      "text/plain": [
       "<IPython.core.display.HTML object>"
      ]
     },
     "metadata": {},
     "output_type": "display_data"
    },
    {
     "name": "stdout",
     "output_type": "stream",
     "text": [
      "              precision    recall  f1-score   support\n",
      "\n",
      "           0   0.990741  1.000000  0.995349       107\n",
      "           1   0.000000  0.000000  0.000000         2\n",
      "           2   0.000000  0.000000  0.000000         0\n",
      "\n",
      "    accuracy                       0.981651       109\n",
      "   macro avg   0.330247  0.333333  0.331783       109\n",
      "weighted avg   0.972562  0.981651  0.977086       109\n",
      "\n"
     ]
    },
    {
     "data": {
      "text/html": [
       "<b>Gradient Boosting Classifier</b>"
      ],
      "text/plain": [
       "<IPython.core.display.HTML object>"
      ]
     },
     "metadata": {},
     "output_type": "display_data"
    },
    {
     "name": "stdout",
     "output_type": "stream",
     "text": [
      "              precision    recall  f1-score   support\n",
      "\n",
      "           0   0.990741  1.000000  0.995349       107\n",
      "           1   0.000000  0.000000  0.000000         2\n",
      "           2   0.000000  0.000000  0.000000         0\n",
      "\n",
      "    accuracy                       0.981651       109\n",
      "   macro avg   0.330247  0.333333  0.331783       109\n",
      "weighted avg   0.972562  0.981651  0.977086       109\n",
      "\n",
      "==================\n"
     ]
    },
    {
     "data": {
      "text/html": [
       "<b>Naive Bayes Gaussian</b>"
      ],
      "text/plain": [
       "<IPython.core.display.HTML object>"
      ]
     },
     "metadata": {},
     "output_type": "display_data"
    },
    {
     "name": "stdout",
     "output_type": "stream",
     "text": [
      "              precision    recall  f1-score   support\n",
      "\n",
      "           0   0.000000  0.000000  0.000000       121\n",
      "           1   0.200000  0.200000  0.200000         5\n",
      "           2   0.000000  0.000000  0.000000         0\n",
      "\n",
      "    accuracy                       0.007937       126\n",
      "   macro avg   0.066667  0.066667  0.066667       126\n",
      "weighted avg   0.007937  0.007937  0.007937       126\n",
      "\n"
     ]
    },
    {
     "data": {
      "text/html": [
       "<b>Random Forest Classifier</b>"
      ],
      "text/plain": [
       "<IPython.core.display.HTML object>"
      ]
     },
     "metadata": {},
     "output_type": "display_data"
    },
    {
     "name": "stdout",
     "output_type": "stream",
     "text": [
      "              precision    recall  f1-score   support\n",
      "\n",
      "           0   0.960317  1.000000  0.979757       121\n",
      "           1   0.000000  0.000000  0.000000         5\n",
      "\n",
      "    accuracy                       0.960317       126\n",
      "   macro avg   0.480159  0.500000  0.489879       126\n",
      "weighted avg   0.922210  0.960317  0.940878       126\n",
      "\n"
     ]
    },
    {
     "data": {
      "text/html": [
       "<b>Gradient Boosting Classifier</b>"
      ],
      "text/plain": [
       "<IPython.core.display.HTML object>"
      ]
     },
     "metadata": {},
     "output_type": "display_data"
    },
    {
     "name": "stdout",
     "output_type": "stream",
     "text": [
      "              precision    recall  f1-score   support\n",
      "\n",
      "           0   0.967742  0.991736  0.979592       121\n",
      "           1   0.500000  0.200000  0.285714         5\n",
      "\n",
      "    accuracy                       0.960317       126\n",
      "   macro avg   0.733871  0.595868  0.632653       126\n",
      "weighted avg   0.949181  0.960317  0.952057       126\n",
      "\n",
      "==================\n"
     ]
    },
    {
     "data": {
      "text/html": [
       "<b>Naive Bayes Gaussian</b>"
      ],
      "text/plain": [
       "<IPython.core.display.HTML object>"
      ]
     },
     "metadata": {},
     "output_type": "display_data"
    },
    {
     "name": "stdout",
     "output_type": "stream",
     "text": [
      "              precision    recall  f1-score   support\n",
      "\n",
      "           0   1.000000  0.007752  0.015385       129\n",
      "           1   0.000000  0.000000  0.000000         2\n",
      "           2   0.008065  1.000000  0.016000         1\n",
      "\n",
      "    accuracy                       0.015152       132\n",
      "   macro avg   0.336022  0.335917  0.010462       132\n",
      "weighted avg   0.977334  0.015152  0.015156       132\n",
      "\n"
     ]
    },
    {
     "data": {
      "text/html": [
       "<b>Random Forest Classifier</b>"
      ],
      "text/plain": [
       "<IPython.core.display.HTML object>"
      ]
     },
     "metadata": {},
     "output_type": "display_data"
    },
    {
     "name": "stdout",
     "output_type": "stream",
     "text": [
      "              precision    recall  f1-score   support\n",
      "\n",
      "           0   0.977273  1.000000  0.988506       129\n",
      "           1   0.000000  0.000000  0.000000         2\n",
      "           2   0.000000  0.000000  0.000000         1\n",
      "\n",
      "    accuracy                       0.977273       132\n",
      "   macro avg   0.325758  0.333333  0.329502       132\n",
      "weighted avg   0.955062  0.977273  0.966040       132\n",
      "\n"
     ]
    },
    {
     "data": {
      "text/html": [
       "<b>Gradient Boosting Classifier</b>"
      ],
      "text/plain": [
       "<IPython.core.display.HTML object>"
      ]
     },
     "metadata": {},
     "output_type": "display_data"
    },
    {
     "name": "stdout",
     "output_type": "stream",
     "text": [
      "              precision    recall  f1-score   support\n",
      "\n",
      "           0   0.984733  1.000000  0.992308       129\n",
      "           1   1.000000  0.500000  0.666667         2\n",
      "           2   0.000000  0.000000  0.000000         1\n",
      "\n",
      "    accuracy                       0.984848       132\n",
      "   macro avg   0.661578  0.500000  0.552991       132\n",
      "weighted avg   0.977504  0.984848  0.979856       132\n",
      "\n",
      "==================\n"
     ]
    },
    {
     "data": {
      "text/html": [
       "<b>Naive Bayes Gaussian</b>"
      ],
      "text/plain": [
       "<IPython.core.display.HTML object>"
      ]
     },
     "metadata": {},
     "output_type": "display_data"
    },
    {
     "name": "stdout",
     "output_type": "stream",
     "text": [
      "              precision    recall  f1-score   support\n",
      "\n",
      "           0   1.000000  0.015873  0.031250       126\n",
      "           1   0.000000  0.000000  0.000000         0\n",
      "           2   0.008475  1.000000  0.016807         1\n",
      "\n",
      "    accuracy                       0.023622       127\n",
      "   macro avg   0.336158  0.338624  0.016019       127\n",
      "weighted avg   0.992193  0.023622  0.031136       127\n",
      "\n"
     ]
    },
    {
     "data": {
      "text/html": [
       "<b>Random Forest Classifier</b>"
      ],
      "text/plain": [
       "<IPython.core.display.HTML object>"
      ]
     },
     "metadata": {},
     "output_type": "display_data"
    },
    {
     "name": "stdout",
     "output_type": "stream",
     "text": [
      "              precision    recall  f1-score   support\n",
      "\n",
      "           0   0.992126  1.000000  0.996047       126\n",
      "           2   0.000000  0.000000  0.000000         1\n",
      "\n",
      "    accuracy                       0.992126       127\n",
      "   macro avg   0.496063  0.500000  0.498024       127\n",
      "weighted avg   0.984314  0.992126  0.988205       127\n",
      "\n"
     ]
    },
    {
     "data": {
      "text/html": [
       "<b>Gradient Boosting Classifier</b>"
      ],
      "text/plain": [
       "<IPython.core.display.HTML object>"
      ]
     },
     "metadata": {},
     "output_type": "display_data"
    },
    {
     "name": "stdout",
     "output_type": "stream",
     "text": [
      "              precision    recall  f1-score   support\n",
      "\n",
      "           0   0.992126  1.000000  0.996047       126\n",
      "           2   0.000000  0.000000  0.000000         1\n",
      "\n",
      "    accuracy                       0.992126       127\n",
      "   macro avg   0.496063  0.500000  0.498024       127\n",
      "weighted avg   0.984314  0.992126  0.988205       127\n",
      "\n",
      "==================\n"
     ]
    },
    {
     "data": {
      "text/html": [
       "<b>Naive Bayes Gaussian</b>"
      ],
      "text/plain": [
       "<IPython.core.display.HTML object>"
      ]
     },
     "metadata": {},
     "output_type": "display_data"
    },
    {
     "name": "stdout",
     "output_type": "stream",
     "text": [
      "              precision    recall  f1-score   support\n",
      "\n",
      "           0   1.000000  0.023810  0.046512       126\n",
      "           1   0.000000  0.000000  0.000000         0\n",
      "           2   0.000000  0.000000  0.000000         0\n",
      "\n",
      "    accuracy                       0.023810       126\n",
      "   macro avg   0.333333  0.007937  0.015504       126\n",
      "weighted avg   1.000000  0.023810  0.046512       126\n",
      "\n"
     ]
    },
    {
     "data": {
      "text/html": [
       "<b>Random Forest Classifier</b>"
      ],
      "text/plain": [
       "<IPython.core.display.HTML object>"
      ]
     },
     "metadata": {},
     "output_type": "display_data"
    },
    {
     "name": "stdout",
     "output_type": "stream",
     "text": [
      "              precision    recall  f1-score   support\n",
      "\n",
      "           0   1.000000  1.000000  1.000000       126\n",
      "\n",
      "    accuracy                       1.000000       126\n",
      "   macro avg   1.000000  1.000000  1.000000       126\n",
      "weighted avg   1.000000  1.000000  1.000000       126\n",
      "\n"
     ]
    },
    {
     "data": {
      "text/html": [
       "<b>Gradient Boosting Classifier</b>"
      ],
      "text/plain": [
       "<IPython.core.display.HTML object>"
      ]
     },
     "metadata": {},
     "output_type": "display_data"
    },
    {
     "name": "stdout",
     "output_type": "stream",
     "text": [
      "              precision    recall  f1-score   support\n",
      "\n",
      "           0   1.000000  0.992063  0.996016       126\n",
      "           1   0.000000  0.000000  0.000000         0\n",
      "\n",
      "    accuracy                       0.992063       126\n",
      "   macro avg   0.500000  0.496032  0.498008       126\n",
      "weighted avg   1.000000  0.992063  0.996016       126\n",
      "\n",
      "==================\n"
     ]
    },
    {
     "data": {
      "text/html": [
       "<b>Naive Bayes Gaussian</b>"
      ],
      "text/plain": [
       "<IPython.core.display.HTML object>"
      ]
     },
     "metadata": {},
     "output_type": "display_data"
    },
    {
     "name": "stdout",
     "output_type": "stream",
     "text": [
      "              precision    recall  f1-score   support\n",
      "\n",
      "           0   1.000000  0.025000  0.048780       120\n",
      "           1   0.000000  0.000000  0.000000         0\n",
      "           2   0.000000  0.000000  0.000000         1\n",
      "\n",
      "    accuracy                       0.024793       121\n",
      "   macro avg   0.333333  0.008333  0.016260       121\n",
      "weighted avg   0.991736  0.024793  0.048377       121\n",
      "\n"
     ]
    },
    {
     "data": {
      "text/html": [
       "<b>Random Forest Classifier</b>"
      ],
      "text/plain": [
       "<IPython.core.display.HTML object>"
      ]
     },
     "metadata": {},
     "output_type": "display_data"
    },
    {
     "name": "stdout",
     "output_type": "stream",
     "text": [
      "              precision    recall  f1-score   support\n",
      "\n",
      "           0   0.991736  1.000000  0.995851       120\n",
      "           2   0.000000  0.000000  0.000000         1\n",
      "\n",
      "    accuracy                       0.991736       121\n",
      "   macro avg   0.495868  0.500000  0.497925       121\n",
      "weighted avg   0.983539  0.991736  0.987620       121\n",
      "\n"
     ]
    },
    {
     "data": {
      "text/html": [
       "<b>Gradient Boosting Classifier</b>"
      ],
      "text/plain": [
       "<IPython.core.display.HTML object>"
      ]
     },
     "metadata": {},
     "output_type": "display_data"
    },
    {
     "name": "stdout",
     "output_type": "stream",
     "text": [
      "              precision    recall  f1-score   support\n",
      "\n",
      "           0   1.000000  1.000000  1.000000       120\n",
      "           1   0.000000  0.000000  0.000000         0\n",
      "           2   0.000000  0.000000  0.000000         1\n",
      "\n",
      "    accuracy                       0.991736       121\n",
      "   macro avg   0.333333  0.333333  0.333333       121\n",
      "weighted avg   0.991736  0.991736  0.991736       121\n",
      "\n",
      "==================\n"
     ]
    },
    {
     "data": {
      "text/html": [
       "<b>Naive Bayes Gaussian</b>"
      ],
      "text/plain": [
       "<IPython.core.display.HTML object>"
      ]
     },
     "metadata": {},
     "output_type": "display_data"
    },
    {
     "name": "stdout",
     "output_type": "stream",
     "text": [
      "              precision    recall  f1-score   support\n",
      "\n",
      "           0   1.000000  0.020202  0.039604        99\n",
      "           1   0.125000  0.500000  0.200000         2\n",
      "           2   0.000000  0.000000  0.000000         0\n",
      "\n",
      "    accuracy                       0.029703       101\n",
      "   macro avg   0.375000  0.173401  0.079868       101\n",
      "weighted avg   0.982673  0.029703  0.042780       101\n",
      "\n"
     ]
    },
    {
     "data": {
      "text/html": [
       "<b>Random Forest Classifier</b>"
      ],
      "text/plain": [
       "<IPython.core.display.HTML object>"
      ]
     },
     "metadata": {},
     "output_type": "display_data"
    },
    {
     "name": "stdout",
     "output_type": "stream",
     "text": [
      "              precision    recall  f1-score   support\n",
      "\n",
      "           0   0.980198  1.000000  0.990000        99\n",
      "           1   0.000000  0.000000  0.000000         2\n",
      "\n",
      "    accuracy                       0.980198       101\n",
      "   macro avg   0.490099  0.500000  0.495000       101\n",
      "weighted avg   0.960788  0.980198  0.970396       101\n",
      "\n"
     ]
    },
    {
     "data": {
      "text/html": [
       "<b>Gradient Boosting Classifier</b>"
      ],
      "text/plain": [
       "<IPython.core.display.HTML object>"
      ]
     },
     "metadata": {},
     "output_type": "display_data"
    },
    {
     "name": "stdout",
     "output_type": "stream",
     "text": [
      "              precision    recall  f1-score   support\n",
      "\n",
      "           0   0.980198  1.000000  0.990000        99\n",
      "           1   0.000000  0.000000  0.000000         2\n",
      "\n",
      "    accuracy                       0.980198       101\n",
      "   macro avg   0.490099  0.500000  0.495000       101\n",
      "weighted avg   0.960788  0.980198  0.970396       101\n",
      "\n",
      "==================\n"
     ]
    },
    {
     "data": {
      "text/html": [
       "<b>Naive Bayes Gaussian</b>"
      ],
      "text/plain": [
       "<IPython.core.display.HTML object>"
      ]
     },
     "metadata": {},
     "output_type": "display_data"
    },
    {
     "name": "stdout",
     "output_type": "stream",
     "text": [
      "              precision    recall  f1-score   support\n",
      "\n",
      "           0   0.000000  0.000000  0.000000       103\n",
      "           1   0.111111  0.250000  0.153846         4\n",
      "           2   0.010101  1.000000  0.020000         1\n",
      "\n",
      "    accuracy                       0.018519       108\n",
      "   macro avg   0.040404  0.416667  0.057949       108\n",
      "weighted avg   0.004209  0.018519  0.005883       108\n",
      "\n"
     ]
    },
    {
     "data": {
      "text/html": [
       "<b>Random Forest Classifier</b>"
      ],
      "text/plain": [
       "<IPython.core.display.HTML object>"
      ]
     },
     "metadata": {},
     "output_type": "display_data"
    },
    {
     "name": "stdout",
     "output_type": "stream",
     "text": [
      "              precision    recall  f1-score   support\n",
      "\n",
      "           0   0.962617  1.000000  0.980952       103\n",
      "           1   0.000000  0.000000  0.000000         4\n",
      "           2   1.000000  1.000000  1.000000         1\n",
      "\n",
      "    accuracy                       0.962963       108\n",
      "   macro avg   0.654206  0.666667  0.660317       108\n",
      "weighted avg   0.927310  0.962963  0.944797       108\n",
      "\n"
     ]
    },
    {
     "data": {
      "text/html": [
       "<b>Gradient Boosting Classifier</b>"
      ],
      "text/plain": [
       "<IPython.core.display.HTML object>"
      ]
     },
     "metadata": {},
     "output_type": "display_data"
    },
    {
     "name": "stdout",
     "output_type": "stream",
     "text": [
      "              precision    recall  f1-score   support\n",
      "\n",
      "           0   0.962264  0.990291  0.976077       103\n",
      "           1   0.000000  0.000000  0.000000         4\n",
      "           2   1.000000  1.000000  1.000000         1\n",
      "\n",
      "    accuracy                       0.953704       108\n",
      "   macro avg   0.654088  0.663430  0.658692       108\n",
      "weighted avg   0.926974  0.953704  0.940147       108\n",
      "\n",
      "==================\n"
     ]
    },
    {
     "data": {
      "text/html": [
       "<b>Naive Bayes Gaussian</b>"
      ],
      "text/plain": [
       "<IPython.core.display.HTML object>"
      ]
     },
     "metadata": {},
     "output_type": "display_data"
    },
    {
     "name": "stdout",
     "output_type": "stream",
     "text": [
      "              precision    recall  f1-score   support\n",
      "\n",
      "           0   1.000000  0.008000  0.015873       125\n",
      "           1   0.125000  0.333333  0.181818         3\n",
      "           2   0.016529  1.000000  0.032520         2\n",
      "\n",
      "    accuracy                       0.030769       130\n",
      "   macro avg   0.380510  0.447111  0.076737       130\n",
      "weighted avg   0.964677  0.030769  0.019959       130\n",
      "\n"
     ]
    },
    {
     "data": {
      "text/html": [
       "<b>Random Forest Classifier</b>"
      ],
      "text/plain": [
       "<IPython.core.display.HTML object>"
      ]
     },
     "metadata": {},
     "output_type": "display_data"
    },
    {
     "name": "stdout",
     "output_type": "stream",
     "text": [
      "              precision    recall  f1-score   support\n",
      "\n",
      "           0   0.968992  1.000000  0.984252       125\n",
      "           1   0.000000  0.000000  0.000000         3\n",
      "           2   1.000000  0.500000  0.666667         2\n",
      "\n",
      "    accuracy                       0.969231       130\n",
      "   macro avg   0.656331  0.500000  0.550306       130\n",
      "weighted avg   0.947108  0.969231  0.956653       130\n",
      "\n"
     ]
    },
    {
     "data": {
      "text/html": [
       "<b>Gradient Boosting Classifier</b>"
      ],
      "text/plain": [
       "<IPython.core.display.HTML object>"
      ]
     },
     "metadata": {},
     "output_type": "display_data"
    },
    {
     "name": "stdout",
     "output_type": "stream",
     "text": [
      "              precision    recall  f1-score   support\n",
      "\n",
      "           0   0.968750  0.992000  0.980237       125\n",
      "           1   0.000000  0.000000  0.000000         3\n",
      "           2   0.500000  0.500000  0.500000         2\n",
      "\n",
      "    accuracy                       0.961538       130\n",
      "   macro avg   0.489583  0.497333  0.493412       130\n",
      "weighted avg   0.939183  0.961538  0.950228       130\n",
      "\n",
      "==================\n"
     ]
    },
    {
     "data": {
      "text/html": [
       "<b>Naive Bayes Gaussian</b>"
      ],
      "text/plain": [
       "<IPython.core.display.HTML object>"
      ]
     },
     "metadata": {},
     "output_type": "display_data"
    },
    {
     "name": "stdout",
     "output_type": "stream",
     "text": [
      "              precision    recall  f1-score   support\n",
      "\n",
      "           0   1.000000  0.005988  0.011905       167\n",
      "           1   0.000000  0.000000  0.000000         3\n",
      "           2   0.012270  1.000000  0.024242         2\n",
      "\n",
      "    accuracy                       0.017442       172\n",
      "   macro avg   0.337423  0.335329  0.012049       172\n",
      "weighted avg   0.971073  0.017442  0.011841       172\n",
      "\n"
     ]
    },
    {
     "data": {
      "text/html": [
       "<b>Random Forest Classifier</b>"
      ],
      "text/plain": [
       "<IPython.core.display.HTML object>"
      ]
     },
     "metadata": {},
     "output_type": "display_data"
    },
    {
     "name": "stdout",
     "output_type": "stream",
     "text": [
      "              precision    recall  f1-score   support\n",
      "\n",
      "           0   0.976608  1.000000  0.988166       167\n",
      "           1   0.000000  0.000000  0.000000         3\n",
      "           2   1.000000  0.500000  0.666667         2\n",
      "\n",
      "    accuracy                       0.976744       172\n",
      "   macro avg   0.658869  0.500000  0.551611       172\n",
      "weighted avg   0.959846  0.976744  0.967192       172\n",
      "\n"
     ]
    },
    {
     "data": {
      "text/html": [
       "<b>Gradient Boosting Classifier</b>"
      ],
      "text/plain": [
       "<IPython.core.display.HTML object>"
      ]
     },
     "metadata": {},
     "output_type": "display_data"
    },
    {
     "name": "stdout",
     "output_type": "stream",
     "text": [
      "              precision    recall  f1-score   support\n",
      "\n",
      "           0   0.982353  1.000000  0.991098       167\n",
      "           1   1.000000  0.333333  0.500000         3\n",
      "           2   1.000000  0.500000  0.666667         2\n",
      "\n",
      "    accuracy                       0.982558       172\n",
      "   macro avg   0.994118  0.611111  0.719255       172\n",
      "weighted avg   0.982866  0.982558  0.978760       172\n",
      "\n",
      "==================\n"
     ]
    },
    {
     "data": {
      "text/html": [
       "<b>Naive Bayes Gaussian</b>"
      ],
      "text/plain": [
       "<IPython.core.display.HTML object>"
      ]
     },
     "metadata": {},
     "output_type": "display_data"
    },
    {
     "name": "stdout",
     "output_type": "stream",
     "text": [
      "              precision    recall  f1-score   support\n",
      "\n",
      "           0   1.000000  0.005376  0.010695       186\n",
      "           1   0.000000  0.000000  0.000000         1\n",
      "           2   0.005587  1.000000  0.011111         1\n",
      "\n",
      "    accuracy                       0.010638       188\n",
      "   macro avg   0.335196  0.335125  0.007269       188\n",
      "weighted avg   0.989391  0.010638  0.010641       188\n",
      "\n"
     ]
    },
    {
     "data": {
      "text/html": [
       "<b>Random Forest Classifier</b>"
      ],
      "text/plain": [
       "<IPython.core.display.HTML object>"
      ]
     },
     "metadata": {},
     "output_type": "display_data"
    },
    {
     "name": "stdout",
     "output_type": "stream",
     "text": [
      "              precision    recall  f1-score   support\n",
      "\n",
      "           0   0.994652  1.000000  0.997319       186\n",
      "           1   0.000000  0.000000  0.000000         1\n",
      "           2   1.000000  1.000000  1.000000         1\n",
      "\n",
      "    accuracy                       0.994681       188\n",
      "   macro avg   0.664884  0.666667  0.665773       188\n",
      "weighted avg   0.989390  0.994681  0.992028       188\n",
      "\n"
     ]
    },
    {
     "data": {
      "text/html": [
       "<b>Gradient Boosting Classifier</b>"
      ],
      "text/plain": [
       "<IPython.core.display.HTML object>"
      ]
     },
     "metadata": {},
     "output_type": "display_data"
    },
    {
     "name": "stdout",
     "output_type": "stream",
     "text": [
      "              precision    recall  f1-score   support\n",
      "\n",
      "           0   0.994565  0.983871  0.989189       186\n",
      "           1   0.000000  0.000000  0.000000         1\n",
      "           2   0.000000  0.000000  0.000000         1\n",
      "\n",
      "    accuracy                       0.973404       188\n",
      "   macro avg   0.331522  0.327957  0.329730       188\n",
      "weighted avg   0.983985  0.973404  0.978666       188\n",
      "\n",
      "==================\n"
     ]
    },
    {
     "data": {
      "text/html": [
       "<b>Naive Bayes Gaussian</b>"
      ],
      "text/plain": [
       "<IPython.core.display.HTML object>"
      ]
     },
     "metadata": {},
     "output_type": "display_data"
    },
    {
     "name": "stdout",
     "output_type": "stream",
     "text": [
      "              precision    recall  f1-score   support\n",
      "\n",
      "           0   0.000000  0.000000  0.000000       204\n",
      "           1   0.000000  0.000000  0.000000         3\n",
      "           2   0.010101  1.000000  0.020000         2\n",
      "\n",
      "    accuracy                       0.009569       209\n",
      "   macro avg   0.003367  0.333333  0.006667       209\n",
      "weighted avg   0.000097  0.009569  0.000191       209\n",
      "\n"
     ]
    },
    {
     "data": {
      "text/html": [
       "<b>Random Forest Classifier</b>"
      ],
      "text/plain": [
       "<IPython.core.display.HTML object>"
      ]
     },
     "metadata": {},
     "output_type": "display_data"
    },
    {
     "name": "stdout",
     "output_type": "stream",
     "text": [
      "              precision    recall  f1-score   support\n",
      "\n",
      "           0   0.980769  1.000000  0.990291       204\n",
      "           1   0.000000  0.000000  0.000000         3\n",
      "           2   1.000000  0.500000  0.666667         2\n",
      "\n",
      "    accuracy                       0.980861       209\n",
      "   macro avg   0.660256  0.500000  0.552319       209\n",
      "weighted avg   0.966875  0.980861  0.972980       209\n",
      "\n"
     ]
    },
    {
     "data": {
      "text/html": [
       "<b>Gradient Boosting Classifier</b>"
      ],
      "text/plain": [
       "<IPython.core.display.HTML object>"
      ]
     },
     "metadata": {},
     "output_type": "display_data"
    },
    {
     "name": "stdout",
     "output_type": "stream",
     "text": [
      "              precision    recall  f1-score   support\n",
      "\n",
      "           0   0.985149  0.975490  0.980296       204\n",
      "           1   0.000000  0.000000  0.000000         3\n",
      "           2   0.333333  0.500000  0.400000         2\n",
      "\n",
      "    accuracy                       0.956938       209\n",
      "   macro avg   0.439494  0.491830  0.460099       209\n",
      "weighted avg   0.964770  0.956938  0.960671       209\n",
      "\n"
     ]
    }
   ],
   "source": [
    "\n",
    "# esto aplica el/los modelos en cada archivo de test\n",
    "\n",
    "# for filename in filelist :\n",
    "#     temp_raw = pd.read_csv(filename, header=None)\n",
    "#     temp_raw.drop_duplicates(inplace=True)\n",
    "\n",
    "#     X_test = temp_raw.iloc[:,0:280]\n",
    "#     y_test = temp_raw.iloc[:,-1]\n",
    "\n",
    "#     y_test = y_test.apply(lambda v : 0 if v <= 50 else (1 if v <= 200 else 2) )\n",
    "\n",
    "#     # using train scaler\n",
    "#     X_test = scaler.transform(X_test)\n",
    "\n",
    "#     print('==================')\n",
    "#     for m in models :\n",
    "#         y_pred = m.model.predict(X_test)\n",
    "#         display(HTML('<b>' + m.name + '</b>'))\n",
    "#         print(classification_report(y_test, y_pred, digits=6, target_names=None, output_dict=False))\n"
   ]
  },
  {
   "cell_type": "code",
   "execution_count": 12,
   "metadata": {},
   "outputs": [
    {
     "data": {
      "text/html": [
       "<b>Naive Bayes Gaussian</b>"
      ],
      "text/plain": [
       "<IPython.core.display.HTML object>"
      ]
     },
     "metadata": {},
     "output_type": "display_data"
    },
    {
     "name": "stdout",
     "output_type": "stream",
     "text": [
      "              precision    recall  f1-score   support\n",
      "\n",
      "           0   0.968750  0.009018  0.017870      6875\n",
      "           1   0.050661  0.142857  0.074797       161\n",
      "           2   0.000000  0.000000  0.000000         0\n",
      "\n",
      "    accuracy                       0.012081      7036\n",
      "   macro avg   0.339804  0.050625  0.030889      7036\n",
      "weighted avg   0.947742  0.012081  0.019173      7036\n",
      "\n"
     ]
    },
    {
     "data": {
      "text/html": [
       "<b>Random Forest Classifier</b>"
      ],
      "text/plain": [
       "<IPython.core.display.HTML object>"
      ]
     },
     "metadata": {},
     "output_type": "display_data"
    },
    {
     "name": "stdout",
     "output_type": "stream",
     "text": [
      "              precision    recall  f1-score   support\n",
      "\n",
      "           0   0.979063  0.999855  0.989349      6875\n",
      "           1   0.000000  0.000000  0.000000       161\n",
      "           2   0.000000  0.000000  0.000000         0\n",
      "\n",
      "    accuracy                       0.976976      7036\n",
      "   macro avg   0.326354  0.333285  0.329783      7036\n",
      "weighted avg   0.956660  0.976976  0.966711      7036\n",
      "\n"
     ]
    },
    {
     "data": {
      "text/html": [
       "<b>Gradient Boosting Classifier</b>"
      ],
      "text/plain": [
       "<IPython.core.display.HTML object>"
      ]
     },
     "metadata": {},
     "output_type": "display_data"
    },
    {
     "name": "stdout",
     "output_type": "stream",
     "text": [
      "              precision    recall  f1-score   support\n",
      "\n",
      "           0   0.984609  0.995636  0.990092      6875\n",
      "           1   0.576923  0.186335  0.281690       161\n",
      "           2   0.000000  0.000000  0.000000         0\n",
      "\n",
      "    accuracy                       0.977118      7036\n",
      "   macro avg   0.520511  0.393991  0.423927      7036\n",
      "weighted avg   0.975280  0.977118  0.973882      7036\n",
      "\n"
     ]
    }
   ],
   "source": []
  }
 ],
 "metadata": {
  "kernelspec": {
   "display_name": "Python 3 (ipykernel)",
   "language": "python",
   "name": "python3"
  },
  "language_info": {
   "codemirror_mode": {
    "name": "ipython",
    "version": 3
   },
   "file_extension": ".py",
   "mimetype": "text/x-python",
   "name": "python",
   "nbconvert_exporter": "python",
   "pygments_lexer": "ipython3",
   "version": "3.9.7"
  }
 },
 "nbformat": 4,
 "nbformat_minor": 4
}
