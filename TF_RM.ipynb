{
 "cells": [
  {
   "cell_type": "markdown",
   "id": "8801deb2-b8d5-4c8c-86cb-b80f42e8954a",
   "metadata": {
    "tags": []
   },
   "source": [
    "<div style=\"background-color: lightblue;\">\n",
    "    \n",
    "# Digital House - Data Science a Distancia\n",
    "\n",
    "## Trabajo Final\n",
    "\n",
    "### Autores: Daniel Borrino, Ivan Mongi, Jessica Polakoff, Julio Tentor\n",
    "    \n",
    "<p style=\"text-align:right;\">Agosto 2022</p>\n",
    "\n",
    "---\n",
    "</div>    "
   ]
  },
  {
   "cell_type": "markdown",
   "id": "7b9f8ae3-9a0d-467f-a84e-74f1c6d33b1b",
   "metadata": {
    "tags": []
   },
   "source": [
    "---\n",
    "# Objetivo del Trabajo Final\n",
    "\n",
    "<h4 style=\"text-align:center;\">Demostrar que aprendimos conceptos y desarrollamos habilidades para obtener un modelo de aprendizaje automático que razonablemente predice un valor</h4>\n",
    "\n",
    "---\n",
    "### Contexto\n",
    "\n",
    "???\n",
    "---\n",
    "### Requisitos del Trabajo Final\n",
    "\n",
    "- Utilizar modelos de regresión o clasificación (es opcional)\n",
    "- Evaluar modelos mediante ensambles, bagging o boosting\n",
    "- Realizar selección de hiperparámetros\n",
    "- Implementar pipeline con al menos unos pasos del preprocesamiento\n",
    "- Analizar importancia de características\n",
    "- Serializar el modelo con mejor desempeño\n",
    "\n",
    "---\n",
    "### Entregables del Trabajo Final\n",
    "#### Técnico (Jupyter Notebook)\n",
    "\n",
    "1. Introducción y planteo del problema\n",
    "2. Técnicas a utilizar y detalle del conjunto de datos\n",
    "3. Desarrollo del análisis, visualizacioones, resultados de modelos\n",
    "4. Dtelle de hallazgos, conclusiones y recomendaciones\n",
    "\n",
    "#### Presentación (audiencia NO TÉCNICA)\n",
    "\n",
    "1. Resumen del problema\n",
    "2. Métodos utilizados\n",
    "3. Principales resultados"
   ]
  },
  {
   "cell_type": "markdown",
   "id": "def28530-eb63-46eb-8fd5-5df566131ff7",
   "metadata": {
    "tags": []
   },
   "source": [
    "---\n",
    "### Aspectos técnicos\n",
    "\n",
    "La notebook se ejecuta correctamente en una instalación estándar de Anaconda versión *4.13.0 build  3.21.6, Python 3.9.7*\n"
   ]
  },
  {
   "cell_type": "markdown",
   "id": "5ed451d5-82d4-45fe-acaa-d4b1cabf93ae",
   "metadata": {
    "tags": []
   },
   "source": [
    "---\n",
    "\n",
    "#### Necessary libraries\n"
   ]
  },
  {
   "cell_type": "code",
   "execution_count": 1,
   "id": "23d192ca-eb59-4212-8adb-f0072ba2f126",
   "metadata": {
    "tags": []
   },
   "outputs": [],
   "source": [
    "# imprescindible\n",
    "import pandas as pd\n",
    "import numpy as np\n",
    "\n",
    "# to avoid some warnings messages\n",
    "import warnings\n",
    "warnings.filterwarnings('ignore')\n",
    "\n",
    "\n",
    "# to draw some graphs\n",
    "import seaborn as sns\n",
    "import matplotlib.pyplot as plt\n",
    "\n",
    "# set seaborn and matplotlib default theme\n",
    "sns.set_theme()\n",
    "_sns_plotting_contex_ = sns.plotting_context()\n",
    "sns.plotting_context('poster')\n",
    "\n",
    "# set seaborn and matplotlib style to ...\n",
    "# plt.style.use('classic')\n",
    "sns.mpl.rcParams['axes.titlesize'] = 18\n",
    "sns.mpl.rcParams['axes.labelsize'] = 14\n",
    "\n",
    "# to use HTML codes within IPpython.display function\n",
    "from IPython.display import HTML\n",
    "\n",
    "\n",
    "# to do some statistical tests\n",
    "import statsmodels.api as sm\n",
    "from statsmodels.formula.api import ols\n",
    "import scipy.stats as st\n"
   ]
  },
  {
   "cell_type": "code",
   "execution_count": 2,
   "id": "c96c294a-3f6e-46e0-ab81-9d419f598fe2",
   "metadata": {
    "tags": []
   },
   "outputs": [],
   "source": [
    "# machine learning libraries\n",
    "\n"
   ]
  },
  {
   "cell_type": "markdown",
   "id": "3e5220a2-b2bf-4879-ada8-d0972fbbfe1e",
   "metadata": {},
   "source": [
    "---\n",
    "\n",
    "#### Useful functions\n"
   ]
  },
  {
   "cell_type": "code",
   "execution_count": 3,
   "id": "ca3319aa-c694-418e-bbc6-bf6135acbc24",
   "metadata": {
    "tags": []
   },
   "outputs": [],
   "source": [
    "def get_types_nulls_and_describe(data) :\n",
    "    u''' Gets DataFrame data types, count of null values and statistical descriptions for each feature\n",
    "    \n",
    "    args\n",
    "        data : pandas DataFrame\n",
    "\n",
    "    returns\n",
    "        pandas DataFrame\n",
    "    '''\n",
    "\n",
    "    result = data.describe(include='all').transpose()\n",
    "    result.insert(0, 'nulls', data.isnull().sum().values)\n",
    "    result.insert(0, 'types', data.dtypes)\n",
    "\n",
    "    return result\n",
    "\n",
    "def show_description(data, include='all', exclude=None) :\n",
    "    u''' Show DataFrame describe details\n",
    "    \n",
    "    args\n",
    "        data : pandas DataFrame\n",
    "\n",
    "    returns\n",
    "        None\n",
    "    '''\n",
    "\n",
    "    display(HTML('<hr><h4>Detalles de cada característica</h4>'))\n",
    "    display(data.describe(include=include, exclude=exclude).transpose())\n",
    "    \n",
    "    return\n",
    "\n",
    "def show_data(data, title='Algunos datos') :\n",
    "    u''' Show DataFrame\n",
    "    \n",
    "    args\n",
    "        data : pandas DataFrame\n",
    "\n",
    "    returns\n",
    "        None\n",
    "    '''\n",
    "    display(HTML('<hr><h4>' + title + '</h4>'))\n",
    "    display(data)\n",
    "\n",
    "    return    \n",
    "\n",
    "def show_dataframe_basic_info(data) :\n",
    "    u''' Show DataFrame basic information\n",
    "    \n",
    "    args\n",
    "        data : pandas DataFrame\n",
    "\n",
    "    returns\n",
    "        None\n",
    "    '''\n",
    "\n",
    "    # show shape\n",
    "    display(HTML('<hr><h4>Cantidad de datos</h4>'))\n",
    "    display(HTML('<h5>' + str(data.shape[0]) +' observaciones con ' + str(data.shape[1]) + ' características</h5>'))\n",
    "\n",
    "    # show data types, null values counts and data description\n",
    "    display(HTML('<hr><h4>Tipos de datos, valores nulos y detalle de cada característica</h4>'))\n",
    "    display(get_types_nulls_and_describe(data))\n",
    "\n",
    "    return"
   ]
  },
  {
   "cell_type": "code",
   "execution_count": 4,
   "id": "e7b1e3b0-1219-4a1c-8dca-61d556e10699",
   "metadata": {
    "tags": []
   },
   "outputs": [],
   "source": [
    "def set_figure(row, col, suptitle=None) :\n",
    "    u''' Activate matplot figure setting size and super title\n",
    "    '''\n",
    "    fig = plt.figure(figsize=(row, col));\n",
    "    if suptitle != None :\n",
    "        fig.suptitle(suptitle, \n",
    "                     verticalalignment='center', fontsize='xx-large', fontweight='extra bold');\n",
    "    return fig"
   ]
  },
  {
   "cell_type": "code",
   "execution_count": 5,
   "id": "931a6457-e328-4f7e-ab88-b4d89fd71448",
   "metadata": {
    "tags": []
   },
   "outputs": [],
   "source": [
    "def show_corr(data, target) :\n",
    "    u'''\n",
    "    '''\n",
    "    \n",
    "    corr = data.corr()\n",
    "    cols = corr[target].sort_values(ascending=False).keys()\n",
    "    \n",
    "    topc = corr.loc[cols, cols]\n",
    "    mask = np.zeros_like(topc)\n",
    "    mask[np.triu_indices_from(mask)] = True\n",
    "    \n",
    "    sns.heatmap(data=topc, \n",
    "                cmap=sns.diverging_palette(h_neg=350, h_pos=150, center='light', as_cmap=True), \n",
    "                center=0, linewidths=1, annot=True, fmt=\".3f\", cbar=False, mask=mask)\n",
    "\n",
    "    return\n",
    "\n",
    "def show_some_boxplots(data, columns, target=None, cols=4) :\n",
    "    u''' Display some boxplots graphs for specific columns in dataset\n",
    "\n",
    "    args\n",
    "        data : dataset\n",
    "        columns : series to show\n",
    "        target : binary values to split the histogram; if None draw a simple histplot\n",
    "        cols : number of columns for subplots\n",
    "    \n",
    "    Original from Flavio Cavalcante at https://www.kaggle.com/code/flaviocavalcante/simple-eda-to-start\n",
    "    '''\n",
    "    \n",
    "    rows = (len(columns) // cols) + 1\n",
    "    for i, column in enumerate(data[columns]) :\n",
    "        ax = plt.subplot(rows, cols, i+1)\n",
    "        sns.boxplot(data=data, x=target, y=column, palette=\"RdYlBu\")\n",
    "        plt.tight_layout();\n",
    "        plt.xlabel(None);\n",
    "        plt.ylabel(column);\n",
    "    return\n",
    "\n",
    "def show_some_hists(data, columns, target=None, cols=4, stat='count') :\n",
    "    u''' Display some histograms graphs for specific columns in dataset\n",
    "\n",
    "    args\n",
    "        data : dataset\n",
    "        columns : series to show \n",
    "        target : binary values to split the count; if None draw a simple histplot\n",
    "        cols : number of columns for subplots\n",
    "    \n",
    "    Original from Flavio Cavalcante at https://www.kaggle.com/code/flaviocavalcante/simple-eda-to-start\n",
    "    '''\n",
    "    \n",
    "    rows = (len(columns) // cols) + 1\n",
    "    for i, column in enumerate(data[columns]) :\n",
    "        try :\n",
    "            plt.subplot(rows, cols, i+1)\n",
    "            sns.histplot(data=data, x=column, kde=True, hue=target, stat=stat)\n",
    "            plt.tight_layout();\n",
    "            plt.xlabel(column);\n",
    "            plt.ylabel(None);\n",
    "        except :\n",
    "            pass\n",
    "    return\n",
    "\n",
    "def show_some_plots(data, columns, target=None, cols=4) :\n",
    "    u''' Display some countplots graphs for specific columns in dataset\n",
    "\n",
    "    args\n",
    "        data : dataset\n",
    "        columns : series to count\n",
    "        target : binary values to split the count; if None draw a simple countplot\n",
    "        cols : number of columns for subplots\n",
    "    \n",
    "    Original from Flavio Cavalcante at https://www.kaggle.com/code/flaviocavalcante/simple-eda-to-start\n",
    "    '''\n",
    "    \n",
    "    rows = (len(columns) // cols) + 1\n",
    "    if target != None :\n",
    "        rows *= 2\n",
    "    for i, column in enumerate(data[columns]) :\n",
    "        if target == None :\n",
    "            plt.subplot(rows, cols, i+1)\n",
    "            sns.countplot(y=data[column])\n",
    "            plt.tight_layout();\n",
    "            plt.xlabel(None);\n",
    "        else :\n",
    "            # standar count plot\n",
    "            plt.subplot(rows, cols, i*2+1)\n",
    "            sns.countplot(y=data[column])\n",
    "            plt.tight_layout();\n",
    "            plt.xlabel(None);\n",
    "            \n",
    "            # count by target values\n",
    "            plt.subplot(rows, cols, i*2+2)\n",
    "            sns.countplot(data=data, x=column, hue=target)\n",
    "            plt.tight_layout();\n",
    "            plt.xlabel(column);\n",
    "    return"
   ]
  },
  {
   "cell_type": "markdown",
   "id": "53244b87-786f-4cf8-a680-1a867984b784",
   "metadata": {},
   "source": [
    "---\n",
    "\n"
   ]
  },
  {
   "cell_type": "code",
   "execution_count": 6,
   "id": "357c3f1f-93f4-4819-9074-859f83de5172",
   "metadata": {
    "tags": []
   },
   "outputs": [],
   "source": [
    "# def show_train_test_shapes(X_train, X_test, y_train, y_test) :\n",
    "#     u'''\n",
    "#     '''\n",
    "    \n",
    "#     print()\n",
    "#     print(\"X_train:\", X_train.shape, \"\\ty_train:\", y_train.shape, end=' \\tclases ')\n",
    "#     for i, n in enumerate(y_train.value_counts(normalize=True) ) : \n",
    "#         print(i, ' : ', round(n*100, 2), '% \\t', sep='', end='')\n",
    "\n",
    "#     print('\\n')\n",
    "#     print(\"X_test :\", X_test.shape, \"\\ty_test :\", y_test.shape, end=' \\tclases ')    \n",
    "#     for i, n in enumerate(y_test.value_counts(normalize=True) ) : \n",
    "#         print(i, ' - ', round(n*100, 2), '% \\t', sep='', end='')\n",
    "\n",
    "#     print('\\n')\n",
    "    \n",
    "#     return"
   ]
  },
  {
   "cell_type": "code",
   "execution_count": 7,
   "id": "380dcfeb-791e-4927-846d-912658c201c1",
   "metadata": {
    "tags": []
   },
   "outputs": [],
   "source": [
    "def show_X_y(X, y, categorical=None) :\n",
    "    u'''\n",
    "    '''\n",
    "    if categorical == None or categorical == False :\n",
    "        print()\n",
    "        print(\"X :\", X.shape, \"\\ty :\", y.shape)\n",
    "        print('\\n')\n",
    "    \n",
    "    return"
   ]
  },
  {
   "cell_type": "code",
   "execution_count": 8,
   "id": "525891e6-a9a0-4d97-84c9-3745264bc843",
   "metadata": {
    "jupyter": {
     "source_hidden": true
    },
    "tags": []
   },
   "outputs": [],
   "source": [
    "\n",
    "# def evaluate_some_models(data, features, target) :\n",
    "    \n",
    "#     # set\n",
    "#     X = data[features]\n",
    "#     y = data[target]\n",
    "\n",
    "#     X_train, X_test, y_train, y_test = train_test_split(X, y, test_size=0.33, random_state=1)\n",
    "#     show_train_test_shapes(X_train, X_test, y_train, y_test)\n",
    "    \n",
    "#     # set models to evaluate\n",
    "#     models = []\n",
    "\n",
    "#     models.append( Model(name='Gaussian Naive Bayes', model=GaussianNB(), ) )\n",
    "#     # models.append( Model(name='Categorical Naive Bayes', model=CategoricalNB(), ) )\n",
    "#     # models.append( Model(name='Árbol de Decisión', model=DecisionTreeClassifier(random_state=0) ) )\n",
    "#     models.append( Model(name='Gradiente Booster', model=GradientBoostingClassifier() ) )\n",
    "\n",
    "#     # train each model\n",
    "#     for m in models :\n",
    "#         m.train(X_train, y_train)\n",
    "\n",
    "#     # predict and show basic information from each model\n",
    "#     for m in models :\n",
    "#         m.predict(X_test, y_test)\n",
    "#         display(HTML('<b>' + m.name + '</b>'))\n",
    "#         print(m.classification_report)\n",
    "\n",
    "#     return\n"
   ]
  },
  {
   "cell_type": "markdown",
   "id": "d8b5f350-032a-4ae5-9aab-079e4d62045a",
   "metadata": {
    "jp-MarkdownHeadingCollapsed": true,
    "tags": []
   },
   "source": [
    "---\n",
    "<a id=\"Dataset\"></a>\n",
    "\n",
    "### Conjunto de datos - Dataset\n",
    "\n",
    "Los datos originales son de [Manhattan Chocolate Society](http://flavorsofcacao.com/mcs_index.html)\n",
    "\n",
    "El conjunto de datos se obtuvo de la [competencia en Datacamp](https://app.datacamp.com/learn/competitions/chocolate-bar-ratings) finalizada el 30 de junio de 2022.\n",
    "\n",
    "---\n",
    "\n",
    "*Las características en el conjunto de datos original son*:\n",
    "\n",
    "    - id                   : Identificador de la revisión de la barra de chocolate\n",
    "    - manufacturer         : Nombre del manufactorador de la barra de chocolate\n",
    "    - company_location     : Ubicación del manufactorador de la barra de chocolate\n",
    "    - year_reviewed        : Año de la revisión de 2006 al 2021\n",
    "    - bean_origin          : Origen del grano de cacaco\n",
    "    - bar_name             : Nombre de la barra de chocolate\n",
    "    - cocoa_percent        : Porcentaje de cacaco en la barra de chocolate\n",
    "    - num_ingredients      : Número de ingredientes en la barra de chocolate\n",
    "    - ingredients          : Ingredientes (ver codificación)\n",
    "    - review               : Revisión, análisis o evaluación de la barra de chocolate\n",
    "    - rating               : Clasificación (ver escala)\n",
    "    \n",
    "\n",
    "*Codificación de ingredientes en la barra de chocolate*\n",
    "\n",
    "    - B  : Beans (grano)\n",
    "    - S  : Sugar (azucar)\n",
    "    - S* : Sweetener (edulcolrante distinto de azucar)\n",
    "    - C  : Cocoa Butter (mantequilla de cacaco)\n",
    "    - V  : Vanilla (vainilla)\n",
    "    - L  : Lecithin (lecitina)    \n",
    "    - Sa : Salt (sal)\n",
    "\n",
    "*Escala de clasificación de una barra de chocolate*\n",
    "\n",
    "    - 1.0  a 1.9  : Unpleasant (Desagradable)\n",
    "    - 2.0  a 2.9  : Disappointing (Decepcionante)\n",
    "    - 3.0  a 3.49 : Recommended (Recomendable)\n",
    "    - 3.5  a 3.9  : Highly Recommended (Altamente Recomendable)\n",
    "    - 4.0  a 5.0  : Oustanding (Sobresaliente)\n",
    "\n",
    "---\n"
   ]
  },
  {
   "cell_type": "markdown",
   "id": "aae3ee73-1424-4cd4-9ebe-11fa7ab79d84",
   "metadata": {
    "tags": []
   },
   "source": [
    "---\n",
    "<a id=\"Exploratory_data_analysis_01\"></a>\n",
    "### Exploración y análisis de datos básico del Conjunto de datos - Dataset\n",
    "---\n"
   ]
  },
  {
   "cell_type": "code",
   "execution_count": 9,
   "id": "9b8e2cf8-98af-433f-a888-8f35e2e33212",
   "metadata": {
    "tags": []
   },
   "outputs": [],
   "source": [
    "# read dataset\n",
    "data = pd.read_csv('./data/chocolate_bars.csv')\n",
    "\n",
    "# remove duplicates\n",
    "data.drop_duplicates(inplace=True)\n",
    "# set sequential and successive index values\n",
    "data.reset_index(drop=True, inplace=True)\n",
    "\n",
    "# # show data\n",
    "# show_data(data)\n",
    "\n",
    "# # show shape\n",
    "# display(HTML('<hr><h4>Cantidad de datos</h4>'))\n",
    "# display(HTML('<h5>' + str(data.shape[0]) +' observaciones con ' + str(data.shape[1]) + ' características</h5>'))\n",
    "\n",
    "# # show data types, null values counts and data description\n",
    "# display(HTML('<hr><h4>Tipos de datos, valores nulos y detalle de cada característica</h4>'))\n",
    "# display(get_types_nulls_and_describe(data))\n"
   ]
  },
  {
   "cell_type": "code",
   "execution_count": 10,
   "id": "df7134a1-7614-49ad-acde-7f988a716241",
   "metadata": {},
   "outputs": [],
   "source": [
    "target = 'rating'"
   ]
  },
  {
   "cell_type": "markdown",
   "id": "28ffc705-fdc6-43ad-89da-128461b4db02",
   "metadata": {},
   "source": [
    "---\n",
    "#### Observaciones sobre las características con valores nulos\n",
    "\n",
    "- Las características 'ingredients' y 'num_ingredients' corresponden a las mismas observaciones, de modo que 'ingredients' se completa con el **valor más frecuente** y 'num_ingredients' que corresponde al **número de valores diferentes de la característica 'ingredients'** se completa con dicho valor\n",
    "\n",
    "---"
   ]
  },
  {
   "cell_type": "code",
   "execution_count": 11,
   "id": "4515e906-a74f-4dce-997a-b99565d4e5ac",
   "metadata": {
    "tags": []
   },
   "outputs": [],
   "source": [
    "from sklearn.impute import SimpleImputer\n",
    "\n",
    "def ingredients_imputer(data) :\n",
    "    u''' Imputer for 'ingredients' and 'num_ingredients' features with null values\n",
    "    \n",
    "    WARNING: data inside DataFrame will be updated take care to use in pipeline\n",
    "    ===========================================================================\n",
    "\n",
    "    Original idea from Shahriar Rahman https://app.datacamp.com/profile/mdshahriar983\n",
    "    \n",
    "    args\n",
    "        data : pandas DataFrame\n",
    "\n",
    "    returns\n",
    "        None    \n",
    "    '''\n",
    "    \n",
    "    imputer = SimpleImputer(missing_values=np.nan, strategy='most_frequent')\n",
    "    imputer.fit(data[['ingredients']])\n",
    "    data[['ingredients']] = imputer.transform(data[['ingredients']])\n",
    "    data['num_ingredients'] = data['ingredients'].apply( lambda x : len( [t for t in x.replace(' ','').split(sep=',')] ) )\n",
    "    \n",
    "    return \n",
    "\n",
    "ingredients_imputer(data)"
   ]
  },
  {
   "cell_type": "code",
   "execution_count": 12,
   "id": "63fc6698-16f4-4504-9c68-6dc94876a4c5",
   "metadata": {
    "tags": []
   },
   "outputs": [],
   "source": [
    "# # show data types and null values counts\n",
    "# display(HTML('<hr><h4>Tipos de datos, SIN VALORES NULOS y detalle de cada característica</h4>'))\n",
    "# display(get_types_nulls_and_describe(data))\n"
   ]
  },
  {
   "cell_type": "code",
   "execution_count": 13,
   "id": "3a42aa37-40ba-4d60-8c42-927baff74476",
   "metadata": {
    "tags": []
   },
   "outputs": [],
   "source": [
    "def show_rating_values(data) :\n",
    "    \n",
    "    set_figure(14, 6, 'Valores de la clasificación original en ' + str(len(data)) + ' observaciones' +\n",
    "               '\\nMedia: ' + str(round(data['rating'].mean(),2)) + \n",
    "               ' - Mediana: ' + str(round(data['rating'].median(),2)) +\n",
    "               ' - Moda: ' + str(round(data['rating'].mode()[0],2)) )\n",
    "\n",
    "    # sns.histplot(data=data, x='rating', kde=True, stat='percent')\n",
    "    sns.countplot(data=data, x='rating')\n",
    "\n",
    "    plt.tight_layout();\n",
    "    plt.xlabel('Clasificación');\n",
    "    plt.ylabel('Número de observaciones');\n",
    "\n",
    "    return\n",
    "\n",
    "# show_rating_values(data)\n",
    "# show_rating_values(data[data['rating']>=2.5])\n"
   ]
  },
  {
   "cell_type": "code",
   "execution_count": 14,
   "id": "2f4450e4-1923-49bd-a6f8-38b63e3c162b",
   "metadata": {},
   "outputs": [],
   "source": [
    "from sklearn.preprocessing import OrdinalEncoder\n",
    "from sklearn.preprocessing import MultiLabelBinarizer\n"
   ]
  },
  {
   "cell_type": "code",
   "execution_count": 15,
   "id": "06f61a42-8e5e-49b8-a2cf-69e5993e1509",
   "metadata": {},
   "outputs": [],
   "source": [
    "def encode_some_features(data) :\n",
    "\n",
    "    # oe_company_location = OrdinalEncoder()\n",
    "    # oe_company_location.fit(data[['company_location']])\n",
    "    # data['company_location_cat'] = oe_company_location.transform(data[['company_location']])\n",
    "\n",
    "    # oe_bean_origin = OrdinalEncoder()\n",
    "    # oe_bean_origin.fit(data[['bean_origin']])\n",
    "    # data['bean_origin_cat'] = oe_bean_origin.transform(data[['bean_origin']])\n",
    "    \n",
    "    oe_ingredients = OrdinalEncoder()\n",
    "    oe_ingredients.fit(data[['ingredients']])\n",
    "    data['ingredients_cat'] = oe_ingredients.transform(data[['ingredients']])\n",
    "\n",
    "    return\n",
    "\n",
    "encode_some_features(data)\n"
   ]
  },
  {
   "cell_type": "code",
   "execution_count": 16,
   "id": "9d209dd4-6b7a-4fcf-ac1d-a19f9e3f77a7",
   "metadata": {},
   "outputs": [],
   "source": [
    "ingredients_dict = {'b'  : 'beans',\n",
    "                    'c'  : 'cocoa_butter',\n",
    "                    'l'  : 'lecithin',\n",
    "                    's'  : 'sugar',\n",
    "                    's*' : 'sweetener',\n",
    "                    'sa' : 'salt',\n",
    "                    'v'  : 'vanilla'}\n",
    "\n",
    "ingredients_features = list(ingredients_dict.values())\n",
    "\n",
    "\n",
    "def ingredients_EDA1(data) :\n",
    "    u''' \n",
    "    \n",
    "    \n",
    "    '''\n",
    "    \n",
    "    col='ingredients'\n",
    "    work = pd.DataFrame(data[col])\n",
    "    work['text'] = work[col].apply( lambda x : set( [t for t in x.lower().replace(' ','').split(sep=',')] ) )\n",
    "\n",
    "    classes = np.array(list(ingredients_dict.keys()))\n",
    "    mlb = MultiLabelBinarizer(classes=classes)\n",
    "    work = pd.DataFrame(mlb.fit_transform(work['text']))\n",
    "    work.columns = mlb.classes_\n",
    "    \n",
    "    work.rename(columns=ingredients_dict, inplace=True)\n",
    "    work.index = data.index\n",
    "    \n",
    "    cols = list(data.columns) + list(work.columns)\n",
    "    data = pd.concat([data, work], axis='columns', ignore_index=True)\n",
    "    data.columns = cols\n",
    "    \n",
    "    return data\n",
    "\n",
    "data = ingredients_EDA1(data)\n",
    "\n"
   ]
  },
  {
   "cell_type": "code",
   "execution_count": 17,
   "id": "67b07fc3-5fa8-4d66-ad47-105182357d91",
   "metadata": {},
   "outputs": [
    {
     "data": {
      "image/png": "[encoded data removed]",
      "text/plain": [
       "<Figure size 1728x432 with 1 Axes>"
      ]
     },
     "metadata": {},
     "output_type": "display_data"
    }
   ],
   "source": [
    "\n",
    "set_figure(24, 6, 'Correlación de características')\n",
    "show_corr(data=data, target=target)\n"
   ]
  },
  {
   "cell_type": "code",
   "execution_count": null,
   "id": "db38515c-2c7e-4a1b-9210-1df6f2a8a260",
   "metadata": {},
   "outputs": [],
   "source": []
  },
  {
   "cell_type": "code",
   "execution_count": 18,
   "id": "fda574cb-f5bf-40d1-a2e4-99605dd8c940",
   "metadata": {},
   "outputs": [],
   "source": [
    "# # show data types and null values counts\n",
    "# display(HTML('<hr><h4>Tipos de datos, SIN VALORES NULOS y detalle de cada característica</h4>'))\n",
    "# display(get_types_nulls_and_describe(data))\n"
   ]
  },
  {
   "cell_type": "markdown",
   "id": "c07d7b36-79dc-41c1-9a63-45a58e5179dc",
   "metadata": {
    "tags": []
   },
   "source": [
    "---\n",
    "### Evaluate base line models\n",
    "---"
   ]
  },
  {
   "cell_type": "code",
   "execution_count": 19,
   "id": "3a41ff04-fdcd-4749-8647-10668cc541d0",
   "metadata": {},
   "outputs": [],
   "source": [
    "from sklearn.model_selection import train_test_split\n",
    "from sklearn.preprocessing import StandardScaler\n",
    "\n",
    "from sklearn.linear_model import LinearRegression\n",
    "from sklearn.metrics import mean_squared_error\n",
    "\n",
    "from sklearn.ensemble import BaggingRegressor\n"
   ]
  },
  {
   "cell_type": "code",
   "execution_count": 20,
   "id": "da0b1db1-2431-4d05-a640-50c9fcf6408e",
   "metadata": {},
   "outputs": [],
   "source": [
    "def show_MSE(value, decimals=6) :\n",
    "    \n",
    "    display(HTML('MSE.: ' + str(round(value, decimals)) +\n",
    "                 ' - ' +\n",
    "                 'RMSE: ' + str(round(np.sqrt(value), decimals))\n",
    "                ))\n",
    "\n",
    "    return\n"
   ]
  },
  {
   "cell_type": "code",
   "execution_count": 21,
   "id": "65404235-f4ef-465e-b6b5-fbd0364907e9",
   "metadata": {
    "tags": []
   },
   "outputs": [
    {
     "name": "stdout",
     "output_type": "stream",
     "text": [
      "\n",
      "X : (1695, 11) \ty : (1695,)\n",
      "\n",
      "\n"
     ]
    }
   ],
   "source": [
    "model_features = ['year_reviewed', 'num_ingredients', 'cocoa_percent', 'ingredients_cat'] + ingredients_features\n",
    "\n",
    "X = data[model_features]\n",
    "y = data[target]\n",
    "\n",
    "X_train, X_test, y_train, y_test = train_test_split(X, y, test_size=0.33, random_state=1)\n",
    "\n",
    "show_X_y(X_train, y_train)\n",
    "\n",
    "\n",
    "model_scaler = StandardScaler()\n",
    "model_scaler.fit(X_train)\n",
    "X_train_scl = model_scaler.transform(X_train)\n",
    "X_test_scl = model_scaler.transform(X_test)"
   ]
  },
  {
   "cell_type": "code",
   "execution_count": 22,
   "id": "a6aebf66-a86f-462e-b655-4bd328f7948e",
   "metadata": {
    "tags": []
   },
   "outputs": [
    {
     "data": {
      "text/html": [
       "MSE.: 0.188408 - RMSE: 0.43406"
      ],
      "text/plain": [
       "<IPython.core.display.HTML object>"
      ]
     },
     "metadata": {},
     "output_type": "display_data"
    }
   ],
   "source": [
    "\n",
    "base_regressor = LinearRegression()\n",
    "\n",
    "fit_base = base_regressor.fit(X_train_scl, y_train)\n",
    "predict_base = fit_base.predict(X_test_scl)\n",
    "performance_base = mean_squared_error(y_test, predict_base)\n",
    "show_MSE(performance_base)\n",
    "\n"
   ]
  },
  {
   "cell_type": "code",
   "execution_count": 23,
   "id": "6c81caef-ee97-45d2-bb20-8b810b72b065",
   "metadata": {},
   "outputs": [],
   "source": [
    "bag_linreg = BaggingRegressor(base_estimator = base_regressor, \n",
    "                            n_estimators = 1000,\n",
    "                            max_samples = 0.3,\n",
    "                            bootstrap = True, \n",
    "                            max_features = 2,\n",
    "                            bootstrap_features = False,\n",
    "                            n_jobs = -1,\n",
    "                            random_state = 127)\n"
   ]
  },
  {
   "cell_type": "code",
   "execution_count": 24,
   "id": "aaf1487b-9547-4548-840e-b845d05ec670",
   "metadata": {},
   "outputs": [
    {
     "data": {
      "text/html": [
       "MSE.: 3.929732745473178e+17 - RMSE: 626875804.723167"
      ],
      "text/plain": [
       "<IPython.core.display.HTML object>"
      ]
     },
     "metadata": {},
     "output_type": "display_data"
    }
   ],
   "source": [
    "bag_linreg.fit(X_train_scl, y_train)\n",
    "prediction = bag_linreg.predict(X_test_scl)\n",
    "performance = mean_squared_error(y_test, prediction)\n",
    "show_MSE(performance)"
   ]
  },
  {
   "cell_type": "code",
   "execution_count": null,
   "id": "7ee1079a-7937-4b37-9a35-0bbb97c8fe65",
   "metadata": {},
   "outputs": [],
   "source": []
  },
  {
   "cell_type": "code",
   "execution_count": 25,
   "id": "c0f00e2d-6e3e-4690-bdcd-4ef785e5da6e",
   "metadata": {},
   "outputs": [],
   "source": [
    "from sklearn.ensemble import RandomForestRegressor"
   ]
  },
  {
   "cell_type": "code",
   "execution_count": 26,
   "id": "67e15a46-a302-417d-8a3f-54e84f030576",
   "metadata": {},
   "outputs": [],
   "source": [
    "random_forest = RandomForestRegressor(n_estimators=1000, \n",
    "                                      criterion='mse', \n",
    "                                      max_depth = 4, \n",
    "                                      bootstrap=True, \n",
    "                                      n_jobs = -1, \n",
    "                                      random_state = 127,\n",
    "                                      max_samples= 0.3)"
   ]
  },
  {
   "cell_type": "code",
   "execution_count": 27,
   "id": "3869ca79-46ae-4b38-9374-0b3437506075",
   "metadata": {},
   "outputs": [
    {
     "data": {
      "text/plain": [
       "RandomForestRegressor(max_depth=4, max_samples=0.3, n_estimators=1000,\n",
       "                      n_jobs=-1, random_state=127)"
      ]
     },
     "execution_count": 27,
     "metadata": {},
     "output_type": "execute_result"
    }
   ],
   "source": [
    "random_forest.fit(X_train_scl, y_train)"
   ]
  },
  {
   "cell_type": "code",
   "execution_count": 28,
   "id": "35f14329-1e19-4102-8364-e291956bcb23",
   "metadata": {},
   "outputs": [
    {
     "data": {
      "text/html": [
       "MSE.: 0.181559 - RMSE: 0.426097"
      ],
      "text/plain": [
       "<IPython.core.display.HTML object>"
      ]
     },
     "metadata": {},
     "output_type": "display_data"
    }
   ],
   "source": [
    "prediction = random_forest.predict(X_test_scl)\n",
    "performance = mean_squared_error(y_test, prediction)\n",
    "show_MSE(performance)"
   ]
  },
  {
   "cell_type": "code",
   "execution_count": null,
   "id": "3c5bab82-d092-4b2c-85b1-69549061eb6f",
   "metadata": {},
   "outputs": [],
   "source": []
  }
 ],
 "metadata": {
  "kernelspec": {
   "display_name": "Python 3 (ipykernel)",
   "language": "python",
   "name": "python3"
  },
  "language_info": {
   "codemirror_mode": {
    "name": "ipython",
    "version": 3
   },
   "file_extension": ".py",
   "mimetype": "text/x-python",
   "name": "python",
   "nbconvert_exporter": "python",
   "pygments_lexer": "ipython3",
   "version": "3.9.7"
  }
 },
 "nbformat": 4,
 "nbformat_minor": 5
}
