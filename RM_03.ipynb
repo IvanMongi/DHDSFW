{
 "cells": [
  {
   "cell_type": "code",
   "execution_count": 1,
   "metadata": {},
   "outputs": [],
   "source": [
    "# imprescindible\n",
    "import pandas as pd\n",
    "import numpy as np\n",
    "\n",
    "# to avoid some warnings messages\n",
    "import warnings\n",
    "warnings.filterwarnings('ignore')\n",
    "\n",
    "# to draw some graphs\n",
    "import seaborn as sns\n",
    "import matplotlib.pyplot as plt\n",
    "\n",
    "# set seaborn and matplotlib default theme\n",
    "sns.set_theme()\n",
    "_sns_plotting_contex_ = sns.plotting_context()\n",
    "sns.plotting_context('poster')\n",
    "\n",
    "# set seaborn and matplotlib style to ...\n",
    "# plt.style.use('classic')\n",
    "sns.mpl.rcParams['axes.titlesize'] = 18\n",
    "sns.mpl.rcParams['axes.labelsize'] = 14\n",
    "\n",
    "# to use HTML codes within IPpython.display function\n",
    "from IPython.display import HTML\n",
    "\n"
   ]
  },
  {
   "cell_type": "code",
   "execution_count": 2,
   "metadata": {},
   "outputs": [],
   "source": [
    "\n",
    "import os\n",
    "import time\n",
    "\n",
    "from sklearn.preprocessing import StandardScaler\n",
    "\n",
    "from sklearn.linear_model import LinearRegression\n",
    "from sklearn.ensemble import RandomForestRegressor\n",
    "from sklearn.ensemble import GradientBoostingRegressor\n",
    "\n",
    "import xgboost as xgb\n",
    "\n",
    "from sklearn.metrics import mean_squared_error\n"
   ]
  },
  {
   "cell_type": "code",
   "execution_count": 3,
   "metadata": {},
   "outputs": [],
   "source": [
    "ROUND = lambda v : round(v, 4)"
   ]
  },
  {
   "cell_type": "markdown",
   "metadata": {},
   "source": [
    "### Data"
   ]
  },
  {
   "cell_type": "code",
   "execution_count": 4,
   "metadata": {},
   "outputs": [
    {
     "data": {
      "text/plain": [
       "(49203, 281)"
      ]
     },
     "execution_count": 4,
     "metadata": {},
     "output_type": "execute_result"
    }
   ],
   "source": [
    "data_raw = pd.read_csv(\"./data/blogData_train.csv\", header=None)\n",
    "data_raw.drop_duplicates(inplace=True)\n",
    "\n",
    "data_raw.shape"
   ]
  },
  {
   "cell_type": "code",
   "execution_count": null,
   "metadata": {
    "tags": []
   },
   "outputs": [],
   "source": []
  },
  {
   "cell_type": "code",
   "execution_count": 5,
   "metadata": {},
   "outputs": [
    {
     "data": {
      "text/plain": [
       "(7036, 281)"
      ]
     },
     "execution_count": 5,
     "metadata": {},
     "output_type": "execute_result"
    }
   ],
   "source": [
    "\n",
    "filepath = './data/test/'\n",
    "filelist = [os.path.join(filepath, filename) for filename in os.listdir(filepath) if os.path.isfile(os.path.join(filepath, filename))]\n",
    "\n",
    "test_raw = pd.DataFrame()\n",
    "\n",
    "for filename in filelist :\n",
    "    temp_raw = pd.read_csv(filename, header=None)\n",
    "    temp_raw.drop_duplicates(inplace=True)\n",
    "    test_raw = test_raw.append(temp_raw)\n",
    "\n",
    "test_raw.shape"
   ]
  },
  {
   "cell_type": "code",
   "execution_count": 6,
   "metadata": {},
   "outputs": [],
   "source": [
    "X_train = data_raw.iloc[:,0:280]\n",
    "y_train = data_raw.iloc[:,-1]"
   ]
  },
  {
   "cell_type": "code",
   "execution_count": 7,
   "metadata": {},
   "outputs": [],
   "source": [
    "X_test = test_raw.iloc[:,0:280]\n",
    "y_test = test_raw.iloc[:,-1]\n"
   ]
  },
  {
   "cell_type": "code",
   "execution_count": 8,
   "metadata": {},
   "outputs": [],
   "source": [
    "scaler = StandardScaler()\n",
    "scaler.fit(X_train)\n",
    "\n",
    "X_train = scaler.transform(X_train)\n",
    "# using train scaler\n",
    "X_test = scaler.transform(X_test)\n"
   ]
  },
  {
   "cell_type": "code",
   "execution_count": 11,
   "metadata": {},
   "outputs": [],
   "source": [
    "\n",
    "def proof_of_concept() :\n",
    "    u'''\n",
    "    '''\n",
    "\n",
    "    class POC_Model :\n",
    "        def __init__(self, name, estimator) :\n",
    "            self.name = name\n",
    "            self.estimator = estimator\n",
    "            return    \n",
    "\n",
    "# ---\n",
    "\n",
    "    models = []\n",
    "    models.append( POC_Model(\n",
    "        name='Linear Regression', \n",
    "        estimator=LinearRegression(\n",
    "            n_jobs=-1, # use all processors\n",
    "        ) \n",
    "    ) )\n",
    "\n",
    "    models.append( POC_Model(\n",
    "        name='Random Forest Regressor', \n",
    "        estimator=RandomForestRegressor(\n",
    "            n_jobs=-1, # use all processors\n",
    "        ) \n",
    "    ) )\n",
    "\n",
    "    models.append( POC_Model(\n",
    "        name='Gradient Boosting Regressor', \n",
    "        estimator=GradientBoostingRegressor() \n",
    "    ) )\n",
    "\n",
    "    models.append( POC_Model(\n",
    "        name='XGBoost Regressor', \n",
    "        estimator=xgb.XGBRegressor(\n",
    "            n_jobs=-1, # use all processors\n",
    "        ) \n",
    "    ) )\n",
    "\n",
    "# ---\n",
    "\n",
    "    poc_results = pd.DataFrame(columns=['model', 'fit time', 'train RMSE', 'test RMSE'])\n",
    "\n",
    "\n",
    "    for m in models :\n",
    "\n",
    "        print('Prueba de concepto para', m.name, '... ', end='')\n",
    "        fit_time = time.time()\n",
    "        m.estimator.fit(X_train, y_train)\n",
    "        fit_time = ROUND(time.time() - fit_time)\n",
    "        print(fit_time, 'segundos')\n",
    "\n",
    "        y_train_pred = m.estimator.predict(X_train)\n",
    "        train_rmse = ROUND(np.sqrt(mean_squared_error(y_train, y_train_pred)))\n",
    "        y_test_pred = m.estimator.predict(X_test)\n",
    "        test_rmse = ROUND(np.sqrt(mean_squared_error(y_test, y_test_pred)))\n",
    "\n",
    "        poc_results = poc_results.append(\n",
    "            pd.Series(\n",
    "                data=[m.name, \n",
    "                      fit_time, \n",
    "                      train_rmse, \n",
    "                      test_rmse\n",
    "                     ], \n",
    "                index=poc_results.columns), \n",
    "            ignore_index=True\n",
    "        )\n",
    "\n",
    "\n",
    "    # pd.options.display.max_colwidth = 500 \n",
    "    display(poc_results)\n",
    "    return\n",
    "\n",
    "# uncomment to see proof of concept\n",
    "# proof_of_concept()"
   ]
  },
  {
   "cell_type": "code",
   "execution_count": 10,
   "metadata": {},
   "outputs": [
    {
     "name": "stdout",
     "output_type": "stream",
     "text": [
      "POC for Linear Regression ... 0.4779 segundos\n",
      "POC for Random Forest Regressor ... 40.4341 segundos\n",
      "POC for Gradient Boosting Regressor ... 29.9809 segundos\n",
      "POC for XGBoost Regressor ... 6.4282 segundos\n"
     ]
    },
    {
     "data": {
      "text/html": [
       "<div>\n",
       "<style scoped>\n",
       "    .dataframe tbody tr th:only-of-type {\n",
       "        vertical-align: middle;\n",
       "    }\n",
       "\n",
       "    .dataframe tbody tr th {\n",
       "        vertical-align: top;\n",
       "    }\n",
       "\n",
       "    .dataframe thead th {\n",
       "        text-align: right;\n",
       "    }\n",
       "</style>\n",
       "<table border=\"1\" class=\"dataframe\">\n",
       "  <thead>\n",
       "    <tr style=\"text-align: right;\">\n",
       "      <th></th>\n",
       "      <th>model</th>\n",
       "      <th>fit time</th>\n",
       "      <th>train RMSE</th>\n",
       "      <th>test RMSE</th>\n",
       "    </tr>\n",
       "  </thead>\n",
       "  <tbody>\n",
       "    <tr>\n",
       "      <th>0</th>\n",
       "      <td>Linear Regression</td>\n",
       "      <td>0.4779</td>\n",
       "      <td>30.6107</td>\n",
       "      <td>26.3417</td>\n",
       "    </tr>\n",
       "    <tr>\n",
       "      <th>1</th>\n",
       "      <td>Random Forest Regressor</td>\n",
       "      <td>40.4341</td>\n",
       "      <td>10.1301</td>\n",
       "      <td>23.6000</td>\n",
       "    </tr>\n",
       "    <tr>\n",
       "      <th>2</th>\n",
       "      <td>Gradient Boosting Regressor</td>\n",
       "      <td>29.9809</td>\n",
       "      <td>21.5453</td>\n",
       "      <td>23.0177</td>\n",
       "    </tr>\n",
       "    <tr>\n",
       "      <th>3</th>\n",
       "      <td>XGBoost Regressor</td>\n",
       "      <td>6.4282</td>\n",
       "      <td>11.1912</td>\n",
       "      <td>24.0768</td>\n",
       "    </tr>\n",
       "  </tbody>\n",
       "</table>\n",
       "</div>"
      ],
      "text/plain": [
       "                         model  fit time  train RMSE  test RMSE\n",
       "0            Linear Regression    0.4779     30.6107    26.3417\n",
       "1      Random Forest Regressor   40.4341     10.1301    23.6000\n",
       "2  Gradient Boosting Regressor   29.9809     21.5453    23.0177\n",
       "3            XGBoost Regressor    6.4282     11.1912    24.0768"
      ]
     },
     "metadata": {},
     "output_type": "display_data"
    }
   ],
   "source": []
  },
  {
   "cell_type": "markdown",
   "metadata": {},
   "source": [
    "---"
   ]
  }
 ],
 "metadata": {
  "kernelspec": {
   "display_name": "Python 3 (ipykernel)",
   "language": "python",
   "name": "python3"
  },
  "language_info": {
   "codemirror_mode": {
    "name": "ipython",
    "version": 3
   },
   "file_extension": ".py",
   "mimetype": "text/x-python",
   "name": "python",
   "nbconvert_exporter": "python",
   "pygments_lexer": "ipython3",
   "version": "3.9.7"
  }
 },
 "nbformat": 4,
 "nbformat_minor": 4
}
