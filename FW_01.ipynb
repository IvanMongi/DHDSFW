{
 "cells": [
  {
   "cell_type": "markdown",
   "id": "8801deb2-b8d5-4c8c-86cb-b80f42e8954a",
   "metadata": {
    "tags": []
   },
   "source": [
    "<div style=\"background-color: lightblue; padding: 30px;\">\n",
    "    \n",
    "# Digital House - Data Science a Distancia\n",
    "\n",
    "## Proyecto Final Integrador\n",
    "\n",
    "### Autores: Daniel Borrino, Ivan Mongi, Jessica Polakoff, Julio Tentor\n",
    "    \n",
    "<p style=\"text-align:right;\">Agosto 2022</p>\n",
    "\n",
    "---\n",
    "</div>    "
   ]
  },
  {
   "cell_type": "markdown",
   "id": "7b9f8ae3-9a0d-467f-a84e-74f1c6d33b1b",
   "metadata": {
    "tags": []
   },
   "source": [
    "---\n",
    "## Objetivo del Trabajo Final Integrador\n",
    "\n",
    "<h4 style=\"text-align:center;\">Demostrar que aprendimos conceptos y desarrollamos habilidades para obtener un modelo de aprendizaje automático que razonablemente predice un valor</h4>\n",
    "\n",
    "---\n",
    "### Contexto\n",
    "\n",
    "???\n",
    "---\n",
    "### Requisitos del Trabajo Final Integrador\n",
    "\n",
    "- Utilizar modelos de regresión o clasificación (es opcional)\n",
    "- Evaluar modelos mediante ensamble, bagging o boosting\n",
    "- Realizar selección de hiperparámetros\n",
    "- Implementar pipeline al menos con algunos pasos del preprocesamiento\n",
    "- Analizar importancia de características\n",
    "- Serializar el modelo con mejor desempeño\n",
    "\n",
    "---\n",
    "### Entregables del Trabajo Final Integrador\n",
    "#### Técnico (Jupyter Notebook)\n",
    "\n",
    "1. Introducción y planteo del problema\n",
    "2. Técnicas a utilizar y detalle del conjunto de datos\n",
    "3. Desarrollo del análisis, visualizaciones, resultados de modelos\n",
    "4. Detalle de hallazgos, conclusiones y recomendaciones\n",
    "\n",
    "#### Presentación (audiencia NO TÉCNICA)\n",
    "\n",
    "1. Resumen del problema\n",
    "2. Métodos utilizados\n",
    "3. Principales resultados\n",
    "\n",
    "---\n",
    "### Aspectos técnicos\n",
    "\n",
    "La notebook se ejecuta correctamente en una instalación estándar de Anaconda versión *4.13.0 build  3.21.6, Python 3.9.7*\n",
    "\n",
    "---"
   ]
  },
  {
   "cell_type": "markdown",
   "id": "def28530-eb63-46eb-8fd5-5df566131ff7",
   "metadata": {
    "tags": []
   },
   "source": []
  },
  {
   "cell_type": "markdown",
   "id": "5ed451d5-82d4-45fe-acaa-d4b1cabf93ae",
   "metadata": {
    "tags": []
   },
   "source": [
    "---\n",
    "\n",
    "#### Necessary libraries\n"
   ]
  },
  {
   "cell_type": "code",
   "execution_count": 1,
   "id": "2bdae5e1-b546-4eda-8a87-f453ecf6b358",
   "metadata": {
    "scrolled": true,
    "tags": []
   },
   "outputs": [],
   "source": [
    "import pandas as pd\n",
    "import numpy as np\n"
   ]
  },
  {
   "cell_type": "markdown",
   "id": "fc4fad71-032a-4bdf-96f8-742f4c10d7a5",
   "metadata": {
    "tags": []
   },
   "source": [
    "#### Style"
   ]
  },
  {
   "cell_type": "markdown",
   "id": "3e5220a2-b2bf-4879-ada8-d0972fbbfe1e",
   "metadata": {},
   "source": [
    "---\n",
    "\n",
    "### Useful functions\n"
   ]
  },
  {
   "cell_type": "markdown",
   "id": "53244b87-786f-4cf8-a680-1a867984b784",
   "metadata": {},
   "source": [
    "---\n",
    "\n"
   ]
  },
  {
   "cell_type": "markdown",
   "id": "d8b5f350-032a-4ae5-9aab-079e4d62045a",
   "metadata": {
    "jp-MarkdownHeadingCollapsed": true,
    "tags": []
   },
   "source": [
    "---\n",
    "<a id=\"Dataset\"></a>\n",
    "\n",
    "### Conjunto de datos - Dataset\n",
    "\n",
    "Los datos originales son de [Manhattan Chocolate Society](http://flavorsofcacao.com/mcs_index.html)\n",
    "\n",
    "El conjunto de datos se obtuvo de la [competencia en Datacamp](https://app.datacamp.com/learn/competitions/chocolate-bar-ratings) finalizada el 30 de junio de 2022.\n",
    "\n",
    "---\n",
    "\n",
    "*Las características en el conjunto de datos original son*:\n",
    "\n",
    "    - id                   : Identificador de la revisión de la barra de chocolate\n",
    "    \n",
    "\n",
    "*Codificación de ingredientes en la barra de chocolate*\n",
    "\n",
    "    - B  : Beans (grano)\n",
    "\n",
    "*Escala de clasificación de una barra de chocolate*\n",
    "\n",
    "    - 1.0  a 1.9  : Unpleasant (Desagradable)\n",
    "\n",
    "---\n"
   ]
  },
  {
   "cell_type": "markdown",
   "id": "aae3ee73-1424-4cd4-9ebe-11fa7ab79d84",
   "metadata": {
    "tags": []
   },
   "source": [
    "---\n",
    "<a id=\"Exploratory_data_analysis_01\"></a>\n",
    "### Exploración y análisis de datos básico del Conjunto de datos - Dataset\n",
    "---\n"
   ]
  },
  {
   "cell_type": "markdown",
   "id": "28ffc705-fdc6-43ad-89da-128461b4db02",
   "metadata": {},
   "source": [
    "---\n",
    "#### Observaciones sobre las características con valores nulos\n",
    "\n",
    "- Las características 'ingredients' y 'num_ingredients' corresponden a las mismas observaciones, de modo que 'ingredients' se completa con el **valor más frecuente** y 'num_ingredients' que corresponde al **número de valores diferentes de la característica 'ingredients'** se completa con dicho valor\n",
    "\n",
    "---"
   ]
  },
  {
   "cell_type": "markdown",
   "id": "c253bd0d-f628-4abc-a2c7-8393fa906e3f",
   "metadata": {
    "tags": []
   },
   "source": [
    "---\n",
    "#### Observaciones\n",
    "\n",
    "- Los valores de clasificación (raiting) se categorizan entre **menores y mayores o iguales a la moda**\n",
    "\n",
    "---"
   ]
  },
  {
   "cell_type": "markdown",
   "id": "35a597c1-8255-4b9c-9e25-32341172e589",
   "metadata": {
    "tags": []
   },
   "source": [
    "---\n",
    "#### Observaciones\n",
    "\n",
    "- Las características 'year_reviewed' e 'id' están **significativamente relacionadas** con un nivel de confianza del 95%\n",
    "- Es posible ignorar 'id'\n",
    "\n",
    "---"
   ]
  },
  {
   "cell_type": "markdown",
   "id": "eb97b4c3-0e49-4208-b43e-ad8eb947bb16",
   "metadata": {},
   "source": [
    "---\n",
    "#### Observaciones\n",
    "\n",
    "- La característica 'manufacturer' indica muchas compañías, al rededor de un quinto de las observaciones; **no parece ser representativo**\n",
    "- Las características 'company_location' y 'bean_origin' indican el país de la compañía y orígen del grano de cocoa; **¿son las mismas o diferentes?, ¿tienen alguna relación entre ellas y/o el valor de clasificación?**\n",
    "- La característica 'ingredients' presenta 21 combinaciones diferentes; **¿todas son representativas?, ¿existe una relación particular con el valor de clasificación?**\n",
    "---"
   ]
  },
  {
   "cell_type": "markdown",
   "id": "9e5e91be-024f-4f88-b395-714695ff924e",
   "metadata": {},
   "source": [
    "---"
   ]
  },
  {
   "cell_type": "markdown",
   "id": "ea989d47-e361-4dc1-8ff0-3c74815fda22",
   "metadata": {},
   "source": [
    "---"
   ]
  },
  {
   "cell_type": "markdown",
   "id": "c07d7b36-79dc-41c1-9a63-45a58e5179dc",
   "metadata": {
    "tags": []
   },
   "source": [
    "---\n",
    "### Evaluate base line models\n",
    "---"
   ]
  },
  {
   "cell_type": "code",
   "execution_count": null,
   "id": "e8ab2ca8-a5ba-4f83-84af-6805a9f4d12b",
   "metadata": {},
   "outputs": [],
   "source": []
  },
  {
   "cell_type": "markdown",
   "id": "f8a05ada-3f4c-4c3b-9269-8b1709a1f07d",
   "metadata": {},
   "source": [
    "---\n",
    "#### Observaciones *algo para decir ...*\n",
    "\n",
    "- ???\n",
    "\n",
    "---"
   ]
  },
  {
   "cell_type": "markdown",
   "id": "815a2eb3-bd37-423c-831f-93a5c11c9244",
   "metadata": {},
   "source": [
    "---"
   ]
  },
  {
   "cell_type": "markdown",
   "id": "a653d387-541b-4a3e-bce3-64e191765064",
   "metadata": {},
   "source": [
    "---\n",
    "\n"
   ]
  },
  {
   "cell_type": "markdown",
   "id": "d5080a39-9685-474f-9f83-f14f3b40d668",
   "metadata": {
    "tags": []
   },
   "source": [
    "---\n"
   ]
  }
 ],
 "metadata": {
  "kernelspec": {
   "display_name": "Python 3 (ipykernel)",
   "language": "python",
   "name": "python3"
  },
  "language_info": {
   "codemirror_mode": {
    "name": "ipython",
    "version": 3
   },
   "file_extension": ".py",
   "mimetype": "text/x-python",
   "name": "python",
   "nbconvert_exporter": "python",
   "pygments_lexer": "ipython3",
   "version": "3.9.7"
  }
 },
 "nbformat": 4,
 "nbformat_minor": 5
}
