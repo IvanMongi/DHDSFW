{
 "cells": [
  {
   "cell_type": "markdown",
   "id": "8801deb2-b8d5-4c8c-86cb-b80f42e8954a",
   "metadata": {
    "tags": []
   },
   "source": [
    "<div style=\"background-color: lightblue; padding: 30px;\">\n",
    "    \n",
    "# Digital House - Data Science a Distancia\n",
    "\n",
    "## Proyecto Final Integrador\n",
    "\n",
    "### Autores: Daniel Borrino, Ivan Mongi, Jessica Polakoff, Julio Tentor\n",
    "    \n",
    "<p style=\"text-align:right;\">Agosto 2022</p>\n",
    "\n",
    "---\n",
    "</div>    "
   ]
  },
  {
   "cell_type": "markdown",
   "id": "c0e1053e-fc48-4024-917f-97998848b0ff",
   "metadata": {
    "tags": []
   },
   "source": [
    "---\n",
    "## Objetivo del Trabajo Final Integrador\n",
    "\n",
    "<h4 style=\"text-align:center;\">Demostrar que aprendimos conceptos y desarrollamos habilidades para obtener un modelo de aprendizaje automático que razonablemente predice un valor</h4>\n",
    "\n",
    "---\n",
    "### Contexto\n",
    "\n",
    "???\n",
    "---"
   ]
  },
  {
   "cell_type": "markdown",
   "id": "af1ce1b4-3630-44c8-831e-d96e5b69a8f6",
   "metadata": {
    "tags": []
   },
   "source": [
    "---\n",
    "### Requisitos del Trabajo Final Integrador\n",
    "\n",
    "- Utilizar modelos de regresión o clasificación (es opcional)\n",
    "- Evaluar modelos mediante ensemble, bagging o boosting\n",
    "- Realizar selección de hiperparámetros\n",
    "- Implementar pipeline al menos con algunos pasos del preprocesamiento\n",
    "- Analizar importancia de características\n",
    "- Serializar el modelo con mejor desempeño\n",
    "\n",
    "---\n",
    "### Entregables del Trabajo Final Integrador\n",
    "#### Técnico (Jupyter Notebook)\n",
    "\n",
    "1. Introducción y planteo del problema\n",
    "2. Técnicas a utilizar y detalle del conjunto de datos\n",
    "3. Desarrollo del análisis, visualizaciones, resultados de modelos\n",
    "4. Detalle de hallazgos, conclusiones y recomendaciones\n",
    "\n",
    "#### Presentación (audiencia NO TÉCNICA)\n",
    "\n",
    "1. Resumen del problema\n",
    "2. Métodos utilizados\n",
    "3. Principales resultados\n",
    "\n",
    "---\n",
    "### Aspectos técnicos\n",
    "\n",
    "La notebook se ejecuta correctamente en una instalación estándar de Anaconda versión *4.13.0 build  3.21.6, Python 3.9.7*\n",
    "\n",
    "También hacen falta las siguientes librerías:\n",
    "\n",
    "- [XGBoost](https://xgboost.readthedocs.io/en/stable/install.html)\n",
    "\n",
    "\n",
    "---"
   ]
  },
  {
   "cell_type": "markdown",
   "id": "def28530-eb63-46eb-8fd5-5df566131ff7",
   "metadata": {
    "tags": []
   },
   "source": [
    "\n",
    "---"
   ]
  },
  {
   "cell_type": "markdown",
   "id": "5ed451d5-82d4-45fe-acaa-d4b1cabf93ae",
   "metadata": {
    "tags": []
   },
   "source": [
    "---\n",
    "<a id=\"NecessaryLibraries\"></a>\n",
    "\n",
    "#### Necessary libraries\n"
   ]
  },
  {
   "cell_type": "code",
   "execution_count": 1,
   "id": "2bdae5e1-b546-4eda-8a87-f453ecf6b358",
   "metadata": {
    "scrolled": true,
    "tags": []
   },
   "outputs": [],
   "source": [
    "# imprescindible\n",
    "import pandas as pd\n",
    "import numpy as np\n",
    "\n",
    "# to avoid some warnings messages\n",
    "import warnings\n",
    "warnings.filterwarnings('ignore')\n",
    "\n",
    "# to draw some graphs\n",
    "import seaborn as sns\n",
    "import matplotlib.pyplot as plt\n",
    "\n",
    "# set seaborn and matplotlib default theme\n",
    "sns.set_theme()\n",
    "_sns_plotting_contex_ = sns.plotting_context()\n",
    "sns.plotting_context('poster')\n",
    "\n",
    "# set seaborn and matplotlib style to ...\n",
    "# plt.style.use('classic')\n",
    "sns.mpl.rcParams['axes.titlesize'] = 18\n",
    "sns.mpl.rcParams['axes.labelsize'] = 14\n",
    "\n",
    "# to use HTML codes within IPpython.display function\n",
    "from IPython.display import HTML\n",
    "\n"
   ]
  },
  {
   "cell_type": "markdown",
   "id": "fc4fad71-032a-4bdf-96f8-742f4c10d7a5",
   "metadata": {
    "tags": []
   },
   "source": [
    "### ???"
   ]
  },
  {
   "cell_type": "markdown",
   "id": "3e5220a2-b2bf-4879-ada8-d0972fbbfe1e",
   "metadata": {},
   "source": [
    "---\n",
    "<a id=\"UsefulFunctions\"></a>\n",
    "\n",
    "### Funciones útiles\n"
   ]
  },
  {
   "cell_type": "code",
   "execution_count": 19,
   "id": "751c4fc2-2419-4638-bdc1-b4349df99055",
   "metadata": {},
   "outputs": [],
   "source": [
    "def blogData_train_read() :\n",
    "    u''' Reads and prepare data from blog feedback data train set\n",
    "    \n",
    "    '''\n",
    "\n",
    "    data = pd.read_csv(\"./data/blogData_train.csv\", header=None)\n",
    "    data.drop_duplicates(inplace=True)\n",
    "    data.reset_index(drop=True, inplace=True)\n",
    "    \n",
    "    header = pd.read_csv(\"./data/blogData_label.csv\", header=None)\n",
    "    header = list(header[0])\n",
    "    \n",
    "    if len(header) != data.shape[1] :\n",
    "        raise Exception('Los encabezados y la cantidad de características NO COINCIDE !!!')\n",
    "\n",
    "    data.columns = header\n",
    "    \n",
    "    return data\n"
   ]
  },
  {
   "cell_type": "code",
   "execution_count": null,
   "id": "be216f25-0d4a-4bf6-a3bf-22891cdded98",
   "metadata": {},
   "outputs": [],
   "source": [
    "def blogData_features(data) :\n",
    "    u''' Create a dictionary with some keys associates to list of features in the final work dataframe\n",
    "    \n",
    "    args:\n",
    "        data : DataFrame\n",
    "    \n",
    "    return:\n",
    "        dictionary with util features names\n",
    "    \n",
    "    '''\n",
    "    columns = list(data.columns)\n",
    "\n",
    "    features = dict()\n",
    "\n",
    "    features['sd_nc_total_before_BT'] = columns[0:5]\n",
    "    features['sd_nc_24_before_BT'] = columns[5:10]\n",
    "    features['sd_nc_between_24_48'] = columns[10:15]\n",
    "    features['sd_nc_first_24_BT'] = columns[15:20]\n",
    "    features['sd_nc_diff_24_48'] = columns[20:25]\n",
    "    \n",
    "    features['sd_nl_total_before_BT'] = columns[25:30]\n",
    "    features['sd_nl_24_before_BT'] = columns[30:35]\n",
    "    features['sd_nl_between_24_48'] = columns[35:40]\n",
    "    features['sd_nl_first_24_BT'] = columns[40:45]\n",
    "    features['sd_nl_diff_24_48'] = columns[45:50]\n",
    "    \n",
    "    features['nc_total_before_BT'] = columns[50:51]\n",
    "    features['nc_24_before_BT'] = columns[51:52]\n",
    "    features['nc_between_24_48'] = columns[52:53]\n",
    "    features['nc_first_24_BT'] = columns[53:54]\n",
    "    features['nc_diff_24_48'] = columns[54:55]\n",
    "    \n",
    "    features['nl_total_before_BT'] = columns[55:56]\n",
    "    features['nl_24_before_BT'] = columns[56:57]\n",
    "    features['nl_between_24_48'] = columns[57:58]\n",
    "    features['nl_first_24_BT'] = columns[58:59]\n",
    "    features['nl_diff_24_48'] = columns[59:60]\n",
    "    \n",
    "    features['nc'] = columns[50:55]\n",
    "    features['nl'] = columns[55:60]\n",
    "\n",
    "    features['timelength_post_BT'] = columns[60:61]\n",
    "    features['length_post'] = columns[61:62]\n",
    "\n",
    "    features['frequent_word'] = columns[62:262]\n",
    "\n",
    "    features['weekday_BT'] = columns[262:269]\n",
    "    features['weekday_post'] = columns[269:276]\n",
    "    features['parents'] = columns[276:280]\n",
    "    features['comments'] = columns[280:281]\n",
    "\n",
    "    return features\n"
   ]
  },
  {
   "cell_type": "code",
   "execution_count": 8,
   "id": "11310b31-721d-4dc9-88af-019b9233c0c7",
   "metadata": {
    "tags": []
   },
   "outputs": [],
   "source": [
    "\n",
    "\n",
    "def set_figure(row, col, suptitle=None) :\n",
    "    u''' Activate matplot figure setting size and super title\n",
    "    '''\n",
    "    fig = plt.figure(figsize=(row, col));\n",
    "    if suptitle != None :\n",
    "        fig.suptitle(suptitle, \n",
    "                     verticalalignment='center', fontsize='xx-large', fontweight='extra bold');\n",
    "    return fig\n",
    "\n",
    "\n",
    "def show_corr(data, target) :\n",
    "    u'''\n",
    "    '''\n",
    "    \n",
    "    corr = data.corr()\n",
    "    cols = corr[target].sort_values(ascending=False).keys()\n",
    "    \n",
    "    topc = corr.loc[cols, cols]\n",
    "    mask = np.zeros_like(topc)\n",
    "    mask[np.triu_indices_from(mask)] = True\n",
    "    \n",
    "    sns.heatmap(data=topc, \n",
    "                cmap=sns.diverging_palette(h_neg=350, h_pos=150, center='light', as_cmap=True), \n",
    "                center=0, linewidths=1, annot=True, fmt=\".3f\", cbar=False, mask=mask)\n",
    "\n",
    "    return"
   ]
  },
  {
   "cell_type": "markdown",
   "id": "53244b87-786f-4cf8-a680-1a867984b784",
   "metadata": {},
   "source": [
    "---\n",
    "\n"
   ]
  },
  {
   "cell_type": "markdown",
   "id": "d8b5f350-032a-4ae5-9aab-079e4d62045a",
   "metadata": {
    "jp-MarkdownHeadingCollapsed": true,
    "tags": []
   },
   "source": [
    "---\n",
    "<a id=\"DatasetDescription\"></a>\n",
    "\n",
    "### Descripción del Dataset\n",
    "\n",
    "Los datos originales se obtuvieron de [Machine Learning Repository](https://archive.ics.uci.edu/ml/datasets/BlogFeedback) que corresponden a la publicación de Kristian Buza (2012) sobre [Feedback Prediction for Blogs](http://cs.bme.hu/~buza/pdfs/gfkl2012_blogs.pdf)\n",
    "\n",
    "---\n",
    "\n",
    "El conjunto de datos se compone de 281 características y 49203 observaciones útiles, no duplicadas\n",
    "\n",
    "---\n",
    "*Las características son*:\n",
    "\n",
    "- 0..49: Media, desviación estándar, mínimo, máximo y mediana de cada una de las características 50 a 59 del origen o sitio de las publicaciones. Se entiende que origen o sitio es la página web en la que se encuentra la publicación\n",
    "- 50: Número total de comentarios antes de la fecha límite\n",
    "- 51: Número de comentarios en las últimas 24 horas antes de la fecha límite\n",
    "- 52: Número de comentarios en el período de tiempo transcurrido entre las 48 y 24 horas antes de la fecha límite\n",
    "- 53: Número de comentarios en las primeras 24 horas después de realizar la publicación pero antes de de la fecha límite\n",
    "- 54: Diferencia entre las características 51 y 52\n",
    "- 55…59: Las mismas características indicadas para 50..54 pero referidas al número de enlaces (trackbacks)\n",
    "- 60: Cantidad de “tiempo” entre el momento en que se realizó la publicación y la fecha límite\n",
    "- 61: Longitud del texto de la publicación\n",
    "- 62…261: Indicador binario para las 200 palabras más frecuentes en el texto de la publicación\n",
    "- 262…268: Indicador binario del día de la semana (lunes a domingo) de la fecha límite\n",
    "- 269…275: Indicador binario del día de la semana (lunes a domingo) de la fecha de publicación\n",
    "- 276: Número de páginas padres, se considera página padre cuando la publicación es una réplica (trackback) de ella\n",
    "- 277…279: Mínimo, máximo y media de comentarios en la página padre\n",
    "- 280: Número de comentarios en las siguientes 24 horas de la fecha límite\n",
    "\n",
    "---\n"
   ]
  },
  {
   "cell_type": "markdown",
   "id": "aae3ee73-1424-4cd4-9ebe-11fa7ab79d84",
   "metadata": {
    "tags": []
   },
   "source": [
    "---\n",
    "<a id=\"ExploratoryDataAnalysis_1\"></a>\n",
    "\n",
    "### Exploración y Análisis de Datos Básico \n",
    "---\n"
   ]
  },
  {
   "cell_type": "markdown",
   "id": "c253bd0d-f628-4abc-a2c7-8393fa906e3f",
   "metadata": {
    "tags": []
   },
   "source": [
    "---\n",
    "#### Observaciones\n",
    "\n",
    "- ???\n",
    "\n",
    "\n",
    "---"
   ]
  },
  {
   "cell_type": "markdown",
   "id": "9e5e91be-024f-4f88-b395-714695ff924e",
   "metadata": {},
   "source": [
    "---"
   ]
  },
  {
   "cell_type": "markdown",
   "id": "ea989d47-e361-4dc1-8ff0-3c74815fda22",
   "metadata": {},
   "source": [
    "---"
   ]
  },
  {
   "cell_type": "markdown",
   "id": "c07d7b36-79dc-41c1-9a63-45a58e5179dc",
   "metadata": {
    "tags": []
   },
   "source": [
    "---\n",
    "### Evaluate base line models\n",
    "---"
   ]
  },
  {
   "cell_type": "code",
   "execution_count": null,
   "id": "e8ab2ca8-a5ba-4f83-84af-6805a9f4d12b",
   "metadata": {},
   "outputs": [],
   "source": []
  },
  {
   "cell_type": "markdown",
   "id": "f8a05ada-3f4c-4c3b-9269-8b1709a1f07d",
   "metadata": {},
   "source": [
    "---\n",
    "#### Observaciones *algo para decir ...*\n",
    "\n",
    "- ???\n",
    "\n",
    "---"
   ]
  },
  {
   "cell_type": "markdown",
   "id": "815a2eb3-bd37-423c-831f-93a5c11c9244",
   "metadata": {},
   "source": [
    "---"
   ]
  },
  {
   "cell_type": "markdown",
   "id": "a653d387-541b-4a3e-bce3-64e191765064",
   "metadata": {},
   "source": [
    "---\n",
    "\n"
   ]
  },
  {
   "cell_type": "markdown",
   "id": "d5080a39-9685-474f-9f83-f14f3b40d668",
   "metadata": {
    "tags": []
   },
   "source": [
    "---\n"
   ]
  }
 ],
 "metadata": {
  "kernelspec": {
   "display_name": "Python 3 (ipykernel)",
   "language": "python",
   "name": "python3"
  },
  "language_info": {
   "codemirror_mode": {
    "name": "ipython",
    "version": 3
   },
   "file_extension": ".py",
   "mimetype": "text/x-python",
   "name": "python",
   "nbconvert_exporter": "python",
   "pygments_lexer": "ipython3",
   "version": "3.9.7"
  }
 },
 "nbformat": 4,
 "nbformat_minor": 5
}
