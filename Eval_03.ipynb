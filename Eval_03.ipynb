{
 "cells": [
  {
   "cell_type": "code",
   "execution_count": 1,
   "metadata": {},
   "outputs": [],
   "source": [
    "# imprescindible\n",
    "import pandas as pd\n",
    "import numpy as np\n",
    "\n",
    "# to avoid some warnings messages\n",
    "import warnings\n",
    "warnings.filterwarnings('ignore')\n",
    "\n",
    "# to draw some graphs\n",
    "import seaborn as sns\n",
    "import matplotlib.pyplot as plt\n",
    "\n",
    "# set seaborn and matplotlib default theme\n",
    "sns.set_theme()\n",
    "_sns_plotting_contex_ = sns.plotting_context()\n",
    "sns.plotting_context('poster')\n",
    "\n",
    "# set seaborn and matplotlib style to ...\n",
    "# plt.style.use('classic')\n",
    "sns.mpl.rcParams['axes.titlesize'] = 18\n",
    "sns.mpl.rcParams['axes.labelsize'] = 14\n",
    "\n",
    "# to use HTML codes within IPpython.display function\n",
    "from IPython.display import HTML\n",
    "\n"
   ]
  },
  {
   "cell_type": "markdown",
   "metadata": {},
   "source": [
    "### Data"
   ]
  },
  {
   "cell_type": "code",
   "execution_count": 2,
   "metadata": {},
   "outputs": [],
   "source": [
    "def blogData_train_read() :\n",
    "    u''' Reads and prepare data from blog feedback data train set\n",
    "    \n",
    "    '''\n",
    "\n",
    "    data = pd.read_csv(\"./data/blogData_train.csv\", header=None)\n",
    "    data.drop_duplicates(inplace=True)\n",
    "    data.reset_index(drop=True, inplace=True)\n",
    "    \n",
    "#     header = pd.read_csv(\"./data/blogData_label.csv\", header=None)\n",
    "#     header = list(header[0])\n",
    "    \n",
    "#     if len(header) != data.shape[1] :\n",
    "#         raise Exception('Los encabezados y la cantidad de características NO COINCIDE !!!')\n",
    "\n",
    "#     data.columns = header\n",
    "    \n",
    "    return data\n"
   ]
  },
  {
   "cell_type": "code",
   "execution_count": 3,
   "metadata": {
    "tags": []
   },
   "outputs": [],
   "source": [
    "import os"
   ]
  },
  {
   "cell_type": "markdown",
   "metadata": {},
   "source": [
    "---"
   ]
  },
  {
   "cell_type": "code",
   "execution_count": 4,
   "metadata": {},
   "outputs": [],
   "source": [
    "ROUND = lambda v: round(v, 4)"
   ]
  },
  {
   "cell_type": "markdown",
   "metadata": {},
   "source": [
    "---"
   ]
  },
  {
   "cell_type": "code",
   "execution_count": 5,
   "metadata": {},
   "outputs": [],
   "source": [
    "\n",
    "from sklearn.preprocessing import StandardScaler\n",
    "import xgboost as xgb\n",
    "from sklearn.metrics import mean_squared_error\n"
   ]
  },
  {
   "cell_type": "markdown",
   "metadata": {},
   "source": [
    "---"
   ]
  },
  {
   "cell_type": "markdown",
   "metadata": {},
   "source": [
    "---"
   ]
  },
  {
   "cell_type": "code",
   "execution_count": 6,
   "metadata": {},
   "outputs": [
    {
     "name": "stdout",
     "output_type": "stream",
     "text": [
      "Entrenando modelo XGBRegressor L1 y L2 ...\n"
     ]
    }
   ],
   "source": [
    "def evaluate_model() :\n",
    "    u'''\n",
    "    '''\n",
    "\n",
    "# ---    \n",
    "    class Eval_Estimator :\n",
    "        u'''\n",
    "        '''\n",
    "\n",
    "        def __init__(self, name, estimator, params=None) :\n",
    "            self.name = name\n",
    "            self.estimator = estimator\n",
    "            self.params = params\n",
    "\n",
    "            return        \n",
    "# ---\n",
    "    data_raw = blogData_train_read()\n",
    "    # test_raw = blogData_test_read()\n",
    "\n",
    "    X_train = data_raw.iloc[:,0:280]\n",
    "    y_train = data_raw.iloc[:,-1].copy()\n",
    "\n",
    "    # X_test = test_raw.iloc[:,0:280]\n",
    "    # y_test = test_raw.iloc[:,-1].copy()\n",
    "\n",
    "    # X_train = X_train.iloc[:, 0:62].copy()\n",
    "    # X_test = X_test.iloc[:, 0:62].copy()\n",
    "\n",
    "    scaler = StandardScaler().fit(X_train)\n",
    "    X_train = scaler.transform(X_train)\n",
    "    # X_test = scaler.transform(X_test)\n",
    "# ---\n",
    "    model = Eval_Estimator(\n",
    "        name='XGBRegressor L1 y L2', \n",
    "        estimator=xgb.XGBRegressor(), \n",
    "        params={\n",
    "            'eval_metric' : 'rmse', # root mean square error\n",
    "            'gamma': 1, # (min_split_loss) minimum loss reduction\n",
    "            'learning_rate': 0.2, # (eta) step size shrinkage\n",
    "            'max_depth': 8, # maximum depth of tree\n",
    "            # 'max_delta_step' : 0.5, # for classification extremely imbalanced\n",
    "            'n_estimators': 1000, \n",
    "            'n_jobs': -2, # jobs in parallel -2 : all processors minus one\n",
    "            'objective' : 'reg:squarederror', # regression with squared loss\n",
    "            'random_state': 127, \n",
    "            'reg_alpha': 1000, # (alpha) L1 regularization\n",
    "            'reg_lambda': 1000, # (lambda) L2 regularization\n",
    "            'subsample' : 0.1, # prevents overfitting\n",
    "        }\n",
    "    )\n",
    "# ---\n",
    "    model.estimator.set_params(**model.params)\n",
    "    print('Entrenando modelo', model.name, '...')\n",
    "    model.estimator.fit(X_train, y_train)\n",
    "# ---\n",
    "    class Eval_TestCase :\n",
    "        u'''\n",
    "        '''\n",
    "        def __init__(self, case, data) :\n",
    "            self.case = case\n",
    "            self.data = data\n",
    "            return    \n",
    "# ---\n",
    "    filepath = './data/test/'\n",
    "    filelist = [os.path.join(filepath, filename) for filename in os.listdir(filepath) if os.path.isfile(os.path.join(filepath, filename))]\n",
    "\n",
    "    caselist = []\n",
    "    for filename in filelist :\n",
    "        temp_raw = pd.read_csv(filename, header=None)\n",
    "        temp_raw.drop_duplicates(inplace=True)\n",
    "        \n",
    "        pos = filename.index('2012')\n",
    "        caselist.append( Eval_TestCase(filename[pos: pos+10], temp_raw) )\n",
    "# ---\n",
    "    results = pd.DataFrame(columns=['case', 'count', 'y mean', 'y std', 'y min', 'y max', 'RMSE'])\n",
    "\n",
    "    for e in caselist :\n",
    "        X = e.data.iloc[:,0:280]\n",
    "        y = e.data.iloc[:,-1]\n",
    "        X = scaler.transform(X)\n",
    "        p = model.estimator.predict(X)\n",
    "        rmse = ROUND(np.sqrt(mean_squared_error(y, p)))\n",
    "\n",
    "        results = results.append(\n",
    "            pd.Series(\n",
    "                data=[e.case, \n",
    "                      y.shape[0], \n",
    "                      ROUND(y.mean()), \n",
    "                      ROUND(y.std()), \n",
    "                      ROUND(y.min()), \n",
    "                      ROUND(y.max()), \n",
    "                      rmse\n",
    "                     ], \n",
    "                index=results.columns), \n",
    "            ignore_index=True\n",
    "        )\n",
    "        \n",
    "    return results\n",
    "# ---\n",
    "results = evaluate_model()"
   ]
  },
  {
   "cell_type": "code",
   "execution_count": 20,
   "metadata": {
    "jupyter": {
     "source_hidden": true
    },
    "tags": []
   },
   "outputs": [
    {
     "data": {
      "text/html": [
       "<div>\n",
       "<style scoped>\n",
       "    .dataframe tbody tr th:only-of-type {\n",
       "        vertical-align: middle;\n",
       "    }\n",
       "\n",
       "    .dataframe tbody tr th {\n",
       "        vertical-align: top;\n",
       "    }\n",
       "\n",
       "    .dataframe thead th {\n",
       "        text-align: right;\n",
       "    }\n",
       "</style>\n",
       "<table border=\"1\" class=\"dataframe\">\n",
       "  <thead>\n",
       "    <tr style=\"text-align: right;\">\n",
       "      <th></th>\n",
       "      <th>case</th>\n",
       "      <th>count</th>\n",
       "      <th>y mean</th>\n",
       "      <th>y std</th>\n",
       "      <th>y min</th>\n",
       "      <th>y max</th>\n",
       "      <th>RMSE</th>\n",
       "    </tr>\n",
       "  </thead>\n",
       "  <tbody>\n",
       "    <tr>\n",
       "      <th>4</th>\n",
       "      <td>2012.02.05</td>\n",
       "      <td>91</td>\n",
       "      <td>5.4066</td>\n",
       "      <td>32.2180</td>\n",
       "      <td>0.0</td>\n",
       "      <td>294.0</td>\n",
       "      <td>14.7515</td>\n",
       "    </tr>\n",
       "    <tr>\n",
       "      <th>40</th>\n",
       "      <td>2012.03.12</td>\n",
       "      <td>84</td>\n",
       "      <td>4.9524</td>\n",
       "      <td>17.0781</td>\n",
       "      <td>0.0</td>\n",
       "      <td>93.0</td>\n",
       "      <td>14.7889</td>\n",
       "    </tr>\n",
       "    <tr>\n",
       "      <th>15</th>\n",
       "      <td>2012.02.16</td>\n",
       "      <td>137</td>\n",
       "      <td>6.8832</td>\n",
       "      <td>40.0274</td>\n",
       "      <td>0.0</td>\n",
       "      <td>452.0</td>\n",
       "      <td>33.8244</td>\n",
       "    </tr>\n",
       "    <tr>\n",
       "      <th>1</th>\n",
       "      <td>2012.02.02</td>\n",
       "      <td>130</td>\n",
       "      <td>6.0462</td>\n",
       "      <td>31.6323</td>\n",
       "      <td>0.0</td>\n",
       "      <td>325.0</td>\n",
       "      <td>18.6974</td>\n",
       "    </tr>\n",
       "    <tr>\n",
       "      <th>31</th>\n",
       "      <td>2012.03.03</td>\n",
       "      <td>128</td>\n",
       "      <td>2.3516</td>\n",
       "      <td>15.6319</td>\n",
       "      <td>0.0</td>\n",
       "      <td>171.0</td>\n",
       "      <td>17.6127</td>\n",
       "    </tr>\n",
       "  </tbody>\n",
       "</table>\n",
       "</div>"
      ],
      "text/plain": [
       "          case count  y mean    y std  y min  y max     RMSE\n",
       "4   2012.02.05    91  5.4066  32.2180    0.0  294.0  14.7515\n",
       "40  2012.03.12    84  4.9524  17.0781    0.0   93.0  14.7889\n",
       "15  2012.02.16   137  6.8832  40.0274    0.0  452.0  33.8244\n",
       "1   2012.02.02   130  6.0462  31.6323    0.0  325.0  18.6974\n",
       "31  2012.03.03   128  2.3516  15.6319    0.0  171.0  17.6127"
      ]
     },
     "metadata": {},
     "output_type": "display_data"
    }
   ],
   "source": [
    "display(results.sample(5))"
   ]
  },
  {
   "cell_type": "code",
   "execution_count": 21,
   "metadata": {},
   "outputs": [
    {
     "data": {
      "text/html": [
       "<div>\n",
       "<style scoped>\n",
       "    .dataframe tbody tr th:only-of-type {\n",
       "        vertical-align: middle;\n",
       "    }\n",
       "\n",
       "    .dataframe tbody tr th {\n",
       "        vertical-align: top;\n",
       "    }\n",
       "\n",
       "    .dataframe thead th {\n",
       "        text-align: right;\n",
       "    }\n",
       "</style>\n",
       "<table border=\"1\" class=\"dataframe\">\n",
       "  <thead>\n",
       "    <tr style=\"text-align: right;\">\n",
       "      <th></th>\n",
       "      <th>count</th>\n",
       "      <th>mean</th>\n",
       "      <th>std</th>\n",
       "      <th>min</th>\n",
       "      <th>25%</th>\n",
       "      <th>50%</th>\n",
       "      <th>75%</th>\n",
       "      <th>max</th>\n",
       "    </tr>\n",
       "  </thead>\n",
       "  <tbody>\n",
       "    <tr>\n",
       "      <th>RMSE</th>\n",
       "      <td>60.0</td>\n",
       "      <td>21.01826</td>\n",
       "      <td>9.549356</td>\n",
       "      <td>5.3397</td>\n",
       "      <td>13.5861</td>\n",
       "      <td>18.89485</td>\n",
       "      <td>26.362575</td>\n",
       "      <td>44.9422</td>\n",
       "    </tr>\n",
       "  </tbody>\n",
       "</table>\n",
       "</div>"
      ],
      "text/plain": [
       "      count      mean       std     min      25%       50%        75%      max\n",
       "RMSE   60.0  21.01826  9.549356  5.3397  13.5861  18.89485  26.362575  44.9422"
      ]
     },
     "metadata": {},
     "output_type": "display_data"
    }
   ],
   "source": [
    "display(results[['RMSE']].describe().transpose())"
   ]
  }
 ],
 "metadata": {
  "kernelspec": {
   "display_name": "Python 3 (ipykernel)",
   "language": "python",
   "name": "python3"
  },
  "language_info": {
   "codemirror_mode": {
    "name": "ipython",
    "version": 3
   },
   "file_extension": ".py",
   "mimetype": "text/x-python",
   "name": "python",
   "nbconvert_exporter": "python",
   "pygments_lexer": "ipython3",
   "version": "3.9.7"
  }
 },
 "nbformat": 4,
 "nbformat_minor": 4
}
