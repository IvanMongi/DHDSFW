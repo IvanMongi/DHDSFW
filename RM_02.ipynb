{
 "cells": [
  {
   "cell_type": "code",
   "execution_count": 1,
   "metadata": {},
   "outputs": [],
   "source": [
    "# imprescindible\n",
    "import pandas as pd\n",
    "import numpy as np\n",
    "\n",
    "# to avoid some warnings messages\n",
    "import warnings\n",
    "warnings.filterwarnings('ignore')\n",
    "\n",
    "# to draw some graphs\n",
    "import seaborn as sns\n",
    "import matplotlib.pyplot as plt\n",
    "\n",
    "# set seaborn and matplotlib default theme\n",
    "sns.set_theme()\n",
    "_sns_plotting_contex_ = sns.plotting_context()\n",
    "sns.plotting_context('poster')\n",
    "\n",
    "# set seaborn and matplotlib style to ...\n",
    "# plt.style.use('classic')\n",
    "sns.mpl.rcParams['axes.titlesize'] = 18\n",
    "sns.mpl.rcParams['axes.labelsize'] = 14\n",
    "\n",
    "# to use HTML codes within IPpython.display function\n",
    "from IPython.display import HTML\n",
    "\n"
   ]
  },
  {
   "cell_type": "code",
   "execution_count": 2,
   "metadata": {},
   "outputs": [],
   "source": [
    "\n",
    "from sklearn.preprocessing import StandardScaler\n",
    "\n",
    "from sklearn.linear_model import LinearRegression\n",
    "from sklearn.ensemble import RandomForestRegressor\n",
    "from sklearn.ensemble import GradientBoostingRegressor\n",
    "\n",
    "from sklearn.metrics import mean_squared_error\n"
   ]
  },
  {
   "cell_type": "markdown",
   "metadata": {},
   "source": [
    "### Data"
   ]
  },
  {
   "cell_type": "code",
   "execution_count": 3,
   "metadata": {
    "scrolled": true
   },
   "outputs": [],
   "source": [
    "data_raw = pd.read_csv(\"./data/blogData_train.csv\", header=None)\n",
    "data_raw.drop_duplicates(inplace=True)"
   ]
  },
  {
   "cell_type": "code",
   "execution_count": 4,
   "metadata": {},
   "outputs": [
    {
     "data": {
      "text/plain": [
       "(49203, 281)"
      ]
     },
     "execution_count": 4,
     "metadata": {},
     "output_type": "execute_result"
    }
   ],
   "source": [
    "data_raw.shape"
   ]
  },
  {
   "cell_type": "code",
   "execution_count": 5,
   "metadata": {},
   "outputs": [],
   "source": [
    "X_train = data_raw.iloc[:,0:280]\n",
    "y_train = data_raw.iloc[:,-1]"
   ]
  },
  {
   "cell_type": "code",
   "execution_count": 6,
   "metadata": {},
   "outputs": [],
   "source": [
    "scaler = StandardScaler()\n",
    "scaler.fit(X_train)\n",
    "X_train = scaler.transform(X_train)"
   ]
  },
  {
   "cell_type": "code",
   "execution_count": 7,
   "metadata": {},
   "outputs": [],
   "source": [
    "RMSE = lambda v: round(np.sqrt(v), 4)\n",
    "\n",
    "class Model :\n",
    "    def __init__(self, name, model) :\n",
    "        self.name = name\n",
    "        self.model = model\n",
    "        return    \n"
   ]
  },
  {
   "cell_type": "code",
   "execution_count": 8,
   "metadata": {},
   "outputs": [
    {
     "name": "stdout",
     "output_type": "stream",
     "text": [
      "Train target values              std : 38.4972\n",
      "Linear Regression                RMSE: 30.6107\n",
      "Random Forest Regressor          RMSE: 25.3854\n",
      "Gradient Boosting Regressor      RMSE: 21.5453\n"
     ]
    }
   ],
   "source": [
    "\n",
    "models = []\n",
    "models.append( Model('Linear Regression', \n",
    "                     LinearRegression() ) )\n",
    "\n",
    "models.append( Model('Random Forest Regressor', \n",
    "                     RandomForestRegressor(\n",
    "                         n_estimators=100, \n",
    "                         # criterion='squared_error', \n",
    "                         max_depth=3, \n",
    "                         bootstrap=True, \n",
    "                         n_jobs=-1, \n",
    "                         max_samples=0.3, \n",
    "                         random_state=127) \n",
    "                    ) )\n",
    "\n",
    "models.append( Model('Gradient Boosting Regressor', \n",
    "                     GradientBoostingRegressor(\n",
    "                         # loss='squared_error', \n",
    "                         learning_rate=0.1, \n",
    "                         n_estimators=100, \n",
    "                         subsample=1, \n",
    "                         criterion='friedman_mse', \n",
    "                         max_depth=3, \n",
    "                         random_state=127) \n",
    "                    ) )\n",
    "\n",
    "print('Train target values'.ljust(32), 'std :', round(y_train.std(), 4))\n",
    "for m in models :\n",
    "    m.model.fit(X_train, y_train)\n",
    "    y_pred = m.model.predict(X_train)\n",
    "    \n",
    "    print(m.name.ljust(32), 'RMSE:', RMSE(mean_squared_error(y_train, y_pred)))"
   ]
  },
  {
   "cell_type": "markdown",
   "metadata": {},
   "source": [
    "---"
   ]
  },
  {
   "cell_type": "code",
   "execution_count": 9,
   "metadata": {},
   "outputs": [],
   "source": [
    "import os"
   ]
  },
  {
   "cell_type": "code",
   "execution_count": 10,
   "metadata": {},
   "outputs": [
    {
     "data": {
      "text/plain": [
       "(7036, 281)"
      ]
     },
     "execution_count": 10,
     "metadata": {},
     "output_type": "execute_result"
    }
   ],
   "source": [
    "\n",
    "filepath = './data/test/'\n",
    "filelist = [os.path.join(filepath, filename) for filename in os.listdir(filepath) if os.path.isfile(os.path.join(filepath, filename))]\n",
    "\n",
    "test_raw = pd.DataFrame()\n",
    "\n",
    "for filename in filelist :\n",
    "    temp_raw = pd.read_csv(filename, header=None)\n",
    "    temp_raw.drop_duplicates(inplace=True)\n",
    "    test_raw = test_raw.append(temp_raw)\n",
    "\n",
    "test_raw.shape"
   ]
  },
  {
   "cell_type": "code",
   "execution_count": 11,
   "metadata": {},
   "outputs": [
    {
     "name": "stdout",
     "output_type": "stream",
     "text": [
      "Linear Regression                RMSE: 26.3417\n",
      "Random Forest Regressor          RMSE: 23.9832\n",
      "Gradient Boosting Regressor      RMSE: 23.0803\n"
     ]
    }
   ],
   "source": [
    "X_test = test_raw.iloc[:,0:280]\n",
    "y_test = test_raw.iloc[:,-1]\n",
    "\n",
    "# using train scaler\n",
    "X_test = scaler.transform(X_test)\n",
    "\n",
    "for m in models :\n",
    "    y_pred = m.model.predict(X_test)\n",
    "\n",
    "    print(m.name.ljust(32), 'RMSE:', RMSE(mean_squared_error(y_test, y_pred)))"
   ]
  },
  {
   "cell_type": "code",
   "execution_count": 12,
   "metadata": {},
   "outputs": [],
   "source": [
    "def set_figure(row, col, suptitle=None) :\n",
    "    u''' Activate matplot figure setting size and super title\n",
    "    '''\n",
    "    fig = plt.figure(figsize=(row, col));\n",
    "    if suptitle != None :\n",
    "        fig.suptitle(suptitle, \n",
    "                     verticalalignment='center', fontsize='xx-large', fontweight='extra bold');\n",
    "    return fig"
   ]
  },
  {
   "cell_type": "code",
   "execution_count": 13,
   "metadata": {},
   "outputs": [
    {
     "data": {
      "text/html": [
       "<div>\n",
       "<style scoped>\n",
       "    .dataframe tbody tr th:only-of-type {\n",
       "        vertical-align: middle;\n",
       "    }\n",
       "\n",
       "    .dataframe tbody tr th {\n",
       "        vertical-align: top;\n",
       "    }\n",
       "\n",
       "    .dataframe thead th {\n",
       "        text-align: right;\n",
       "    }\n",
       "</style>\n",
       "<table border=\"1\" class=\"dataframe\">\n",
       "  <thead>\n",
       "    <tr style=\"text-align: right;\">\n",
       "      <th></th>\n",
       "      <th>comments</th>\n",
       "      <th>post_count</th>\n",
       "    </tr>\n",
       "  </thead>\n",
       "  <tbody>\n",
       "    <tr>\n",
       "      <th>0</th>\n",
       "      <td>0</td>\n",
       "      <td>31888</td>\n",
       "    </tr>\n",
       "    <tr>\n",
       "      <th>1</th>\n",
       "      <td>1</td>\n",
       "      <td>5427</td>\n",
       "    </tr>\n",
       "    <tr>\n",
       "      <th>2</th>\n",
       "      <td>2</td>\n",
       "      <td>2627</td>\n",
       "    </tr>\n",
       "    <tr>\n",
       "      <th>3</th>\n",
       "      <td>3</td>\n",
       "      <td>1515</td>\n",
       "    </tr>\n",
       "    <tr>\n",
       "      <th>4</th>\n",
       "      <td>4</td>\n",
       "      <td>1037</td>\n",
       "    </tr>\n",
       "    <tr>\n",
       "      <th>...</th>\n",
       "      <td>...</td>\n",
       "      <td>...</td>\n",
       "    </tr>\n",
       "    <tr>\n",
       "      <th>433</th>\n",
       "      <td>430</td>\n",
       "      <td>1</td>\n",
       "    </tr>\n",
       "    <tr>\n",
       "      <th>434</th>\n",
       "      <td>349</td>\n",
       "      <td>1</td>\n",
       "    </tr>\n",
       "    <tr>\n",
       "      <th>435</th>\n",
       "      <td>334</td>\n",
       "      <td>1</td>\n",
       "    </tr>\n",
       "    <tr>\n",
       "      <th>436</th>\n",
       "      <td>328</td>\n",
       "      <td>1</td>\n",
       "    </tr>\n",
       "    <tr>\n",
       "      <th>437</th>\n",
       "      <td>588</td>\n",
       "      <td>1</td>\n",
       "    </tr>\n",
       "  </tbody>\n",
       "</table>\n",
       "<p>438 rows × 2 columns</p>\n",
       "</div>"
      ],
      "text/plain": [
       "     comments  post_count\n",
       "0           0       31888\n",
       "1           1        5427\n",
       "2           2        2627\n",
       "3           3        1515\n",
       "4           4        1037\n",
       "..        ...         ...\n",
       "433       430           1\n",
       "434       349           1\n",
       "435       334           1\n",
       "436       328           1\n",
       "437       588           1\n",
       "\n",
       "[438 rows x 2 columns]"
      ]
     },
     "execution_count": 13,
     "metadata": {},
     "output_type": "execute_result"
    }
   ],
   "source": [
    "temp1 = pd.DataFrame(y_train.value_counts())\n",
    "temp1.reset_index(inplace=True)\n",
    "temp1.columns = ['comments', 'post_count']\n",
    "temp1 = temp1.astype({'comments':'int64'})\n",
    "temp1\n"
   ]
  },
  {
   "cell_type": "code",
   "execution_count": 14,
   "metadata": {},
   "outputs": [
    {
     "data": {
      "text/plain": [
       "<AxesSubplot:xlabel='post_count', ylabel='comments'>"
      ]
     },
     "execution_count": 14,
     "metadata": {},
     "output_type": "execute_result"
    },
    {
     "data": {
      "image/png": "[encoded data removed]",
      "text/plain": [
       "<Figure size 1728x720 with 1 Axes>"
      ]
     },
     "metadata": {},
     "output_type": "display_data"
    }
   ],
   "source": [
    "set_figure(24, 10, 'Comentarios y Publicaciones')\n",
    "sns.barplot(data=temp1[temp1['comments']>50], y='comments', x='post_count')"
   ]
  }
 ],
 "metadata": {
  "kernelspec": {
   "display_name": "Python 3 (ipykernel)",
   "language": "python",
   "name": "python3"
  },
  "language_info": {
   "codemirror_mode": {
    "name": "ipython",
    "version": 3
   },
   "file_extension": ".py",
   "mimetype": "text/x-python",
   "name": "python",
   "nbconvert_exporter": "python",
   "pygments_lexer": "ipython3",
   "version": "3.9.7"
  }
 },
 "nbformat": 4,
 "nbformat_minor": 4
}
